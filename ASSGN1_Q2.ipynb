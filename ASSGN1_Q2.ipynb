{
  "nbformat": 4,
  "nbformat_minor": 0,
  "metadata": {
    "colab": {
      "name": "ASSGN1_Q2",
      "provenance": [],
      "collapsed_sections": []
    },
    "kernelspec": {
      "name": "python3",
      "display_name": "Python 3"
    },
    "language_info": {
      "name": "python"
    }
  },
  "cells": [
    {
      "cell_type": "code",
      "execution_count": 2,
      "metadata": {
        "colab": {
          "base_uri": "https://localhost:8080/"
        },
        "id": "Jwf3tnvO4iVn",
        "outputId": "bec57b2a-7cbb-4654-d10e-1677ad284560"
      },
      "outputs": [
        {
          "output_type": "stream",
          "name": "stdout",
          "text": [
            "Mounted at /content/drive\n"
          ]
        }
      ],
      "source": [
        "from google.colab import drive\n",
        "drive.mount('/content/drive')\n"
      ]
    },
    {
      "cell_type": "code",
      "source": [
        "import pandas as pd\n",
        "import math\n",
        "import numpy as np\n",
        "import matplotlib.pyplot as plt\n",
        "import sklearn"
      ],
      "metadata": {
        "id": "TfCPDk_T547n"
      },
      "execution_count": 3,
      "outputs": []
    },
    {
      "cell_type": "code",
      "source": [
        "pip install openpyxl==3.0.9"
      ],
      "metadata": {
        "colab": {
          "base_uri": "https://localhost:8080/"
        },
        "id": "Aj0chtYVI8pU",
        "outputId": "f0453d5f-1c30-4414-bd43-5df3481f9a41"
      },
      "execution_count": 4,
      "outputs": [
        {
          "output_type": "stream",
          "name": "stdout",
          "text": [
            "Requirement already satisfied: openpyxl==3.0.9 in /usr/local/lib/python3.7/dist-packages (3.0.9)\n",
            "Requirement already satisfied: et-xmlfile in /usr/local/lib/python3.7/dist-packages (from openpyxl==3.0.9) (1.1.0)\n"
          ]
        }
      ]
    },
    {
      "cell_type": "markdown",
      "source": [
        "TRAINING DATA"
      ],
      "metadata": {
        "id": "H0q7oDTOJFac"
      }
    },
    {
      "cell_type": "code",
      "source": [
        "dataxtr = pd.read_csv('/content/drive/MyDrive/xtr.csv',header=None)\n",
        "dataytr = pd.read_csv('/content/drive/MyDrive/ytr.csv',header=None)"
      ],
      "metadata": {
        "id": "YivZaHRRI93W"
      },
      "execution_count": 5,
      "outputs": []
    },
    {
      "cell_type": "markdown",
      "source": [
        "TESTING DATA"
      ],
      "metadata": {
        "id": "1oX_Pqa0JKw5"
      }
    },
    {
      "cell_type": "code",
      "source": [
        "dataxte = pd.read_csv('/content/drive/MyDrive/xte.csv',header=None)\n",
        "datayte = pd.read_csv('/content/drive/MyDrive/yte.csv',header=None)\n"
      ],
      "metadata": {
        "id": "ccWuOIZPJM0U"
      },
      "execution_count": 6,
      "outputs": []
    },
    {
      "cell_type": "code",
      "source": [
        ""
      ],
      "metadata": {
        "id": "fE-FGHaEHDA1"
      },
      "execution_count": 6,
      "outputs": []
    },
    {
      "cell_type": "code",
      "source": [
        "X=dataxtr.values\n",
        "Y=dataytr.values\n",
        "Xte=dataxte.values\n",
        "Yte=datayte.values\n",
        "Yte1=Yte[:,0].reshape(Yte.shape[0],1)\n",
        "k=Xte.shape[0]"
      ],
      "metadata": {
        "id": "JpoM-ZWAeTn5"
      },
      "execution_count": 7,
      "outputs": []
    },
    {
      "cell_type": "code",
      "source": [
        "datan_x=dataxtr.values\n",
        "X1=datan_x[:,0].reshape(datan_x.shape[0],1)\n",
        "X2=datan_x[:,1].reshape(datan_x.shape[0],1)\n",
        "m=X1.shape[0]\n",
        "# print(m)\n",
        "# print(X1)"
      ],
      "metadata": {
        "id": "0Ceckq90lC4g"
      },
      "execution_count": 8,
      "outputs": []
    },
    {
      "cell_type": "code",
      "source": [
        "x1min=np.min(X1,axis=0)\n",
        "x1max=np.max(X1,axis=0)\n",
        "X1= (X1-x1min)/(x1max-x1min)"
      ],
      "metadata": {
        "id": "6lkiFhQalC1l"
      },
      "execution_count": 9,
      "outputs": []
    },
    {
      "cell_type": "code",
      "source": [
        "n=X2.shape[0]\n",
        "x2min=np.min(X2,axis=0)\n",
        "x2max=np.max(X2,axis=0)\n",
        "X2= (X2-x2min)/(x2max-x2min)\n",
        "# print(X1)\n",
        "# print(X2)"
      ],
      "metadata": {
        "id": "TtzWseO2lCyj"
      },
      "execution_count": 10,
      "outputs": []
    },
    {
      "cell_type": "code",
      "source": [
        "datan_y=dataytr.values\n",
        "y=datan_y\n",
        "\n",
        "ymin = np.min(y, axis = 0)\n",
        "ymax = np.max(y, axis = 0)\n",
        "y = (y- ymin)/(ymax-ymin)\n"
      ],
      "metadata": {
        "id": "1qI2E5rPo1P_"
      },
      "execution_count": 11,
      "outputs": []
    },
    {
      "cell_type": "code",
      "source": [
        "# print(ztr.shape)"
      ],
      "metadata": {
        "id": "nwk7EVKlK2EZ"
      },
      "execution_count": 12,
      "outputs": []
    },
    {
      "cell_type": "markdown",
      "source": [
        "**Making the Z matrix**"
      ],
      "metadata": {
        "id": "czBOH_gWpRuL"
      }
    },
    {
      "cell_type": "markdown",
      "source": [
        "for training data"
      ],
      "metadata": {
        "id": "cLRqBOolpX4N"
      }
    },
    {
      "cell_type": "code",
      "source": [
        "ztr=np.ones([m,1])\n",
        "ztr=np.append(ztr,X1,axis=1)\n",
        "ztr=np.append(ztr,X2,axis=1)\n",
        "ztr=np.append(ztr,X1**2,axis=1)\n",
        "ztr=np.append(ztr,X2**2,axis=1)\n",
        "ztr=np.append(ztr,X1*X2,axis=1)\n",
        "print(ztr)"
      ],
      "metadata": {
        "id": "-O2n4gIR2uVZ",
        "colab": {
          "base_uri": "https://localhost:8080/"
        },
        "outputId": "85a772f6-c1e8-4d8e-83a3-e2c5e0cb2e7b"
      },
      "execution_count": 13,
      "outputs": [
        {
          "output_type": "stream",
          "name": "stdout",
          "text": [
            "[[1.00000000e+00 5.13227513e-01 7.29927007e-02 2.63402480e-01\n",
            "  5.32793436e-03 3.74618623e-02]\n",
            " [1.00000000e+00 5.13227513e-01 7.44525547e-01 2.63402480e-01\n",
            "  5.54318291e-01 3.82110995e-01]\n",
            " [1.00000000e+00 5.13227513e-01 6.20437956e-01 2.63402480e-01\n",
            "  3.84943257e-01 3.18425829e-01]\n",
            " [1.00000000e+00 5.13227513e-01 0.00000000e+00 2.63402480e-01\n",
            "  0.00000000e+00 0.00000000e+00]\n",
            " [1.00000000e+00 5.13227513e-01 6.35036496e-01 2.63402480e-01\n",
            "  4.03271352e-01 3.25918202e-01]\n",
            " [1.00000000e+00 5.13227513e-01 2.91970803e-02 2.63402480e-01\n",
            "  8.52469498e-04 1.49847449e-02]\n",
            " [1.00000000e+00 5.13227513e-01 5.76642336e-01 2.63402480e-01\n",
            "  3.32516383e-01 2.95948712e-01]\n",
            " [1.00000000e+00 5.13227513e-01 6.42335766e-01 2.63402480e-01\n",
            "  4.12595237e-01 3.29664388e-01]\n",
            " [1.00000000e+00 5.13227513e-01 1.16788321e-01 2.63402480e-01\n",
            "  1.36395120e-02 5.99389796e-02]\n",
            " [1.00000000e+00 5.13227513e-01 6.49635036e-01 2.63402480e-01\n",
            "  4.22025681e-01 3.33410574e-01]\n",
            " [1.00000000e+00 5.13227513e-01 6.20437956e-01 2.63402480e-01\n",
            "  3.84943257e-01 3.18425829e-01]\n",
            " [1.00000000e+00 7.46031746e-01 8.02919708e-01 5.56563366e-01\n",
            "  6.44680058e-01 5.99003592e-01]\n",
            " [1.00000000e+00 9.78835979e-01 4.30656934e-01 9.58119873e-01\n",
            "  1.85465395e-01 4.21542502e-01]\n",
            " [1.00000000e+00 2.53968254e-01 2.48175182e-01 6.44998740e-02\n",
            "  6.15909212e-02 6.30286178e-02]\n",
            " [1.00000000e+00 2.11640212e-02 6.27737226e-01 4.47915792e-04\n",
            "  3.94054025e-01 1.32854439e-02]\n",
            " [1.00000000e+00 5.13227513e-01 8.10218978e-01 2.63402480e-01\n",
            "  6.56454792e-01 4.15826671e-01]\n",
            " [1.00000000e+00 7.46031746e-01 1.00000000e+00 5.56563366e-01\n",
            "  1.00000000e+00 7.46031746e-01]\n",
            " [1.00000000e+00 9.73544974e-01 4.45255474e-01 9.47789816e-01\n",
            "  1.98252438e-01 4.33476229e-01]\n",
            " [1.00000000e+00 2.11640212e-02 2.55474453e-01 4.47915792e-04\n",
            "  6.52671959e-02 5.40686672e-03]\n",
            " [1.00000000e+00 5.07936508e-01 6.42335766e-01 2.57999496e-01\n",
            "  4.12595237e-01 3.26265786e-01]\n",
            " [1.00000000e+00 7.35449735e-01 8.24817518e-01 5.40886313e-01\n",
            "  6.80323938e-01 6.06611826e-01]\n",
            " [1.00000000e+00 9.73544974e-01 1.00000000e+00 9.47789816e-01\n",
            "  1.00000000e+00 9.73544974e-01]\n",
            " [1.00000000e+00 2.69841270e-01 4.59854015e-01 7.28143109e-02\n",
            "  2.11465715e-01 1.24087591e-01]\n",
            " [1.00000000e+00 2.11640212e-02 2.84671533e-01 4.47915792e-04\n",
            "  8.10378816e-02 6.02479435e-03]\n",
            " [1.00000000e+00 5.13227513e-01 6.35036496e-01 2.63402480e-01\n",
            "  4.03271352e-01 3.25918202e-01]\n",
            " [1.00000000e+00 7.30158730e-01 8.10218978e-01 5.33131771e-01\n",
            "  6.56454792e-01 5.91588460e-01]\n",
            " [1.00000000e+00 9.62962963e-01 1.00000000e+00 9.27297668e-01\n",
            "  1.00000000e+00 9.62962963e-01]\n",
            " [1.00000000e+00 2.59259259e-01 4.52554745e-01 6.72153635e-02\n",
            "  2.04805797e-01 1.17329008e-01]\n",
            " [1.00000000e+00 2.11640212e-02 2.70072993e-01 4.47915792e-04\n",
            "  7.29394214e-02 5.71583053e-03]\n",
            " [1.00000000e+00 5.13227513e-01 6.13138686e-01 2.63402480e-01\n",
            "  3.75939048e-01 3.14679643e-01]\n",
            " [1.00000000e+00 7.56613757e-01 8.02919708e-01 5.72464377e-01\n",
            "  6.44680058e-01 6.07500097e-01]\n",
            " [1.00000000e+00 9.89417989e-01 9.81751825e-01 9.78947958e-01\n",
            "  9.63836646e-01 9.71362917e-01]\n",
            " [1.00000000e+00 2.59259259e-01 4.30656934e-01 6.72153635e-02\n",
            "  1.85465395e-01 1.11651798e-01]\n",
            " [1.00000000e+00 0.00000000e+00 2.51824818e-01 0.00000000e+00\n",
            "  6.34157387e-02 0.00000000e+00]\n",
            " [1.00000000e+00 5.13227513e-01 6.13138686e-01 2.63402480e-01\n",
            "  3.75939048e-01 3.14679643e-01]\n",
            " [1.00000000e+00 7.51322751e-01 7.99270073e-01 5.64485877e-01\n",
            "  6.38832650e-01 6.00509790e-01]\n",
            " [1.00000000e+00 9.78835979e-01 9.78102190e-01 9.58119873e-01\n",
            "  9.56683894e-01 9.57401614e-01]\n",
            " [1.00000000e+00 2.69841270e-01 4.37956204e-01 7.28143109e-02\n",
            "  1.91805637e-01 1.18178658e-01]\n",
            " [1.00000000e+00 1.58730159e-02 2.55474453e-01 2.51952633e-04\n",
            "  6.52671959e-02 4.05515004e-03]\n",
            " [1.00000000e+00 5.13227513e-01 8.61313869e-01 2.63402480e-01\n",
            "  7.41861580e-01 4.42049975e-01]\n",
            " [1.00000000e+00 5.13227513e-01 7.44525547e-01 2.63402480e-01\n",
            "  5.54318291e-01 3.82110995e-01]\n",
            " [1.00000000e+00 5.13227513e-01 6.05839416e-01 2.63402480e-01\n",
            "  3.67041398e-01 3.10933457e-01]\n",
            " [1.00000000e+00 5.13227513e-01 6.13138686e-01 2.63402480e-01\n",
            "  3.75939048e-01 3.14679643e-01]\n",
            " [1.00000000e+00 5.13227513e-01 6.05839416e-01 2.63402480e-01\n",
            "  3.67041398e-01 3.10933457e-01]\n",
            " [1.00000000e+00 5.13227513e-01 6.13138686e-01 2.63402480e-01\n",
            "  3.75939048e-01 3.14679643e-01]\n",
            " [1.00000000e+00 5.13227513e-01 5.91240876e-01 2.63402480e-01\n",
            "  3.49565773e-01 3.03441084e-01]\n",
            " [1.00000000e+00 7.67195767e-01 7.73722628e-01 5.88589345e-01\n",
            "  5.98646705e-01 5.93596725e-01]\n",
            " [1.00000000e+00 1.00000000e+00 9.56204380e-01 1.00000000e+00\n",
            "  9.14326815e-01 9.56204380e-01]\n",
            " [1.00000000e+00 2.80423280e-01 4.08759124e-01 7.86372162e-02\n",
            "  1.67084022e-01 1.14625574e-01]\n",
            " [1.00000000e+00 2.64550265e-02 2.26277372e-01 6.99868425e-04\n",
            "  5.12014492e-02 5.98617387e-03]\n",
            " [1.00000000e+00 5.13227513e-01 5.91240876e-01 2.63402480e-01\n",
            "  3.49565773e-01 3.03441084e-01]\n",
            " [1.00000000e+00 7.51322751e-01 7.73722628e-01 5.64485877e-01\n",
            "  5.98646705e-01 5.81315413e-01]\n",
            " [1.00000000e+00 9.84126984e-01 9.56204380e-01 9.68505921e-01\n",
            "  9.14326815e-01 9.41026532e-01]\n",
            " [1.00000000e+00 2.64550265e-01 4.08759124e-01 6.99868425e-02\n",
            "  1.67084022e-01 1.08137334e-01]\n",
            " [1.00000000e+00 1.58730159e-02 2.26277372e-01 2.51952633e-04\n",
            "  5.12014492e-02 3.59170432e-03]]\n"
          ]
        }
      ]
    },
    {
      "cell_type": "markdown",
      "source": [
        "for testing data"
      ],
      "metadata": {
        "id": "TAIEJsfzpZ-K"
      }
    },
    {
      "cell_type": "code",
      "source": [
        "zte=np.ones([m,1])\n",
        "zte=np.append(zte,X1,axis=1)\n",
        "zte=np.append(zte,X2,axis=1)\n",
        "zte=np.append(zte,X1**2,axis=1)\n",
        "zte=np.append(zte,X2**2,axis=1)\n",
        "zte=np.append(zte,X1*X2,axis=1)\n",
        "# print(zte)"
      ],
      "metadata": {
        "id": "w2-S939cdlUR"
      },
      "execution_count": 14,
      "outputs": []
    },
    {
      "cell_type": "code",
      "source": [
        "def cost_function(X,y,w):\n",
        "\n",
        "    hypothesis = np.dot(X,w.T)\n",
        "    J = (1/(2*len(y)))*np.sum((hypothesis-y)**2)\n",
        "#     J= (1/(2*len(y)))*np.sum((hypothesis-y)**2) + (lamb/2)*np.sum(w**2)\n",
        "    return J"
      ],
      "metadata": {
        "id": "HWXD--xHTi0E"
      },
      "execution_count": 15,
      "outputs": []
    },
    {
      "cell_type": "code",
      "source": [
        "def batch_gradient_descent(X,y,w,alpha,iters):\n",
        "    cost_history = np.zeros(iters)\n",
        "    for i in range(iters):\n",
        "        hypothesis = np.dot(X,w.T)\n",
        "        w = w - (alpha/len(y)) * np.dot(hypothesis - y, X)\n",
        "        cost_history[i] = cost_function(X,y,w)\n",
        "    return w, cost_history"
      ],
      "metadata": {
        "id": "5xjJTMwMTvwB"
      },
      "execution_count": 16,
      "outputs": []
    },
    {
      "cell_type": "code",
      "source": [
        "def stochastic_gradient_descent(X,y,w,alpha, iters):\n",
        "    cost_history = np.zeros(iters)\n",
        "    for i in range(iters):\n",
        "        rand_index = np.random.randint(len(y)-1)\n",
        "        ind_x = X[rand_index:rand_index+1]\n",
        "        ind_y = y[rand_index:rand_index+1]\n",
        "        w = w - alpha * (ind_x.T.dot(ind_x.dot(w) - ind_y))\n",
        "        cost_history[i] = cost_function(ind_x,ind_y,w)\n",
        "    return w, cost_history"
      ],
      "metadata": {
        "id": "LUrJjdlZTxsR"
      },
      "execution_count": 17,
      "outputs": []
    },
    {
      "cell_type": "code",
      "source": [
        "def MB_gradient_descent(X,y,w,alpha, iters, batch_size):\n",
        "    cost_history = np.zeros(iters)\n",
        "    for i in range(iters):\n",
        "        rand_index = np.random.randint(len(y)-batch_size)\n",
        "        ind_x = X[rand_index:rand_index+batch_size]\n",
        "        ind_y = y[rand_index:rand_index+batch_size]\n",
        "        \n",
        "        # print((ind_x.T@(ind_x@w - ind_y)).sum(axis=1).shape)\n",
        "        w = w - (alpha/batch_size) * (ind_x.T@(ind_x@w - ind_y)).sum(axis=1)\n",
        "        cost_history[i] = cost_function(ind_x,ind_y,w)\n",
        "    return w, cost_history"
      ],
      "metadata": {
        "id": "uB44LSLWT3ov"
      },
      "execution_count": 18,
      "outputs": []
    },
    {
      "cell_type": "code",
      "source": [
        "def cost_function_l1(X,y,w,lamb):\n",
        "  \n",
        "    hypothesis = np.dot(X,np.transpose(w))\n",
        "    J= (1/(2*len(y)))*np.sum((hypothesis-y)**2) + (lamb/2)*np.sum(abs(w))\n",
        "    return J"
      ],
      "metadata": {
        "id": "FMgy3gNATe-H"
      },
      "execution_count": 19,
      "outputs": []
    },
    {
      "cell_type": "code",
      "source": [
        "def batch_gradient_descent_l1(X,y,w,alpha,iters,lamb):\n",
        "    cost_history = np.zeros(iters)\n",
        "    for i in range(iters):\n",
        "        hypothesis = np.dot(X,w.T)\n",
        "        w = w - (alpha/len(y)) * (np.dot(hypothesis - y, X) - (lamb/2)*np.sign(w))\n",
        "        cost_history[i] = cost_function_l1(X,y,w,lamb)\n",
        "    return w, cost_history"
      ],
      "metadata": {
        "id": "ev2NWXFaTuBm"
      },
      "execution_count": 20,
      "outputs": []
    },
    {
      "cell_type": "code",
      "source": [
        "def cost_function_l1_mbg(X,y,w,lamb):\n",
        "    w=w.ravel()\n",
        "    hypothesis = np.dot(X,np.transpose(w))\n",
        "    J= (1/(2*len(y)))*np.sum((hypothesis-y)**2) + (lamb/2)*np.sum(abs(w))\n",
        "    return J"
      ],
      "metadata": {
        "id": "O1OGxXTlTapG"
      },
      "execution_count": 21,
      "outputs": []
    },
    {
      "cell_type": "code",
      "source": [
        "def MB_gradient_descent_l1(X,y,w,alpha, iters, batch_size,lamb):\n",
        "    cost_history = np.zeros(iters)\n",
        "    \n",
        "    w= np.zeros(((X.shape[1]),1))\n",
        "\n",
        "    for i in range(iters):\n",
        "        \n",
        "        rand_index = np.random.randint(len(y)-batch_size)\n",
        "        ind_x = X[rand_index:rand_index+batch_size]\n",
        "        ind_y = y[rand_index:rand_index+batch_size]\n",
        "        w = w - (alpha/batch_size) * (ind_x.T.dot(ind_x.dot(w) - ind_y) - (lamb/2)*np.sign(w))\n",
        "        cost_history[i] = cost_function_l1_mbg(ind_x,ind_y,w,lamb)\n",
        "    return w, cost_history"
      ],
      "metadata": {
        "id": "sGcqfToLT-il"
      },
      "execution_count": 22,
      "outputs": []
    },
    {
      "cell_type": "code",
      "source": [
        "def cost_function_l2(X,y,w,lamb):\n",
        "\n",
        "    hypothesis = np.dot(X,w.T)\n",
        "    J= (1/(2*len(y)))*np.sum((hypothesis-y)**2) + (lamb/2)*np.sum(w**2)\n",
        "    return J"
      ],
      "metadata": {
        "id": "FGf2wNGUTZ0B"
      },
      "execution_count": 23,
      "outputs": []
    },
    {
      "cell_type": "code",
      "source": [
        "def cost_function_mbg(X,y,w):\n",
        "    w=w.ravel()\n",
        "    hypothesis = np.dot(X,w.T)\n",
        "    J = (1/(2*len(y)))*np.sum((hypothesis-y)**2)\n",
        "    return J"
      ],
      "metadata": {
        "id": "ePvcHbLBTg_o"
      },
      "execution_count": 24,
      "outputs": []
    },
    {
      "cell_type": "code",
      "source": [
        "def cost_function_l2_mbg(X,y,w,lamb):\n",
        "    w=w.ravel()#flatten the array into one dimensional array\n",
        "    hypothesis = np.dot(X,w.T)\n",
        "    #J = (1/(2*len(y)))*np.sum((hypothesis-y)**2)\n",
        "    J= (1/(2*len(y)))*np.sum((hypothesis-y)**2) + (lamb/2)*np.sum(w**2)\n",
        "    return J"
      ],
      "metadata": {
        "id": "DFAeU6oh1w0w"
      },
      "execution_count": 25,
      "outputs": []
    },
    {
      "cell_type": "code",
      "source": [
        "def batch_gradient_descent_l2(X,y,w,alpha,iters,lamb):\n",
        "    cost_history = np.zeros(iters)\n",
        "    for i in range(iters):\n",
        "        hypothesis = np.dot(X,w.T)\n",
        "        w = (w*(1-alpha*lamb)) - (alpha/len(y)) * (np.dot(hypothesis - y, X))\n",
        "        cost_history[i] = cost_function_l2(X,y,w,lamb)\n",
        "    return w, cost_history"
      ],
      "metadata": {
        "id": "Dv9Nf93aTsW9"
      },
      "execution_count": 26,
      "outputs": []
    },
    {
      "cell_type": "code",
      "source": [
        "def stochastic_gradient_descent_l1(X,y,w,alpha, iters,lamb):\n",
        "    cost_history = np.zeros(iters)\n",
        "    for i in range(iters):\n",
        "        rand_index = np.random.randint(len(y)-1)\n",
        "        ind_x = X[rand_index:rand_index+1]\n",
        "        ind_y = y[rand_index:rand_index+1]\n",
        "        w = w - alpha * (ind_x.T.dot(ind_x.dot(w) - ind_y) - (lamb/2)*np.sign(w))\n",
        "        cost_history[i] = cost_function_l1(ind_x,ind_y,w,lamb)\n",
        "    return w, cost_history"
      ],
      "metadata": {
        "id": "kjq-DrW4Tzhg"
      },
      "execution_count": 27,
      "outputs": []
    },
    {
      "cell_type": "code",
      "source": [
        "def stochastic_gradient_descent_l2(X,y,w,alpha, iters,lamb):\n",
        "    cost_history = np.zeros(iters)\n",
        "    for i in range(iters):\n",
        "        rand_index = np.random.randint(len(y)-1)\n",
        "        ind_x = X[rand_index:rand_index+1]\n",
        "        ind_y = y[rand_index:rand_index+1]\n",
        "        w = w*(1-alpha*lamb) - alpha * (ind_x.T.dot(ind_x.dot(w) - ind_y))\n",
        "        cost_history[i] = cost_function_l2(ind_x,ind_y,w,lamb)\n",
        "    return w, cost_history"
      ],
      "metadata": {
        "id": "015sx35QT1vl"
      },
      "execution_count": 28,
      "outputs": []
    },
    {
      "cell_type": "code",
      "source": [
        "def MB_gradient_descent_l2(X,y,w,alpha, iters, batch_size,lamb):\n",
        "    cost_history = np.zeros(iters)\n",
        "    w= np.zeros(((X.shape[1]),1))\n",
        "    for i in range(iters):\n",
        "        rand_index = np.random.randint(len(y)-batch_size)\n",
        "        ind_x = X[rand_index:rand_index+batch_size]\n",
        "        ind_y = y[rand_index:rand_index+batch_size]\n",
        "        \n",
        "        w = w*((1-(alpha*lamb))) - (alpha/batch_size) * (ind_x.T.dot(ind_x.dot(w) - ind_y)).sum(axis=1)\n",
        "        cost_history[i] = cost_function_l2_mbg(ind_x,ind_y,w,lamb)\n",
        "    return w, cost_history"
      ],
      "metadata": {
        "id": "0giKCf74UBCj"
      },
      "execution_count": 29,
      "outputs": []
    },
    {
      "cell_type": "markdown",
      "source": [
        "**Weight initialization**"
      ],
      "metadata": {
        "id": "3tt1vMW1ply9"
      }
    },
    {
      "cell_type": "code",
      "source": [
        "w= np.zeros((ztr.shape[1]))\n",
        "w1= np.zeros((ztr.shape[1]))\n",
        "print(w.shape)"
      ],
      "metadata": {
        "colab": {
          "base_uri": "https://localhost:8080/"
        },
        "id": "icgX5sC4dlRi",
        "outputId": "876baf44-d458-4ee7-f0bc-ce01a53bf6f6"
      },
      "execution_count": 30,
      "outputs": [
        {
          "output_type": "stream",
          "name": "stdout",
          "text": [
            "(6,)\n"
          ]
        }
      ]
    },
    {
      "cell_type": "markdown",
      "source": [
        "**Batch Gradient Descent**"
      ],
      "metadata": {
        "id": "arK1GytCtIHz"
      }
    },
    {
      "cell_type": "code",
      "source": [
        "alpha=0.0002#learning rate\n",
        "iters=1000 ###iterations\n",
        "lamb=0.2\n",
        "batch_w,J_his = batch_gradient_descent(ztr,y,w,alpha,iters)\n",
        "\n",
        "plt.plot(range(iters),J_his)\n",
        "plt.show()"
      ],
      "metadata": {
        "colab": {
          "base_uri": "https://localhost:8080/",
          "height": 265
        },
        "id": "OH5VBORqpwXN",
        "outputId": "e120f783-de04-4669-f100-16cca6dc71c1"
      },
      "execution_count": 31,
      "outputs": [
        {
          "output_type": "display_data",
          "data": {
            "image/png": "[encoded data removed]",
            "text/plain": [
              "<Figure size 432x288 with 1 Axes>"
            ]
          },
          "metadata": {
            "needs_background": "light"
          }
        }
      ]
    },
    {
      "cell_type": "code",
      "source": [
        "# print(batch_w)"
      ],
      "metadata": {
        "id": "2Dwqc5ShpwUL"
      },
      "execution_count": 32,
      "outputs": []
    },
    {
      "cell_type": "code",
      "source": [
        "bgd=batch_w[-1:]\n",
        "print(bgd)"
      ],
      "metadata": {
        "colab": {
          "base_uri": "https://localhost:8080/"
        },
        "id": "g5AEYPZ9pwNV",
        "outputId": "73e45972-f866-4067-c603-aaa5bec22aa0"
      },
      "execution_count": 33,
      "outputs": [
        {
          "output_type": "stream",
          "name": "stdout",
          "text": [
            "[[0.12040141 0.06170125 0.06961951 0.04162253 0.04871827 0.04190613]]\n"
          ]
        }
      ]
    },
    {
      "cell_type": "code",
      "source": [
        "alpha=0.0002#learning rate\n",
        "iters=1000 ###iterations\n",
        "lamb=0.2\n",
        "batch_w_l1,J_his_l1 = batch_gradient_descent_l1(ztr,y,w,alpha,iters,lamb)\n",
        "\n",
        "plt.plot(range(iters),J_his_l1)\n",
        "plt.show()"
      ],
      "metadata": {
        "colab": {
          "base_uri": "https://localhost:8080/",
          "height": 265
        },
        "id": "sNPcGOaTXVjG",
        "outputId": "12729fc7-66a0-455f-85d2-62dae9c2d5fc"
      },
      "execution_count": 34,
      "outputs": [
        {
          "output_type": "display_data",
          "data": {
            "image/png": "[encoded data removed]",
            "text/plain": [
              "<Figure size 432x288 with 1 Axes>"
            ]
          },
          "metadata": {
            "needs_background": "light"
          }
        }
      ]
    },
    {
      "cell_type": "code",
      "source": [
        "print(batch_w_l1)"
      ],
      "metadata": {
        "colab": {
          "base_uri": "https://localhost:8080/"
        },
        "id": "U0ErVWldr8ua",
        "outputId": "292a39a3-257d-4e43-8916-dd9966f8445a"
      },
      "execution_count": 35,
      "outputs": [
        {
          "output_type": "stream",
          "name": "stdout",
          "text": [
            "[[ 0.03322797  0.01730444  0.01931353  0.01180157  0.01367408  0.0118069 ]\n",
            " [ 0.02804292  0.01471878  0.01627816  0.01006477  0.0115858   0.01000649]\n",
            " [ 0.02919655  0.01529409  0.01695352  0.01045121  0.01205044  0.01040708]\n",
            " [ 0.03363514  0.01750747  0.01955188  0.01193794  0.01383805  0.01194827]\n",
            " [ 0.02906543  0.01522871  0.01687676  0.01040729  0.01199763  0.01036155]\n",
            " [ 0.03347595  0.01742809  0.0194587   0.01188463  0.01377394  0.011893  ]\n",
            " [-0.01400077 -0.00716497 -0.0083481  -0.0049323  -0.00585696 -0.0050999 ]\n",
            " [ 0.02899941  0.01519578  0.01683811  0.01038517  0.01197104  0.01033863]\n",
            " [ 0.03296895  0.01717528  0.0191619   0.01171482  0.01356976  0.01171696]\n",
            " [ 0.02893308  0.0151627   0.01679928  0.01036296  0.01194433  0.0103156 ]\n",
            " [ 0.02919655  0.01529409  0.01695352  0.01045121  0.01205044  0.01040708]\n",
            " [ 0.02543449  0.01341738  0.01475076  0.00919038  0.01053468  0.00910018]\n",
            " [ 0.0268821   0.0141386   0.01559777  0.00967462  0.01111711  0.00960223]\n",
            " [ 0.03372022  0.01755049  0.01960207  0.01196703  0.01387285  0.01197835]\n",
            " [ 0.07519525  0.03878705  0.04359464  0.02629112  0.03065326  0.02641365]\n",
            " [ 0.07025343  0.03632168  0.04070101  0.02463478  0.02866204  0.02469679]\n",
            " [ 0.06609717  0.03424835  0.03826748  0.02324187  0.02698749  0.02325298]\n",
            " [ 0.06965782  0.03602339  0.04035152  0.02443399  0.02842102  0.02448882]\n",
            " [ 0.07768569  0.04002893  0.04505256  0.02712529  0.03165626  0.02727838]\n",
            " [ 0.01475473  0.0079078   0.008595    0.00547005  0.00620868  0.00538127]\n",
            " [ 0.01101486  0.00604216  0.00640525  0.00421667  0.00470187  0.00408209]\n",
            " [ 0.00659604  0.00383777  0.00381794  0.00273569  0.00292146  0.002547  ]\n",
            " [ 0.01790647  0.00948002  0.0104404   0.00652631  0.00747853  0.00647614]\n",
            " [ 0.02037634  0.01071207  0.01188655  0.00735402  0.00847362  0.00733412]\n",
            " [ 0.02906543  0.01522871  0.01687676  0.01040729  0.01199763  0.01036155]\n",
            " [ 0.02550473  0.01345245  0.01479191  0.00921395  0.01056301  0.00912461]\n",
            " [ 0.02099711  0.01120379  0.01215262  0.00770324  0.00874685  0.0075587 ]\n",
            " [ 0.03231037  0.01684744  0.01877673  0.01149479  0.01330504  0.01148881]\n",
            " [ 0.03474592  0.01806235  0.02020278  0.01231098  0.01428629  0.01233485]\n",
            " [ 0.01497594  0.0080181   0.00872449  0.00554414  0.00629777  0.00545808]\n",
            " [ 0.01104993  0.00605959  0.00642574  0.00422836  0.00471595  0.00409422]\n",
            " [ 0.00664558  0.00386242  0.00384691  0.00275223  0.00294137  0.00256416]\n",
            " [ 0.01818408  0.00961848  0.01060293  0.00661932  0.00759035  0.00657255]\n",
            " [ 0.0206547   0.01085091  0.01204953  0.00744728  0.00858576  0.0074308 ]\n",
            " [ 0.0721188   0.03725194  0.04179303  0.02525965  0.02941335  0.02534453]\n",
            " [ 0.06828086  0.03533736  0.03954585  0.02397339  0.02786701  0.02401127]\n",
            " [ 0.06394853  0.03317613  0.03700919  0.0225214   0.02612147  0.02250624]\n",
            " [ 0.07521025  0.03879411  0.04360314  0.02629572  0.03065892  0.02641847]\n",
            " [ 0.0777088   0.04004046  0.04506609  0.02713304  0.03166557  0.02728641]\n",
            " [ 0.04116189  0.02144539  0.02386225  0.01460279  0.01689477  0.01457295]\n",
            " [ 0.14232863  0.07318645  0.08241523  0.04949578  0.05781697  0.0497794 ]\n",
            " [ 0.18646931  0.09575192  0.10796804  0.06471237  0.07567061  0.06513994]\n",
            " [ 0.11497594  0.05917731  0.06659443  0.04004628  0.04675004  0.04025937]\n",
            " [ 0.11504073  0.05920962  0.06663236  0.04006799  0.04677613  0.04028187]\n",
            " [ 0.16497594  0.08475692  0.0955294   0.05729735  0.06697617  0.05766002]\n",
            " [ 0.18659797  0.09581608  0.10804336  0.06475547  0.07572243  0.06518462]\n",
            " [ 0.18268672  0.09386491  0.10575323  0.06344461  0.07414653  0.06382586]\n",
            " [ 0.17826838  0.09166076  0.10316621  0.06196379  0.07236632  0.06229095]\n",
            " [ 0.1896426   0.09733488  0.10982604  0.06577583  0.07694912  0.06624228]\n",
            " [ 0.19211014  0.09856577  0.11127084  0.06660276  0.07794329  0.06709946]\n",
            " [ 0.1151694   0.05927379  0.06670769  0.04011109  0.04682796  0.04032655]\n",
            " [ 0.11140589  0.05739634  0.06450408  0.03884976  0.0453116   0.03901914]\n",
            " [ 0.10701298  0.05520488  0.06193194  0.03737747  0.04354164  0.03749306]\n",
            " [ 0.11830927  0.06084011  0.06854615  0.04116338  0.04809303  0.04141731]\n",
            " [ 0.12072715  0.06204622  0.06996186  0.04197366  0.04906718  0.04225723]]\n"
          ]
        }
      ]
    },
    {
      "cell_type": "code",
      "source": [
        "bgd_l1=batch_w_l1[-1:]\n",
        "print(bgd_l1)"
      ],
      "metadata": {
        "colab": {
          "base_uri": "https://localhost:8080/"
        },
        "id": "DXWulcfQr8jL",
        "outputId": "2f925079-fb88-4edc-898b-5946472efa2e"
      },
      "execution_count": 36,
      "outputs": [
        {
          "output_type": "stream",
          "name": "stdout",
          "text": [
            "[[0.12072715 0.06204622 0.06996186 0.04197366 0.04906718 0.04225723]]\n"
          ]
        }
      ]
    },
    {
      "cell_type": "code",
      "source": [
        "alpha=0.002 ##learning rate\n",
        "iters=100 ###iterations\n",
        "lamb=1\n",
        "batch_w_l2,J_his_l2 = batch_gradient_descent_l2(ztr,y,w,alpha,iters,lamb)\n",
        "\n",
        "plt.plot(range(iters),J_his_l2)\n",
        "plt.show()"
      ],
      "metadata": {
        "colab": {
          "base_uri": "https://localhost:8080/",
          "height": 265
        },
        "id": "KsoBp51SpwnO",
        "outputId": "a857b7e5-bbca-470c-c50e-e271a5c35243"
      },
      "execution_count": 37,
      "outputs": [
        {
          "output_type": "display_data",
          "data": {
            "image/png": "[encoded data removed]",
            "text/plain": [
              "<Figure size 432x288 with 1 Axes>"
            ]
          },
          "metadata": {
            "needs_background": "light"
          }
        }
      ]
    },
    {
      "cell_type": "code",
      "source": [
        "print(batch_w_l2)"
      ],
      "metadata": {
        "colab": {
          "base_uri": "https://localhost:8080/"
        },
        "id": "Ml0uORnApwdP",
        "outputId": "9021470c-183f-4f08-c9db-d8cabfb53c53"
      },
      "execution_count": 38,
      "outputs": [
        {
          "output_type": "stream",
          "name": "stdout",
          "text": [
            "[[ 0.03019495  0.01555516  0.01741088  0.01050073  0.01222506  0.01050986]\n",
            " [ 0.02570683  0.0133155   0.01478163  0.00899582  0.01041567  0.00894951]\n",
            " [ 0.02670512  0.01381368  0.01536647  0.00933057  0.01081815  0.0092966 ]\n",
            " [ 0.03054761  0.01573114  0.01761747  0.01061897  0.01236723  0.01063246]\n",
            " [ 0.02659165  0.01375706  0.01529999  0.00929252  0.0107724   0.00925714]\n",
            " [ 0.03040973  0.01566234  0.0175367   0.01057274  0.01231164  0.01058453]\n",
            " [-0.01183937 -0.00590957 -0.00693683 -0.00397135 -0.00477443 -0.0041175 ]\n",
            " [ 0.02653452  0.01372855  0.01526652  0.00927336  0.01074937  0.00923728]\n",
            " [ 0.02997062  0.01544323  0.01727947  0.01042552  0.01213463  0.01043188]\n",
            " [ 0.02647712  0.0136999   0.0152329   0.00925412  0.01072622  0.00921733]\n",
            " [ 0.02670512  0.01381368  0.01536647  0.00933057  0.01081815  0.0092966 ]\n",
            " [ 0.02345245  0.01219002  0.01346061  0.0082394   0.00950635  0.00816528]\n",
            " [ 0.02470764  0.01281586  0.01419556  0.00865975  0.01001189  0.00860116]\n",
            " [ 0.03061921  0.01576734  0.01765974  0.01064345  0.01239653  0.01065779]\n",
            " [ 0.06829966  0.03505974  0.03945709  0.02365597  0.02764107  0.02377181]\n",
            " [ 0.06402585  0.03292624  0.03695284  0.02222212  0.02591734  0.02228522]\n",
            " [ 0.06043265  0.03113262  0.03484748  0.02101675  0.02446824  0.02103549]\n",
            " [ 0.06351567  0.03267064  0.03665325  0.02205005  0.02571073  0.02210689]\n",
            " [ 0.07045669  0.03613613  0.04072072  0.02437923  0.02851066  0.02452171]\n",
            " [ 0.01361046  0.00711627  0.00778764  0.00481395  0.00552125  0.00473954]\n",
            " [ 0.01037696  0.00550218  0.00589302  0.00372922  0.0042172   0.0036149 ]\n",
            " [ 0.00655771  0.00359566  0.00365517  0.00244796  0.00267687  0.00228649]\n",
            " [ 0.0163366   0.00847709  0.00938497  0.00572848  0.00662069  0.00568771]\n",
            " [ 0.01847437  0.0095442   0.01063756  0.00644562  0.00748283  0.00643124]\n",
            " [ 0.02659165  0.01375706  0.01529999  0.00929252  0.0107724   0.00925714]\n",
            " [ 0.02351303  0.01222028  0.01349613  0.00825975  0.0095308   0.00818637]\n",
            " [ 0.01961684  0.01027539  0.01121321  0.0069527   0.00795948  0.00683123]\n",
            " [ 0.02939836  0.01515811  0.01694455  0.01023409  0.01190434  0.01023336]\n",
            " [ 0.03150654  0.01621045  0.01817978  0.01094129  0.01275454  0.01096658]\n",
            " [ 0.01380194  0.00721181  0.00789981  0.00487815  0.00559844  0.0048061 ]\n",
            " [ 0.01040754  0.0055174   0.00591091  0.00373943  0.00422948  0.00362549]\n",
            " [ 0.00660077  0.00361711  0.00368037  0.00246236  0.0026942   0.00230142]\n",
            " [ 0.01657689  0.00859701  0.00952575  0.00580906  0.00671758  0.00577127]\n",
            " [ 0.01871549  0.00966455  0.01077882  0.00652649  0.00758006  0.00651509]\n",
            " [ 0.06564     0.03373175  0.03789846  0.02276339  0.02656811  0.02284642]\n",
            " [ 0.06232173  0.03207534  0.03595416  0.02165021  0.02522986  0.02169228]\n",
            " [ 0.05857714  0.03020611  0.03376007  0.02039401  0.02371966  0.02038986]\n",
            " [ 0.06831398  0.03506655  0.03946525  0.02366043  0.02764653  0.02377647]\n",
            " [ 0.07047669  0.03614612  0.04073244  0.02438594  0.02851873  0.02452867]\n",
            " [ 0.0376568   0.01944169  0.02168987  0.0131286   0.01525107  0.0131086 ]\n",
            " [ 0.12938294  0.06635538  0.07477894  0.04476629  0.05235501  0.04503015]\n",
            " [ 0.16937218  0.08679962  0.09792861  0.05855267  0.06853006  0.05894655]\n",
            " [ 0.10451854  0.05362171  0.06039745  0.03617732  0.04229536  0.03637666]\n",
            " [ 0.10457461  0.05364969  0.0604303   0.03619612  0.04231797  0.03639615]\n",
            " [ 0.14987684  0.07682666  0.08664627  0.0518269   0.06064383  0.05216193]\n",
            " [ 0.16948353  0.08685518  0.09799384  0.05859001  0.06857495  0.05898526]\n",
            " [ 0.16610196  0.08516715  0.09601244  0.05745557  0.06721114  0.05780908]\n",
            " [ 0.16228307  0.08326082  0.09377481  0.05617443  0.06567097  0.05648081]\n",
            " [ 0.17211713  0.08816981  0.09953695  0.05947349  0.06963707  0.05990125]\n",
            " [ 0.17425303  0.089236    0.10078845  0.06019001  0.07049847  0.06064413]\n",
            " [ 0.10468596  0.05370526  0.06049553  0.03623346  0.04236286  0.03643486]\n",
            " [ 0.10143203  0.05208095  0.05858893  0.03514185  0.04105055  0.0353031 ]\n",
            " [ 0.09763506  0.05018557  0.05636414  0.03386807  0.03951922  0.03398245]\n",
            " [ 0.10740192  0.05506101  0.06208691  0.03714458  0.04345821  0.03737951]\n",
            " [ 0.10949492  0.05610578  0.06331326  0.0378467   0.0443023   0.03810747]]\n"
          ]
        }
      ]
    },
    {
      "cell_type": "code",
      "source": [
        "bgd_l2=batch_w_l2[-1:]\n",
        "print(bgd_l2)"
      ],
      "metadata": {
        "colab": {
          "base_uri": "https://localhost:8080/"
        },
        "id": "zOq2jJ2TpwZ1",
        "outputId": "623237ba-b539-4711-cfa3-096b9c327700"
      },
      "execution_count": 39,
      "outputs": [
        {
          "output_type": "stream",
          "name": "stdout",
          "text": [
            "[[0.10949492 0.05610578 0.06331326 0.0378467  0.0443023  0.03810747]]\n"
          ]
        }
      ]
    },
    {
      "cell_type": "markdown",
      "source": [
        "**Stochastic Gradient Descent**"
      ],
      "metadata": {
        "id": "kCqEQl-jtBwI"
      }
    },
    {
      "cell_type": "code",
      "source": [
        "alpha=0.0002#learning rate\n",
        "iters=1000 ###iterations\n",
        "lamb=0.2\n",
        "w_n,J_sgd = stochastic_gradient_descent(ztr,y,w.T,alpha, iters)\n",
        "\n",
        "plt.plot(range(iters),J_sgd)\n",
        "plt.show()"
      ],
      "metadata": {
        "colab": {
          "base_uri": "https://localhost:8080/",
          "height": 265
        },
        "id": "_7C9pUBhr8e2",
        "outputId": "92b94288-d018-4d21-cbf5-02696ecd1386"
      },
      "execution_count": 40,
      "outputs": [
        {
          "output_type": "display_data",
          "data": {
            "image/png": "[encoded data removed]",
            "text/plain": [
              "<Figure size 432x288 with 1 Axes>"
            ]
          },
          "metadata": {
            "needs_background": "light"
          }
        }
      ]
    },
    {
      "cell_type": "code",
      "source": [
        "print(w_n)"
      ],
      "metadata": {
        "colab": {
          "base_uri": "https://localhost:8080/"
        },
        "id": "zhflmMLmr8ci",
        "outputId": "8e8c97eb-1480-43eb-a117-84332440f3f4"
      },
      "execution_count": 41,
      "outputs": [
        {
          "output_type": "stream",
          "name": "stdout",
          "text": [
            "[[0.06557465 0.06557465 0.06557465 0.06557465 0.06557465 0.06557465]\n",
            " [0.03282488 0.03282488 0.03282488 0.03282488 0.03282488 0.03282488]\n",
            " [0.037912   0.037912   0.037912   0.037912   0.037912   0.037912  ]\n",
            " [0.0217596  0.0217596  0.0217596  0.0217596  0.0217596  0.0217596 ]\n",
            " [0.02565183 0.02565183 0.02565183 0.02565183 0.02565183 0.02565183]\n",
            " [0.02221456 0.02221456 0.02221456 0.02221456 0.02221456 0.02221456]]\n"
          ]
        }
      ]
    },
    {
      "cell_type": "code",
      "source": [
        "sgd=w_n[-1:]\n",
        "print(sgd)"
      ],
      "metadata": {
        "colab": {
          "base_uri": "https://localhost:8080/"
        },
        "id": "N5fR3D8Xr8Z4",
        "outputId": "80f77a24-341d-45e9-f681-dd2ab87c7f12"
      },
      "execution_count": 42,
      "outputs": [
        {
          "output_type": "stream",
          "name": "stdout",
          "text": [
            "[[0.02221456 0.02221456 0.02221456 0.02221456 0.02221456 0.02221456]]\n"
          ]
        }
      ]
    },
    {
      "cell_type": "code",
      "source": [
        "alpha=0.001\n",
        "iters=3000 ###iterations\n",
        "lamb=0.005\n",
        "w_n_l1,J_sgd_l1 = stochastic_gradient_descent_l1(ztr,y,w,alpha, iters,lamb)\n",
        "\n",
        "plt.plot(range(iters),J_sgd_l1)\n",
        "plt.show()"
      ],
      "metadata": {
        "colab": {
          "base_uri": "https://localhost:8080/",
          "height": 265
        },
        "id": "ROJD8iqPr8Xf",
        "outputId": "1075909b-6850-4d8f-9139-e9543075b5eb"
      },
      "execution_count": 43,
      "outputs": [
        {
          "output_type": "display_data",
          "data": {
            "image/png": "[encoded data removed]",
            "text/plain": [
              "<Figure size 432x288 with 1 Axes>"
            ]
          },
          "metadata": {
            "needs_background": "light"
          }
        }
      ]
    },
    {
      "cell_type": "code",
      "source": [
        "print(w_n_l1)"
      ],
      "metadata": {
        "colab": {
          "base_uri": "https://localhost:8080/"
        },
        "id": "Y5aneI22r8U8",
        "outputId": "18304528-2537-452f-f6dc-83a65ad75fd7"
      },
      "execution_count": 44,
      "outputs": [
        {
          "output_type": "stream",
          "name": "stdout",
          "text": [
            "[[0.22891475 0.22891475 0.22891475 0.22891475 0.22891475 0.22891475]\n",
            " [0.06718753 0.06718753 0.06718753 0.06718753 0.06718753 0.06718753]\n",
            " [0.10236949 0.10236949 0.10236949 0.10236949 0.10236949 0.10236949]\n",
            " [0.02847351 0.02847351 0.02847351 0.02847351 0.02847351 0.02847351]\n",
            " [0.0472459  0.0472459  0.0472459  0.0472459  0.0472459  0.0472459 ]\n",
            " [0.03467277 0.03467277 0.03467277 0.03467277 0.03467277 0.03467277]]\n"
          ]
        }
      ]
    },
    {
      "cell_type": "code",
      "source": [
        "sgd_l1=w_n_l1[-1:]\n",
        "print(sgd_l1)"
      ],
      "metadata": {
        "colab": {
          "base_uri": "https://localhost:8080/"
        },
        "id": "fzqsjmNrr8Sl",
        "outputId": "735320fb-a276-421f-e848-8df32b00057b"
      },
      "execution_count": 45,
      "outputs": [
        {
          "output_type": "stream",
          "name": "stdout",
          "text": [
            "[[0.03467277 0.03467277 0.03467277 0.03467277 0.03467277 0.03467277]]\n"
          ]
        }
      ]
    },
    {
      "cell_type": "code",
      "source": [
        "alpha=0.001 \n",
        "iters=3000 ###iterations\n",
        "lamb=1\n",
        "w_n_l2,J_sgd_l2 = stochastic_gradient_descent_l2(ztr,y,w,alpha, iters,lamb)\n",
        "plt.plot(range(iters),J_sgd_l2)\n",
        "plt.show()"
      ],
      "metadata": {
        "colab": {
          "base_uri": "https://localhost:8080/",
          "height": 265
        },
        "id": "rHx6RA1esx1p",
        "outputId": "f939c905-cfd6-4c2a-d9ab-ca14ed23e25c"
      },
      "execution_count": 46,
      "outputs": [
        {
          "output_type": "display_data",
          "data": {
            "image/png": "[encoded data removed]",
            "text/plain": [
              "<Figure size 432x288 with 1 Axes>"
            ]
          },
          "metadata": {
            "needs_background": "light"
          }
        }
      ]
    },
    {
      "cell_type": "code",
      "source": [
        "print(w_n_l2)"
      ],
      "metadata": {
        "colab": {
          "base_uri": "https://localhost:8080/"
        },
        "id": "x6mZXeQ6tfiw",
        "outputId": "fb1f8d82-0ebf-438e-a04d-dc9b2df8fb31"
      },
      "execution_count": 47,
      "outputs": [
        {
          "output_type": "stream",
          "name": "stdout",
          "text": [
            "[[0.14310135 0.14310135 0.14310135 0.14310135 0.14310135 0.14310135]\n",
            " [0.05971401 0.05971401 0.05971401 0.05971401 0.05971401 0.05971401]\n",
            " [0.07555136 0.07555136 0.07555136 0.07555136 0.07555136 0.07555136]\n",
            " [0.03423445 0.03423445 0.03423445 0.03423445 0.03423445 0.03423445]\n",
            " [0.04522525 0.04522525 0.04522525 0.04522525 0.04522525 0.04522525]\n",
            " [0.03715684 0.03715684 0.03715684 0.03715684 0.03715684 0.03715684]]\n"
          ]
        }
      ]
    },
    {
      "cell_type": "code",
      "source": [
        "sgd_l2=w_n_l2[-1:]\n",
        "print(sgd_l2)"
      ],
      "metadata": {
        "colab": {
          "base_uri": "https://localhost:8080/"
        },
        "id": "JSekImbLtfcZ",
        "outputId": "33611dd9-9db6-4838-f5ec-2aa27453e3b9"
      },
      "execution_count": 48,
      "outputs": [
        {
          "output_type": "stream",
          "name": "stdout",
          "text": [
            "[[0.03715684 0.03715684 0.03715684 0.03715684 0.03715684 0.03715684]]\n"
          ]
        }
      ]
    },
    {
      "cell_type": "markdown",
      "source": [
        "**MiniBatch Gradient Descent**"
      ],
      "metadata": {
        "id": "SOfp_ifMtqpO"
      }
    },
    {
      "cell_type": "code",
      "source": [
        "alpha=0.005\n",
        "iters=1000 ##iterations\n",
        "lamb=3\n",
        "batch_size=25\n",
        "print(ztr.shape)\n",
        "print(w1.shape)\n",
        "mb_w,J_mb = MB_gradient_descent(ztr,y,w1,alpha, iters, batch_size)\n",
        "\n",
        "plt.plot(range(iters),J_mb)\n",
        "plt.show()"
      ],
      "metadata": {
        "colab": {
          "base_uri": "https://localhost:8080/",
          "height": 300
        },
        "id": "MHNemurrtvBW",
        "outputId": "9a7e8904-4ea8-417e-f5e7-b8040743714a"
      },
      "execution_count": 49,
      "outputs": [
        {
          "output_type": "stream",
          "name": "stdout",
          "text": [
            "(55, 6)\n",
            "(6,)\n"
          ]
        },
        {
          "output_type": "display_data",
          "data": {
            "image/png": "[encoded data removed]",
            "text/plain": [
              "<Figure size 432x288 with 1 Axes>"
            ]
          },
          "metadata": {
            "needs_background": "light"
          }
        }
      ]
    },
    {
      "cell_type": "code",
      "source": [
        "print(mb_w)"
      ],
      "metadata": {
        "colab": {
          "base_uri": "https://localhost:8080/"
        },
        "id": "q-6mcUs8tv2r",
        "outputId": "5bb6be49-1d0c-43ff-adcd-450f8c40796f"
      },
      "execution_count": 50,
      "outputs": [
        {
          "output_type": "stream",
          "name": "stdout",
          "text": [
            "[ 0.01800889  0.23203559  0.34295655 -0.13013481  0.0745416  -0.02518848]\n"
          ]
        }
      ]
    },
    {
      "cell_type": "code",
      "source": [
        "alpha=0.005 \n",
        "iters=1000 \n",
        "lamb=0.005\n",
        "batch_size=30\n",
        "mb_w_l1,J_mb_l1 = MB_gradient_descent_l1(ztr,y,w1,alpha, iters, batch_size,lamb)\n",
        "\n",
        "plt.plot(range(iters),J_mb_l1)\n",
        "plt.show()"
      ],
      "metadata": {
        "colab": {
          "base_uri": "https://localhost:8080/",
          "height": 265
        },
        "id": "i_xgd2QYtvo-",
        "outputId": "76e304ba-1d8f-443d-dd12-26d11cd1b82b"
      },
      "execution_count": 51,
      "outputs": [
        {
          "output_type": "display_data",
          "data": {
            "image/png": "[encoded data removed]",
            "text/plain": [
              "<Figure size 432x288 with 1 Axes>"
            ]
          },
          "metadata": {
            "needs_background": "light"
          }
        }
      ]
    },
    {
      "cell_type": "code",
      "source": [
        "print(mb_w_l1)"
      ],
      "metadata": {
        "colab": {
          "base_uri": "https://localhost:8080/"
        },
        "id": "E7KqON0Atvh_",
        "outputId": "05a6a43f-b37c-42e6-c922-eab6302b9ae2"
      },
      "execution_count": 52,
      "outputs": [
        {
          "output_type": "stream",
          "name": "stdout",
          "text": [
            "[[ 0.23105754]\n",
            " [ 0.04614605]\n",
            " [ 0.08808821]\n",
            " [-0.00482229]\n",
            " [ 0.02160498]\n",
            " [ 0.0003552 ]]\n"
          ]
        }
      ]
    },
    {
      "cell_type": "code",
      "source": [
        "# alpha=0.001 \n",
        "# iters=1000 ###iterations\n",
        "# lamb=0.005\n",
        "# batch_size=25\n",
        "# print(w1.shape)\n",
        "# print(ztr.shape)\n",
        "# mb_w_l2,J_mb_l2 = MB_gradient_descent_l2(ztr,y,w1,alpha, iters, batch_size,lamb)\n",
        "\n",
        "# plt.plot(range(iters),J_mb_l2)\n",
        "# plt.show()"
      ],
      "metadata": {
        "id": "rvxROw5auGdJ"
      },
      "execution_count": 53,
      "outputs": []
    },
    {
      "cell_type": "code",
      "source": [
        "# print(mb_w_l2)"
      ],
      "metadata": {
        "id": "qAHjpRWbuGaU"
      },
      "execution_count": 54,
      "outputs": []
    },
    {
      "cell_type": "markdown",
      "source": [
        "**Performance Measures for Regression**(Self Defined functions)\n"
      ],
      "metadata": {
        "id": "AJOORe1_eGmZ"
      }
    },
    {
      "cell_type": "markdown",
      "source": [
        "Have defined these functions but have not used them because sklearn libraries were allowed to be used which I have used to find the three errors."
      ],
      "metadata": {
        "id": "spuBZpj8v8-f"
      }
    },
    {
      "cell_type": "markdown",
      "source": [
        "Mean Absolute Error"
      ],
      "metadata": {
        "id": "fgu3WxN6eX7d"
      }
    },
    {
      "cell_type": "code",
      "source": [
        "def mean_abs_error(Ypre,Yact):\n",
        "  sum_err=abs(Yact - Ypre)\n",
        "  ma_err=sum_err/Ypre.shape[0]\n",
        "  return ma_err"
      ],
      "metadata": {
        "id": "PaQnCPe0eGUe"
      },
      "execution_count": 55,
      "outputs": []
    },
    {
      "cell_type": "markdown",
      "source": [
        "Mean Square Error"
      ],
      "metadata": {
        "id": "zvzdjdLwjnM5"
      }
    },
    {
      "cell_type": "code",
      "source": [
        "def mean_square_error(Ypre,Yact):\n",
        "  sum_error=((Yact - Ypre)**2)\n",
        "  ms_err=sum_error/Ypre.shape[0]\n",
        "  return ms_err"
      ],
      "metadata": {
        "id": "X2RUunq1eGKN"
      },
      "execution_count": 56,
      "outputs": []
    },
    {
      "cell_type": "markdown",
      "source": [
        "Correlation Coefficient"
      ],
      "metadata": {
        "id": "2Aj70eXDjzPG"
      }
    },
    {
      "cell_type": "code",
      "source": [
        "def correlation_coeff(test_instances,Ypred,Yact):\n",
        "  ypm=np.mean(Ypred)##mean of Ypred data\n",
        "  yam=np.mean(Yact)##mean of Yactual data\n",
        "  num=((Yact - yam)*(Ypred-ypm))\n",
        "  d1=pow(((Yact - yam)**2),1/2)\n",
        "  d2=pow(((Ypred - ypm)**2),1/2)\n",
        "  c_c=num/(d1*d2)\n",
        "  return c_c"
      ],
      "metadata": {
        "id": "JqKRD5HigWWr"
      },
      "execution_count": 57,
      "outputs": []
    },
    {
      "cell_type": "markdown",
      "source": [
        "Finding Errors"
      ],
      "metadata": {
        "id": "an0F5uyPdJCh"
      }
    },
    {
      "cell_type": "markdown",
      "source": [
        "Using sklearn libraries(was allowed)"
      ],
      "metadata": {
        "id": "J5YWRkMlws33"
      }
    },
    {
      "cell_type": "code",
      "source": [
        "from sklearn.metrics import mean_squared_error\n",
        "from sklearn.metrics import mean_absolute_error\n",
        "from sklearn.metrics import matthews_corrcoef"
      ],
      "metadata": {
        "id": "Aao_mEFmwvIF"
      },
      "execution_count": 58,
      "outputs": []
    },
    {
      "cell_type": "code",
      "source": [
        "Xte1=Xte[:,0].reshape(Xte.shape[0],1)\n",
        "Xte2=Xte[:,1].reshape(Xte.shape[0],1)\n",
        "k=Xte.shape[0]\n",
        "print(Xte2)\n",
        "# print(Xte2.shape)"
      ],
      "metadata": {
        "colab": {
          "base_uri": "https://localhost:8080/"
        },
        "id": "uL-azKOGj0z7",
        "outputId": "e3e75780-1dad-482d-e798-2f6cb1f50118"
      },
      "execution_count": 59,
      "outputs": [
        {
          "output_type": "stream",
          "name": "stdout",
          "text": [
            "[[8.58]\n",
            " [9.08]\n",
            " [9.58]\n",
            " [8.08]\n",
            " [7.58]\n",
            " [8.58]\n",
            " [9.08]\n",
            " [9.58]\n",
            " [8.08]\n",
            " [7.58]]\n"
          ]
        }
      ]
    },
    {
      "cell_type": "code",
      "source": [
        "\n",
        "# Xte1=np.append(Xte1,Xte1,axis=1)\n",
        "\n",
        "# Xte1=np.append(Xte1,Xte2,axis=1)\n",
        "Xte1=np.append(Xte,Xte1**2,axis=1)\n",
        "Xte1=np.append(Xte,Xte2**2,axis=1)\n",
        "Xte1=np.append(Xte,Xte1*Xte2,axis=1)\n",
        "Xte1=np.append(np.ones([k,1]),Xte1,axis=1)\n",
        "print(Xte1)"
      ],
      "metadata": {
        "colab": {
          "base_uri": "https://localhost:8080/"
        },
        "id": "qKOT0zUBjMIH",
        "outputId": "4931a56f-973e-401a-bd55-6d1f04c9e5d2"
      },
      "execution_count": 60,
      "outputs": [
        {
          "output_type": "stream",
          "name": "stdout",
          "text": [
            "[[  1.        17.4        8.58     149.292     73.6164   631.628712]\n",
            " [  1.        17.86       9.08     162.1688    82.4464   748.613312]\n",
            " [  1.        18.3        9.58     175.314     91.7764   879.217912]\n",
            " [  1.        16.97       8.08     137.1176    65.2864   527.514112]\n",
            " [  1.        16.46       7.58     124.7668    57.4564   435.519512]\n",
            " [  1.        17.4        8.58     149.292     73.6164   631.628712]\n",
            " [  1.        17.85       9.08     162.078     82.4464   748.613312]\n",
            " [  1.        18.3        9.58     175.314     91.7764   879.217912]\n",
            " [  1.        16.9        8.08     136.552     65.2864   527.514112]\n",
            " [  1.        16.42       7.58     124.4636    57.4564   435.519512]]\n"
          ]
        }
      ]
    },
    {
      "cell_type": "code",
      "source": [
        "Xte1.shape\n",
        "print(Xte1)\n",
        "print(bgd.T)"
      ],
      "metadata": {
        "colab": {
          "base_uri": "https://localhost:8080/"
        },
        "id": "bsS2v_8Oykn_",
        "outputId": "08a586a1-1368-4371-9c27-7325c733c4ef"
      },
      "execution_count": 61,
      "outputs": [
        {
          "output_type": "stream",
          "name": "stdout",
          "text": [
            "[[  1.        17.4        8.58     149.292     73.6164   631.628712]\n",
            " [  1.        17.86       9.08     162.1688    82.4464   748.613312]\n",
            " [  1.        18.3        9.58     175.314     91.7764   879.217912]\n",
            " [  1.        16.97       8.08     137.1176    65.2864   527.514112]\n",
            " [  1.        16.46       7.58     124.7668    57.4564   435.519512]\n",
            " [  1.        17.4        8.58     149.292     73.6164   631.628712]\n",
            " [  1.        17.85       9.08     162.078     82.4464   748.613312]\n",
            " [  1.        18.3        9.58     175.314     91.7764   879.217912]\n",
            " [  1.        16.9        8.08     136.552     65.2864   527.514112]\n",
            " [  1.        16.42       7.58     124.4636    57.4564   435.519512]]\n",
            "[[0.12040141]\n",
            " [0.06170125]\n",
            " [0.06961951]\n",
            " [0.04162253]\n",
            " [0.04871827]\n",
            " [0.04190613]]\n"
          ]
        }
      ]
    },
    {
      "cell_type": "code",
      "source": [
        "y_pred_bgd=Xte1.dot(bgd.T)\n",
        "print(mean_squared_error(y_pred_bgd, Yte))\n",
        "print(mean_absolute_error(y_pred_bgd, Yte))\n",
        "# print(matthews_corrcoef(y_pred_bgd, Yte))\n",
        "\n",
        "\n",
        "y_pred_bgd_l1=Xte1.dot(bgd_l1.T)\n",
        "print(mean_squared_error(y_pred_bgd_l1, Yte))\n",
        "print(mean_absolute_error(y_pred_bgd_l1, Yte))\n",
        "# print(matthews_corrcoef(y_pred_bgd_l1, Yte))\n",
        "\n",
        "y_pred_bgd_l2=Xte1.dot(bgd_l2.T)\n",
        "print(mean_squared_error(y_pred_bgd_l2, Yte))\n",
        "print(mean_absolute_error(y_pred_bgd_l2, Yte))\n",
        "# print(matthews_corrcoef(y_pred_bgd_l2, Yte))"
      ],
      "metadata": {
        "colab": {
          "base_uri": "https://localhost:8080/"
        },
        "id": "UEHELjj5yklo",
        "outputId": "fce6a35f-d396-4d78-a4a1-9b04f85124c9"
      },
      "execution_count": 62,
      "outputs": [
        {
          "output_type": "stream",
          "name": "stdout",
          "text": [
            "1451.208834920268\n",
            "37.242967368074865\n",
            "1475.7561322470854\n",
            "37.55691224167781\n",
            "1191.460677421232\n",
            "33.740143694028866\n"
          ]
        }
      ]
    },
    {
      "cell_type": "markdown",
      "source": [
        "Stochastic Gradient descent"
      ],
      "metadata": {
        "id": "aHc6z2Xcz4qu"
      }
    },
    {
      "cell_type": "code",
      "source": [
        "y_pred_sgd=Xte1.dot(sgd.T)\n",
        "print(mean_squared_error(y_pred_sgd, Yte))\n",
        "print(mean_absolute_error(y_pred_sgd, Yte))\n",
        "# print(matthews_corrcoef(y_pred_sgd, Yte))\n",
        "\n",
        "y_pred_sgd_l1=Xte1.dot(sgd_l1.T)\n",
        "print(mean_squared_error(y_pred_sgd_l1, Yte))\n",
        "print(mean_absolute_error(y_pred_sgd_l1, Yte))\n",
        "# print(matthews_corrcoef(y_pred_sgd_l1, Yte))\n",
        "\n",
        "y_pred_sgd_l2=Xte1.dot(sgd_l2.T)\n",
        "print(mean_squared_error(y_pred_sgd_l2, Yte))\n",
        "print(mean_absolute_error(y_pred_sgd_l2, Yte))\n",
        "# print(matthews_corrcoef(y_pred_sgd_l2, Yte))"
      ],
      "metadata": {
        "id": "Mbt5nrEUykjV",
        "colab": {
          "base_uri": "https://localhost:8080/"
        },
        "outputId": "f06e6acf-19d5-4079-82c2-f2a07336fdcc"
      },
      "execution_count": 63,
      "outputs": [
        {
          "output_type": "stream",
          "name": "stdout",
          "text": [
            "359.48963297053274\n",
            "18.491852086462014\n",
            "921.53602271369\n",
            "29.644654777000063\n",
            "1064.669590639896\n",
            "31.86843736823422\n"
          ]
        }
      ]
    }
  ]
}
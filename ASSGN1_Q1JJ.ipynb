{
  "nbformat": 4,
  "nbformat_minor": 0,
  "metadata": {
    "colab": {
      "name": "ASSGN1_Q1",
      "provenance": [],
      "collapsed_sections": []
    },
    "kernelspec": {
      "name": "python3",
      "display_name": "Python 3"
    },
    "language_info": {
      "name": "python"
    }
  },
  "cells": [
    {
      "cell_type": "code",
      "execution_count": 1,
      "metadata": {
        "colab": {
          "base_uri": "https://localhost:8080/"
        },
        "id": "Ydx0PKklRR3o",
        "outputId": "f7554493-5fbe-4b44-f838-95c251bb3bae"
      },
      "outputs": [
        {
          "output_type": "stream",
          "name": "stdout",
          "text": [
            "Mounted at /content/drive\n"
          ]
        }
      ],
      "source": [
        "from google.colab import drive\n",
        "drive.mount('/content/drive')"
      ]
    },
    {
      "cell_type": "code",
      "source": [
        "import pandas as pd\n",
        "import math\n",
        "import numpy as np\n",
        "import matplotlib.pyplot as plt"
      ],
      "metadata": {
        "id": "wLCVgAkw6Jze"
      },
      "execution_count": 2,
      "outputs": []
    },
    {
      "cell_type": "markdown",
      "source": [
        "Linear Regression with L2 norm regularization commented\n"
      ],
      "metadata": {
        "id": "RA7brr2gCCFg"
      }
    },
    {
      "cell_type": "code",
      "source": [
        "def cost_function(X,y,w):\n",
        "  hypothesis = np.dot(X,w.T) ###calculation of hypothesis for all instances\n",
        "  J = (1/(2*len(y))) * np.sum((hypothesis - y) ** 2) ####as mention in the class notes\n",
        "  # J = (1/(2*len(y))) * np.sum((hypothesis - y) ** 2)+(lamb/2)*np.sum(w**2) ####as mention\n",
        "  return J"
      ],
      "metadata": {
        "id": "TRzyVoes6LSV"
      },
      "execution_count": 3,
      "outputs": []
    },
    {
      "cell_type": "code",
      "source": [
        "def batch_gradient_descent(X,y,w,alpha,iters,lamb):\n",
        "  cost_history = np.zeros(iters) # cost function for each iteration\n",
        "  #initalize our cost history list to store the cost function on every iteration\n",
        "  for i in range(iters):\n",
        "    hypothesis = np.dot(X,w.T)\n",
        "    #w = (w*(1-alpha*lamb)) -(alpha/len(y)) * np.dot(hypothesis - y, X)\n",
        "    w = w - (alpha/len(y)) * np.dot(hypothesis - y, X)\n",
        "    #cost_history[i] = cost_function(X,y,w,lamb)\n",
        "    cost_history[i] = cost_function(X,y,w)\n",
        "  return w,cost_history"
      ],
      "metadata": {
        "id": "TRsfyuOK6QJf"
      },
      "execution_count": 4,
      "outputs": []
    },
    {
      "cell_type": "code",
      "source": [
        "def MB_gradient_descent(X,y,w,alpha, iters, batch_size):\n",
        "  cost_history = np.zeros(iters)\n",
        "  for i in range(iters):\n",
        "    rand_index = np.random.randint(len(y)-batch_size)\n",
        "    ind_x = X[rand_index:rand_index+batch_size]\n",
        "    ind_y = y[rand_index:rand_index+batch_size]\n",
        "    w = w - (alpha/batch_size) * (ind_x.T.dot(ind_x.dot(w) - ind_y))\n",
        "    cost_history[i] = cost_function(ind_x,ind_y,w)\n",
        "  return w, cost_history"
      ],
      "metadata": {
        "id": "l7neEv2h6R6Z"
      },
      "execution_count": 5,
      "outputs": []
    },
    {
      "cell_type": "code",
      "source": [
        "def stochastic_gradient_descent(X,y,w,alpha, iters):\n",
        "  cost_history = np.zeros(iters)\n",
        "  for i in range(iters):\n",
        "    rand_index = np.random.randint(len(y)-1)\n",
        "    ind_x = X[rand_index:rand_index+1]\n",
        "    ind_y = y[rand_index:rand_index+1]\n",
        "    w = w - alpha * (ind_x.T.dot(ind_x.dot(w) - ind_y))\n",
        "    cost_history[i] = cost_function(ind_x,ind_y,w)\n",
        "  return w, cost_history"
      ],
      "metadata": {
        "id": "BsZ2V59s6TmP"
      },
      "execution_count": 6,
      "outputs": []
    },
    {
      "cell_type": "markdown",
      "source": [
        "Linear Regression with L2 norm regularization"
      ],
      "metadata": {
        "id": "Ls1Qt_hCCMfA"
      }
    },
    {
      "cell_type": "code",
      "source": [
        "def cost_function_l2(X,y,w,lamb):\n",
        "    hypothesis = np.dot(X,w.T)\n",
        "    #J = (1/(2*len(y)))*np.sum((hypothesis-y)**2)\n",
        "    J= (1/(2*len(y)))*np.sum((hypothesis-y)**2) + (lamb/2)*np.sum(w**2)\n",
        "    return J"
      ],
      "metadata": {
        "id": "yRWSABF7CTuI"
      },
      "execution_count": 7,
      "outputs": []
    },
    {
      "cell_type": "code",
      "source": [
        "def batch_gradient_descent_l2(X,y,w,alpha,iters,lamb):\n",
        "    cost_history = np.zeros(iters)\n",
        "    for i in range(iters):\n",
        "        hypothesis = np.dot(X,w.T)\n",
        "        w = (w*(1-alpha*lamb)) - (alpha/len(y)) * (np.dot(hypothesis - y, X))\n",
        "        cost_history[i] = cost_function_l2(X,y,w,lamb)\n",
        "    return w, cost_history"
      ],
      "metadata": {
        "id": "vz8cNBhcC8pN"
      },
      "execution_count": 8,
      "outputs": []
    },
    {
      "cell_type": "code",
      "source": [
        "def MB_gradient_descent_l2(X,y,w,alpha, iters, batch_size,lamb):\n",
        "    cost_history = np.zeros(iters)\n",
        "    for i in range(iters):\n",
        "        rand_index = np.random.randint(len(y)-batch_size)\n",
        "        ind_x = X[rand_index:rand_index+batch_size]\n",
        "        ind_y = y[rand_index:rand_index+batch_size]\n",
        "        \n",
        "        w = w*int((1-(alpha*lamb))) - (alpha/batch_size) * (np.dot((np.dot(ind_x,w) - ind_y),np.transpose(ind_x)))\n",
        "        cost_history[i] = cost_function_l2(ind_x,ind_y,w,lamb)\n",
        "    return w, cost_history"
      ],
      "metadata": {
        "id": "F5ZOZ6cVTVGd"
      },
      "execution_count": 9,
      "outputs": []
    },
    {
      "cell_type": "code",
      "source": [
        "def stochastic_gradient_descent_l2(X,y,w,alpha, iters,lamb):\n",
        "    cost_history = np.zeros(iters)\n",
        "    for i in range(iters):\n",
        "        rand_index = np.random.randint(len(y)-1)\n",
        "        ind_x = X[rand_index:rand_index+1]\n",
        "        ind_y = y[rand_index:rand_index+1]\n",
        "        w = w*(1-alpha*lamb) - alpha * (ind_x.T.dot(ind_x.dot(w) - ind_y))\n",
        "        cost_history[i] = cost_function_l2(ind_x,ind_y,w,lamb)\n",
        "    return w, cost_history"
      ],
      "metadata": {
        "id": "SFokt_AfTRYg"
      },
      "execution_count": 10,
      "outputs": []
    },
    {
      "cell_type": "markdown",
      "source": [
        "Linear Regression with Least Angle Regression Model"
      ],
      "metadata": {
        "id": "bWWZiOx8VYBA"
      }
    },
    {
      "cell_type": "code",
      "source": [
        "def cost_function_l1(X,y,w,lamb):\n",
        "    hypothesis = np.dot(X,np.transpose(w))\n",
        "    #J = (1/(2*len(y)))*np.sum((hypothesis-y)**2)\n",
        "    J= (1/(2*len(y)))*np.sum((hypothesis-y)**2) + (lamb/2)*np.sum(abs(w))\n",
        "    return J"
      ],
      "metadata": {
        "id": "mQUxIS7yZO-q"
      },
      "execution_count": 11,
      "outputs": []
    },
    {
      "cell_type": "code",
      "source": [
        "def batch_gradient_descent_l1(X,y,w,alpha,iters,lamb):\n",
        "    cost_history = np.zeros(iters)\n",
        "    for i in range(iters):\n",
        "        hypothesis = np.dot(X,w.T)\n",
        "        w = w - (alpha/len(y)) * (np.dot(hypothesis - y, X) - (lamb/2)*np.sign(w))\n",
        "        cost_history[i] = cost_function_l2(X,y,w,lamb)\n",
        "    return w, cost_history"
      ],
      "metadata": {
        "id": "OIKkPqKqZPJg"
      },
      "execution_count": 12,
      "outputs": []
    },
    {
      "cell_type": "code",
      "source": [
        "def stochastic_gradient_descent_l1(X,y,w,alpha, iters,lamb):\n",
        "    cost_history = np.zeros(iters)\n",
        "    for i in range(iters):\n",
        "        rand_index = np.random.randint(len(y)-1)\n",
        "        ind_x = X[rand_index:rand_index+1]\n",
        "        ind_y = y[rand_index:rand_index+1]\n",
        "        w = w - alpha * (ind_x.T.dot(ind_x.dot(w) - ind_y) - (lamb/2)*np.sign(w))\n",
        "        cost_history[i] = cost_function_l1(ind_x,ind_y,w,lamb)\n",
        "    return w, cost_history"
      ],
      "metadata": {
        "id": "L__JGdm7Tu59"
      },
      "execution_count": 13,
      "outputs": []
    },
    {
      "cell_type": "code",
      "source": [
        "def MB_gradient_descent(X,y,w,alpha, iters, batch_size):\n",
        "    cost_history = np.zeros(iters)\n",
        "    for i in range(iters):\n",
        "        rand_index = np.random.randint(len(y)-batch_size)\n",
        "        ind_x = X[rand_index:rand_index+batch_size]\n",
        "        ind_y = y[rand_index:rand_index+batch_size]\n",
        "        w = w - (alpha/batch_size) * (ind_x.T@(ind_x@w - ind_y))\n",
        "        cost_history[i] = cost_function(ind_x,ind_y,w)\n",
        "    return w, cost_history"
      ],
      "metadata": {
        "id": "aa2dpOO4ZPVZ"
      },
      "execution_count": 14,
      "outputs": []
    },
    {
      "cell_type": "markdown",
      "source": [
        "TrainingData"
      ],
      "metadata": {
        "id": "770tYAsTcRCj"
      }
    },
    {
      "cell_type": "code",
      "source": [
        "dataxtr = pd.read_csv('/content/drive/MyDrive/xtr.csv',header=None)\n",
        "dataytr = pd.read_csv('/content/drive/MyDrive/ytr.csv',header=None)\n"
      ],
      "metadata": {
        "id": "pN6ykAyeikel"
      },
      "execution_count": 15,
      "outputs": []
    },
    {
      "cell_type": "markdown",
      "source": [
        "TestingData"
      ],
      "metadata": {
        "id": "wp6X92ClcVDs"
      }
    },
    {
      "cell_type": "code",
      "source": [
        "dataxte = pd.read_csv('/content/drive/MyDrive/xte.csv',header=None)\n",
        "datayte = pd.read_csv('/content/drive/MyDrive/yte.csv',header=None)\n"
      ],
      "metadata": {
        "id": "kFtlAWlccUum"
      },
      "execution_count": 16,
      "outputs": []
    },
    {
      "cell_type": "code",
      "source": [
        "data_XTraining=dataxtr.values\n",
        "X=data_XTraining[:,:]\n",
        "# print(X)\n",
        "m=X.shape[0]\n",
        "xmin=np.min(X,axis=0)\n",
        "xmax=np.max(X,axis=0)\n",
        "# print(xmin , xmax)\n",
        "X = (X- xmin)/(xmax-xmin) #Normalization\n",
        "# print(X)"
      ],
      "metadata": {
        "id": "Edy94uT_YAzC"
      },
      "execution_count": 17,
      "outputs": []
    },
    {
      "cell_type": "code",
      "source": [
        "pp = np.ones([m, 1]) # vector containg ones as all elements\n",
        "X = np.append(pp,X, axis=1) #Column of ones\n",
        "# print(X)"
      ],
      "metadata": {
        "id": "bnl-xwugYA7S"
      },
      "execution_count": 18,
      "outputs": []
    },
    {
      "cell_type": "code",
      "source": [
        "X.shape"
      ],
      "metadata": {
        "colab": {
          "base_uri": "https://localhost:8080/"
        },
        "id": "Mnz2SVGshJPK",
        "outputId": "31a97a80-8196-4d35-cf5e-f2b471133149"
      },
      "execution_count": 19,
      "outputs": [
        {
          "output_type": "execute_result",
          "data": {
            "text/plain": [
              "(55, 3)"
            ]
          },
          "metadata": {},
          "execution_count": 19
        }
      ]
    },
    {
      "cell_type": "code",
      "source": [
        "data_YTraining=dataytr.values\n",
        "Y=data_YTraining[:,:]\n",
        "# print(Y)\n",
        "m=X.shape[0]\n",
        "ymin=np.min(Y,axis=0)\n",
        "ymax=np.max(Y,axis=0)\n",
        "# print(ymin , ymax)\n",
        "y = (Y- ymin)/(ymax-ymin) #Normalization\n",
        "#print(Y)"
      ],
      "metadata": {
        "id": "dGNyLW1bhN3h"
      },
      "execution_count": 20,
      "outputs": []
    },
    {
      "cell_type": "code",
      "source": [
        "#Linear regression starts from here\n",
        "w= np.zeros(X.shape[1]) ##weight initialization\n",
        "#w=[0.5, 0.5, 0.5]\n",
        "w1=np.zeros((X.shape[1]))\n",
        "print(w)"
      ],
      "metadata": {
        "colab": {
          "base_uri": "https://localhost:8080/"
        },
        "id": "if6sUJzJmbZ0",
        "outputId": "d0948fb9-2a4c-449d-8d46-b6c2ec8afaa1"
      },
      "execution_count": 21,
      "outputs": [
        {
          "output_type": "stream",
          "name": "stdout",
          "text": [
            "[0. 0. 0.]\n"
          ]
        }
      ]
    },
    {
      "cell_type": "markdown",
      "source": [
        "Batch Gradient Descent"
      ],
      "metadata": {
        "id": "6EU9XKiZcfZu"
      }
    },
    {
      "cell_type": "code",
      "source": [
        "alpha=0.005 ##learning rate\n",
        "iters=100 ###iterations\n",
        "lamb=5\n",
        "batch_w,J_his = batch_gradient_descent(X,Y,w,alpha,iters,lamb)"
      ],
      "metadata": {
        "id": "3tim9aWnmfjP"
      },
      "execution_count": 22,
      "outputs": []
    },
    {
      "cell_type": "code",
      "source": [
        "plt.plot(range(iters),J_his)\n",
        "plt.show()"
      ],
      "metadata": {
        "colab": {
          "base_uri": "https://localhost:8080/",
          "height": 265
        },
        "id": "n-NG9zajmh3j",
        "outputId": "a24a0b6d-8e6f-4c60-b613-9c5d069f45bd"
      },
      "execution_count": 23,
      "outputs": [
        {
          "output_type": "display_data",
          "data": {
            "image/png": "[encoded data removed]",
            "text/plain": [
              "<Figure size 432x288 with 1 Axes>"
            ]
          },
          "metadata": {
            "needs_background": "light"
          }
        }
      ]
    },
    {
      "cell_type": "code",
      "source": [
        "print(batch_w[0])"
      ],
      "metadata": {
        "colab": {
          "base_uri": "https://localhost:8080/"
        },
        "id": "SQl3gbG5mpV0",
        "outputId": "cef41783-cbb5-4da5-9428-56b8a2191ff7"
      },
      "execution_count": 24,
      "outputs": [
        {
          "output_type": "stream",
          "name": "stdout",
          "text": [
            "[0.45651057 0.23564335 0.26581355]\n"
          ]
        }
      ]
    },
    {
      "cell_type": "code",
      "source": [
        "# print(y)"
      ],
      "metadata": {
        "id": "DhGY7NXoyXP8"
      },
      "execution_count": 25,
      "outputs": []
    },
    {
      "cell_type": "markdown",
      "source": [
        "Batch Gradient Descent with L2 norm regularization"
      ],
      "metadata": {
        "id": "RA7hHKkDclu7"
      }
    },
    {
      "cell_type": "code",
      "source": [
        "alpha=0.002 ##learning rate\n",
        "iters=100 ###iterations\n",
        "lamb=3.5\n",
        "batch_w_l2,J_his_l2 = batch_gradient_descent_l2(X,y,w,alpha,iters,lamb)\n",
        "plt.plot(range(iters),J_his_l2)\n",
        "plt.show()"
      ],
      "metadata": {
        "id": "3gPtOVYRxI0Y",
        "colab": {
          "base_uri": "https://localhost:8080/",
          "height": 265
        },
        "outputId": "90aba96c-5a9e-4620-eaaf-5708f99fca53"
      },
      "execution_count": 26,
      "outputs": [
        {
          "output_type": "display_data",
          "data": {
            "image/png": "[encoded data removed]",
            "text/plain": [
              "<Figure size 432x288 with 1 Axes>"
            ]
          },
          "metadata": {
            "needs_background": "light"
          }
        }
      ]
    },
    {
      "cell_type": "markdown",
      "source": [
        "Batch Gradient Descent with L1 norm regularization"
      ],
      "metadata": {
        "id": "n9uLJ-odcrmo"
      }
    },
    {
      "cell_type": "code",
      "source": [
        "alpha=0.004 ##learning rate\n",
        "iters=1000 ###iterations\n",
        "lamb=3\n",
        "batch_w,J_his = batch_gradient_descent_l1(X,y,w,alpha,iters,lamb)\n",
        "\n",
        "plt.plot(range(iters),J_his)\n",
        "plt.show()"
      ],
      "metadata": {
        "id": "T6lAbYYXVwf5",
        "colab": {
          "base_uri": "https://localhost:8080/",
          "height": 265
        },
        "outputId": "32c40bc9-4ab8-490b-b416-e5b3e56d8247"
      },
      "execution_count": 27,
      "outputs": [
        {
          "output_type": "display_data",
          "data": {
            "image/png": "[encoded data removed]",
            "text/plain": [
              "<Figure size 432x288 with 1 Axes>"
            ]
          },
          "metadata": {
            "needs_background": "light"
          }
        }
      ]
    },
    {
      "cell_type": "code",
      "source": [
        "# print(batch_w)"
      ],
      "metadata": {
        "id": "eNI77tZkV3EY"
      },
      "execution_count": 28,
      "outputs": []
    },
    {
      "cell_type": "code",
      "source": [
        "bgd=batch_w[-1:]\n",
        "print(bgd)"
      ],
      "metadata": {
        "id": "rD9TxKHmV8Ur",
        "colab": {
          "base_uri": "https://localhost:8080/"
        },
        "outputId": "6b5752fc-d3b2-4f87-a40a-819ba4c81799"
      },
      "execution_count": 29,
      "outputs": [
        {
          "output_type": "stream",
          "name": "stdout",
          "text": [
            "[[1.78991329 1.15029434 1.18273904]]\n"
          ]
        }
      ]
    },
    {
      "cell_type": "code",
      "source": [
        "alpha=0.0005#learning rate\n",
        "iters=300 ###iterations\n",
        "lamb=3\n",
        "batch_w_l1,J_his_l1 = batch_gradient_descent_l1(X,y,w,alpha,iters,lamb)\n",
        "\n",
        "plt.plot(range(iters),J_his_l1)\n",
        "plt.show()"
      ],
      "metadata": {
        "id": "rBvK78AVV_oo",
        "colab": {
          "base_uri": "https://localhost:8080/",
          "height": 265
        },
        "outputId": "2350db55-344a-4102-a9be-bac8c4bac500"
      },
      "execution_count": 30,
      "outputs": [
        {
          "output_type": "display_data",
          "data": {
            "image/png": "[encoded data removed]",
            "text/plain": [
              "<Figure size 432x288 with 1 Axes>"
            ]
          },
          "metadata": {
            "needs_background": "light"
          }
        }
      ]
    },
    {
      "cell_type": "code",
      "source": [
        "# print(batch_w_l1)"
      ],
      "metadata": {
        "id": "mG2AGcxUWEEr"
      },
      "execution_count": 31,
      "outputs": []
    },
    {
      "cell_type": "code",
      "source": [
        "bgd_l1=batch_w_l1[-1:]\n",
        "print(bgd_l1)"
      ],
      "metadata": {
        "id": "ZjfVZibOWGBL",
        "colab": {
          "base_uri": "https://localhost:8080/"
        },
        "outputId": "2b4c1ca2-3192-4a56-d543-59705268da80"
      },
      "execution_count": 32,
      "outputs": [
        {
          "output_type": "stream",
          "name": "stdout",
          "text": [
            "[[0.09544143 0.05084858 0.05689333]]\n"
          ]
        }
      ]
    },
    {
      "cell_type": "code",
      "source": [
        "alpha=0.05 \n",
        "iters=300 ###iterations\n",
        "lamb=1\n",
        "w_n,J_sgd = stochastic_gradient_descent(X,y,w,alpha, iters)\n",
        "\n",
        "plt.plot(range(iters),J_sgd)\n",
        "plt.show()"
      ],
      "metadata": {
        "colab": {
          "base_uri": "https://localhost:8080/",
          "height": 265
        },
        "id": "Nzw4bwmRWIBv",
        "outputId": "93bce15a-cbb2-4724-cbb4-bbc877505189"
      },
      "execution_count": 33,
      "outputs": [
        {
          "output_type": "display_data",
          "data": {
            "image/png": "[encoded data removed]",
            "text/plain": [
              "<Figure size 432x288 with 1 Axes>"
            ]
          },
          "metadata": {
            "needs_background": "light"
          }
        }
      ]
    },
    {
      "cell_type": "code",
      "source": [
        "print(w_n)"
      ],
      "metadata": {
        "id": "x7NjG72IWI1k",
        "colab": {
          "base_uri": "https://localhost:8080/"
        },
        "outputId": "31d86271-24cc-4d13-cccd-5e7ac867db42"
      },
      "execution_count": 34,
      "outputs": [
        {
          "output_type": "stream",
          "name": "stdout",
          "text": [
            "[[0.32669834 0.32669834 0.32669834]\n",
            " [0.06385748 0.06385748 0.06385748]\n",
            " [0.12359107 0.12359107 0.12359107]]\n"
          ]
        }
      ]
    },
    {
      "cell_type": "code",
      "source": [
        "sgd=w_n[-1:]\n",
        "print(sgd)"
      ],
      "metadata": {
        "id": "ajQkMZSLWN6m",
        "colab": {
          "base_uri": "https://localhost:8080/"
        },
        "outputId": "85c79753-08a6-441c-eb5c-bccc73c39e18"
      },
      "execution_count": 35,
      "outputs": [
        {
          "output_type": "stream",
          "name": "stdout",
          "text": [
            "[[0.12359107 0.12359107 0.12359107]]\n"
          ]
        }
      ]
    },
    {
      "cell_type": "code",
      "source": [
        "alpha=0.002\n",
        "iters=300 ###iterations\n",
        "lamb=1\n",
        "w_n_l1,J_sgd_l1 = stochastic_gradient_descent_l1(X,y,w,alpha, iters,lamb)\n",
        "\n",
        "plt.plot(range(iters),J_sgd_l1)\n",
        "plt.show()"
      ],
      "metadata": {
        "id": "XovdjdqfWP45",
        "colab": {
          "base_uri": "https://localhost:8080/",
          "height": 265
        },
        "outputId": "08f013fa-642a-44ed-ff03-9132934f9708"
      },
      "execution_count": 36,
      "outputs": [
        {
          "output_type": "display_data",
          "data": {
            "image/png": "[encoded data removed]",
            "text/plain": [
              "<Figure size 432x288 with 1 Axes>"
            ]
          },
          "metadata": {
            "needs_background": "light"
          }
        }
      ]
    },
    {
      "cell_type": "code",
      "source": [
        "print(w_n_l1)"
      ],
      "metadata": {
        "id": "uLs_Hy1UWR_Y",
        "colab": {
          "base_uri": "https://localhost:8080/"
        },
        "outputId": "8f01b476-dfc1-424c-a93d-9446af074cb3"
      },
      "execution_count": 37,
      "outputs": [
        {
          "output_type": "stream",
          "name": "stdout",
          "text": [
            "[[0.32578497 0.32578497 0.32578497]\n",
            " [0.30053543 0.30053543 0.30053543]\n",
            " [0.30745521 0.30745521 0.30745521]]\n"
          ]
        }
      ]
    },
    {
      "cell_type": "code",
      "source": [
        "sgd_l1=w_n_l1[-1:]\n",
        "print(sgd_l1)"
      ],
      "metadata": {
        "id": "Q4SoVoBAWVzF",
        "colab": {
          "base_uri": "https://localhost:8080/"
        },
        "outputId": "df356733-61cc-4d10-b3c5-456b5b676d2a"
      },
      "execution_count": 38,
      "outputs": [
        {
          "output_type": "stream",
          "name": "stdout",
          "text": [
            "[[0.30745521 0.30745521 0.30745521]]\n"
          ]
        }
      ]
    },
    {
      "cell_type": "code",
      "source": [
        "alpha=0.01 \n",
        "iters=300 ###iterations\n",
        "lamb=3\n",
        "w_n_l2,J_sgd_l2 = stochastic_gradient_descent_l2(X,y,w,alpha, iters,lamb)\n",
        "plt.plot(range(iters),J_sgd_l2)\n",
        "plt.show()"
      ],
      "metadata": {
        "id": "kSQyK-Y4Wb0d",
        "colab": {
          "base_uri": "https://localhost:8080/",
          "height": 265
        },
        "outputId": "591e2a00-75d6-4511-b568-e0f93c5d5e33"
      },
      "execution_count": 39,
      "outputs": [
        {
          "output_type": "display_data",
          "data": {
            "image/png": "[encoded data removed]",
            "text/plain": [
              "<Figure size 432x288 with 1 Axes>"
            ]
          },
          "metadata": {
            "needs_background": "light"
          }
        }
      ]
    },
    {
      "cell_type": "code",
      "source": [
        "print(w_n_l2)"
      ],
      "metadata": {
        "id": "r4XTQw3QWflh",
        "colab": {
          "base_uri": "https://localhost:8080/"
        },
        "outputId": "0093a9d8-93b8-46bb-ac0c-e1fba511b8f8"
      },
      "execution_count": 40,
      "outputs": [
        {
          "output_type": "stream",
          "name": "stdout",
          "text": [
            "[[0.08936464 0.08936464 0.08936464]\n",
            " [0.05460252 0.05460252 0.05460252]\n",
            " [0.06078956 0.06078956 0.06078956]]\n"
          ]
        }
      ]
    },
    {
      "cell_type": "code",
      "source": [
        "sgd_l2=w_n_l2[-1:]\n",
        "print(sgd_l2)"
      ],
      "metadata": {
        "id": "Bseh76ZwWhwY",
        "colab": {
          "base_uri": "https://localhost:8080/"
        },
        "outputId": "a17cefc6-1d7d-4331-dff1-ea0e5b971f49"
      },
      "execution_count": 41,
      "outputs": [
        {
          "output_type": "stream",
          "name": "stdout",
          "text": [
            "[[0.06078956 0.06078956 0.06078956]]\n"
          ]
        }
      ]
    },
    {
      "cell_type": "code",
      "source": [
        "00000000000000000000000alpha=0.05 \n",
        "iters=300 ###iterations\n",
        "lamb=3\n",
        "batch_size=25\n",
        "mb_w,J_mb = MB_gradient_descent(X,y,w1,alpha, iters, batch_size)\n",
        "\n",
        "plt.plot(range(iters),J_mb)\n",
        "plt.show()"
      ],
      "metadata": {
        "id": "OozzK1SqWltZ",
        "colab": {
          "base_uri": "https://localhost:8080/",
          "height": 356
        },
        "outputId": "c1281a89-a50e-4db5-c57e-6a6c44a4593e"
      },
      "execution_count": 42,
      "outputs": [
        {
          "output_type": "error",
          "ename": "ValueError",
          "evalue": "ignored",
          "traceback": [
            "\u001b[0;31m---------------------------------------------------------------------------\u001b[0m",
            "\u001b[0;31mValueError\u001b[0m                                Traceback (most recent call last)",
            "\u001b[0;32m<ipython-input-42-80c5a5cc9b98>\u001b[0m in \u001b[0;36m<module>\u001b[0;34m()\u001b[0m\n\u001b[1;32m      3\u001b[0m \u001b[0mlamb\u001b[0m\u001b[0;34m=\u001b[0m\u001b[0;36m3\u001b[0m\u001b[0;34m\u001b[0m\u001b[0;34m\u001b[0m\u001b[0m\n\u001b[1;32m      4\u001b[0m \u001b[0mbatch_size\u001b[0m\u001b[0;34m=\u001b[0m\u001b[0;36m25\u001b[0m\u001b[0;34m\u001b[0m\u001b[0;34m\u001b[0m\u001b[0m\n\u001b[0;32m----> 5\u001b[0;31m \u001b[0mmb_w\u001b[0m\u001b[0;34m,\u001b[0m\u001b[0mJ_mb\u001b[0m \u001b[0;34m=\u001b[0m \u001b[0mMB_gradient_descent\u001b[0m\u001b[0;34m(\u001b[0m\u001b[0mX\u001b[0m\u001b[0;34m,\u001b[0m\u001b[0my\u001b[0m\u001b[0;34m,\u001b[0m\u001b[0mw1\u001b[0m\u001b[0;34m,\u001b[0m\u001b[0malpha\u001b[0m\u001b[0;34m,\u001b[0m \u001b[0miters\u001b[0m\u001b[0;34m,\u001b[0m \u001b[0mbatch_size\u001b[0m\u001b[0;34m)\u001b[0m\u001b[0;34m\u001b[0m\u001b[0;34m\u001b[0m\u001b[0m\n\u001b[0m\u001b[1;32m      6\u001b[0m \u001b[0;34m\u001b[0m\u001b[0m\n\u001b[1;32m      7\u001b[0m \u001b[0mplt\u001b[0m\u001b[0;34m.\u001b[0m\u001b[0mplot\u001b[0m\u001b[0;34m(\u001b[0m\u001b[0mrange\u001b[0m\u001b[0;34m(\u001b[0m\u001b[0miters\u001b[0m\u001b[0;34m)\u001b[0m\u001b[0;34m,\u001b[0m\u001b[0mJ_mb\u001b[0m\u001b[0;34m)\u001b[0m\u001b[0;34m\u001b[0m\u001b[0;34m\u001b[0m\u001b[0m\n",
            "\u001b[0;32m<ipython-input-14-bf519fb89246>\u001b[0m in \u001b[0;36mMB_gradient_descent\u001b[0;34m(X, y, w, alpha, iters, batch_size)\u001b[0m\n\u001b[1;32m      5\u001b[0m         \u001b[0mind_x\u001b[0m \u001b[0;34m=\u001b[0m \u001b[0mX\u001b[0m\u001b[0;34m[\u001b[0m\u001b[0mrand_index\u001b[0m\u001b[0;34m:\u001b[0m\u001b[0mrand_index\u001b[0m\u001b[0;34m+\u001b[0m\u001b[0mbatch_size\u001b[0m\u001b[0;34m]\u001b[0m\u001b[0;34m\u001b[0m\u001b[0;34m\u001b[0m\u001b[0m\n\u001b[1;32m      6\u001b[0m         \u001b[0mind_y\u001b[0m \u001b[0;34m=\u001b[0m \u001b[0my\u001b[0m\u001b[0;34m[\u001b[0m\u001b[0mrand_index\u001b[0m\u001b[0;34m:\u001b[0m\u001b[0mrand_index\u001b[0m\u001b[0;34m+\u001b[0m\u001b[0mbatch_size\u001b[0m\u001b[0;34m]\u001b[0m\u001b[0;34m\u001b[0m\u001b[0;34m\u001b[0m\u001b[0m\n\u001b[0;32m----> 7\u001b[0;31m         \u001b[0mw\u001b[0m \u001b[0;34m=\u001b[0m \u001b[0mw\u001b[0m \u001b[0;34m-\u001b[0m \u001b[0;34m(\u001b[0m\u001b[0malpha\u001b[0m\u001b[0;34m/\u001b[0m\u001b[0mbatch_size\u001b[0m\u001b[0;34m)\u001b[0m \u001b[0;34m*\u001b[0m \u001b[0;34m(\u001b[0m\u001b[0mind_x\u001b[0m\u001b[0;34m.\u001b[0m\u001b[0mT\u001b[0m\u001b[0;34m@\u001b[0m\u001b[0;34m(\u001b[0m\u001b[0mind_x\u001b[0m\u001b[0;34m@\u001b[0m\u001b[0mw\u001b[0m \u001b[0;34m-\u001b[0m \u001b[0mind_y\u001b[0m\u001b[0;34m)\u001b[0m\u001b[0;34m)\u001b[0m\u001b[0;34m\u001b[0m\u001b[0;34m\u001b[0m\u001b[0m\n\u001b[0m\u001b[1;32m      8\u001b[0m         \u001b[0mcost_history\u001b[0m\u001b[0;34m[\u001b[0m\u001b[0mi\u001b[0m\u001b[0;34m]\u001b[0m \u001b[0;34m=\u001b[0m \u001b[0mcost_function\u001b[0m\u001b[0;34m(\u001b[0m\u001b[0mind_x\u001b[0m\u001b[0;34m,\u001b[0m\u001b[0mind_y\u001b[0m\u001b[0;34m,\u001b[0m\u001b[0mw\u001b[0m\u001b[0;34m)\u001b[0m\u001b[0;34m\u001b[0m\u001b[0;34m\u001b[0m\u001b[0m\n\u001b[1;32m      9\u001b[0m     \u001b[0;32mreturn\u001b[0m \u001b[0mw\u001b[0m\u001b[0;34m,\u001b[0m \u001b[0mcost_history\u001b[0m\u001b[0;34m\u001b[0m\u001b[0;34m\u001b[0m\u001b[0m\n",
            "\u001b[0;31mValueError\u001b[0m: operands could not be broadcast together with shapes (3,) (3,25) "
          ]
        }
      ]
    },
    {
      "cell_type": "markdown",
      "source": [
        "**Performance Measures for Regression**(Self Defined functions)\n"
      ],
      "metadata": {
        "id": "AJOORe1_eGmZ"
      }
    },
    {
      "cell_type": "markdown",
      "source": [
        "Have defined these functions but have not used them because sklearn libraries were allowed to be used which I have used to find the three errors."
      ],
      "metadata": {
        "id": "spuBZpj8v8-f"
      }
    },
    {
      "cell_type": "markdown",
      "source": [
        "Mean Absolute Error"
      ],
      "metadata": {
        "id": "fgu3WxN6eX7d"
      }
    },
    {
      "cell_type": "code",
      "source": [
        "def mean_abs_error(Ypre,Yact):\n",
        "  sum_err=abs(Yact - Ypre)\n",
        "  ma_err=sum_err/Ypre.shape[0]\n",
        "  return ma_err"
      ],
      "metadata": {
        "id": "PaQnCPe0eGUe"
      },
      "execution_count": null,
      "outputs": []
    },
    {
      "cell_type": "markdown",
      "source": [
        "Mean Square Error"
      ],
      "metadata": {
        "id": "zvzdjdLwjnM5"
      }
    },
    {
      "cell_type": "code",
      "source": [
        "def mean_square_error(Ypre,Yact):\n",
        "  sum_error=((Yact - Ypre)**2)\n",
        "  ms_err=sum_error/Ypre.shape[0]\n",
        "  return ms_err"
      ],
      "metadata": {
        "id": "X2RUunq1eGKN"
      },
      "execution_count": null,
      "outputs": []
    },
    {
      "cell_type": "markdown",
      "source": [
        "Correlation Coefficient"
      ],
      "metadata": {
        "id": "2Aj70eXDjzPG"
      }
    },
    {
      "cell_type": "code",
      "source": [
        "def correlation_coeff(test_instances,Ypred,Yact):\n",
        "  ypm=np.mean(Ypred)##mean of Ypred data\n",
        "  yam=np.mean(Yact)##mean of Yactual data\n",
        "  num=((Yact - yam)*(Ypred-ypm))\n",
        "  d1=pow(((Yact - yam)**2),1/2)\n",
        "  d2=pow(((Ypred - ypm)**2),1/2)\n",
        "  c_c=num/(d1*d2)\n",
        "  return c_c"
      ],
      "metadata": {
        "id": "JqKRD5HigWWr"
      },
      "execution_count": null,
      "outputs": []
    },
    {
      "cell_type": "markdown",
      "source": [
        "Finding Errors"
      ],
      "metadata": {
        "id": "an0F5uyPdJCh"
      }
    },
    {
      "cell_type": "markdown",
      "source": [
        "Using sklearn libraries(was allowed)"
      ],
      "metadata": {
        "id": "J5YWRkMlws33"
      }
    },
    {
      "cell_type": "code",
      "source": [
        "from sklearn.metrics import mean_squared_error\n",
        "from sklearn.metrics import mean_absolute_error\n",
        "from sklearn.metrics import matthews_corrcoef"
      ],
      "metadata": {
        "id": "Aao_mEFmwvIF"
      },
      "execution_count": null,
      "outputs": []
    },
    {
      "cell_type": "code",
      "source": [
        "Xte = np.hstack((np.ones((Xte.shape[0],1)) , Xte))\n",
        "Xte.shape\n",
        "print(Xte)\n"
      ],
      "metadata": {
        "id": "bsS2v_8Oykn_"
      },
      "execution_count": null,
      "outputs": []
    },
    {
      "cell_type": "code",
      "source": [
        "y_pred_bgd=Xte.dot(bgd.T)\n",
        "print(mean_squared_error(y_pred_bgd, Yte))\n",
        "print(mean_absolute_error(y_pred_bgd, Yte))\n",
        "print(matthews_corrcoef(y_pred_bgd, Yte))\n",
        "\n",
        "\n",
        "# y_pred_bgd_l1=Xte.dot(bgd_l1.T)\n",
        "# print(mean_squared_error(y_pred_bgd_l1, Yte))\n",
        "# print(mean_absolute_error(y_pred_bgd_l1, Yte))\n",
        "# print(matthews_corrcoef(y_pred_bgd_l1, Yte))\n",
        "\n",
        "# y_pred_bgd_l2=Xte.dot(bgd_l2.T)\n",
        "# print(mean_squared_error(y_pred_bgd_l2, Yte))\n",
        "# print(mean_absolute_error(y_pred_bgd_l2, Yte))\n",
        "# print(matthews_corrcoef(y_pred_bgd_l2, Yte))"
      ],
      "metadata": {
        "id": "UEHELjj5yklo"
      },
      "execution_count": null,
      "outputs": []
    },
    {
      "cell_type": "markdown",
      "source": [
        "Stochastic Gradient descent"
      ],
      "metadata": {
        "id": "aHc6z2Xcz4qu"
      }
    },
    {
      "cell_type": "code",
      "source": [
        "y_pred_sgd=Xte.dot(sgd.T)\n",
        "print(mean_squared_error(y_pred_sgd, Yte))\n",
        "print(mean_absolute_error(y_pred_sgd, Yte))\n",
        "print(matthews_corrcoef(y_pred_sgd, Yte))\n",
        "\n",
        "y_pred_sgd_l1=Xte.dot(sgd_l1.T)\n",
        "print(mean_squared_error(y_pred_sgd_l1, Yte))\n",
        "print(mean_absolute_error(y_pred_sgd_l1, Yte))\n",
        "print(matthews_corrcoef(y_pred_sgd_l1, Yte))\n",
        "\n",
        "y_pred_sgd_l2=Xte.dot(sgd_l2.T)\n",
        "print(mean_squared_error(y_pred_sgd_l2, Yte))\n",
        "print(mean_absolute_error(y_pred_sgd_l2, Yte))\n",
        "print(matthews_corrcoef(y_pred_sgd_l2, Yte))"
      ],
      "metadata": {
        "id": "Mbt5nrEUykjV"
      },
      "execution_count": null,
      "outputs": []
    },
    {
      "cell_type": "markdown",
      "source": [
        "Mini Batch Gradient Descent"
      ],
      "metadata": {
        "id": "ohr0-5gGzzx1"
      }
    }
  ]
}
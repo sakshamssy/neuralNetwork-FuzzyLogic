{
  "nbformat": 4,
  "nbformat_minor": 0,
  "metadata": {
    "colab": {
      "name": "ASSGN1_Q1",
      "provenance": [],
      "collapsed_sections": []
    },
    "kernelspec": {
      "name": "python3",
      "display_name": "Python 3"
    },
    "language_info": {
      "name": "python"
    }
  },
  "cells": [
    {
      "cell_type": "code",
      "execution_count": 43,
      "metadata": {
        "colab": {
          "base_uri": "https://localhost:8080/"
        },
        "id": "Ydx0PKklRR3o",
        "outputId": "c5cb16eb-c554-458b-a443-66008449183b"
      },
      "outputs": [
        {
          "output_type": "stream",
          "name": "stdout",
          "text": [
            "Drive already mounted at /content/drive; to attempt to forcibly remount, call drive.mount(\"/content/drive\", force_remount=True).\n"
          ]
        }
      ],
      "source": [
        "from google.colab import drive\n",
        "drive.mount('/content/drive')"
      ]
    },
    {
      "cell_type": "code",
      "source": [
        "import pandas as pd\n",
        "import math\n",
        "import numpy as np\n",
        "import matplotlib.pyplot as plt"
      ],
      "metadata": {
        "id": "wLCVgAkw6Jze"
      },
      "execution_count": 44,
      "outputs": []
    },
    {
      "cell_type": "markdown",
      "source": [
        "Linear Regression with L2 norm regularization commented\n"
      ],
      "metadata": {
        "id": "RA7brr2gCCFg"
      }
    },
    {
      "cell_type": "code",
      "source": [
        "def cost_function(X,y,w):\n",
        "  hypothesis = np.dot(X,w.T) ###calculation of hypothesis for all instances\n",
        "  J = (1/(2*len(y))) * np.sum((hypothesis - y) ** 2) ####as mention in the class notes\n",
        "  # J = (1/(2*len(y))) * np.sum((hypothesis - y) ** 2)+(lamb/2)*np.sum(w**2) ####as mention\n",
        "  return J"
      ],
      "metadata": {
        "id": "TRzyVoes6LSV"
      },
      "execution_count": 45,
      "outputs": []
    },
    {
      "cell_type": "code",
      "source": [
        "def batch_gradient_descent(X,y,w,alpha,iters,lamb):\n",
        "  cost_history = np.zeros(iters) # cost function for each iteration\n",
        "  #initalize our cost history list to store the cost function on every iteration\n",
        "  for i in range(iters):\n",
        "    hypothesis = np.dot(X,w.T)\n",
        "    #w = (w*(1-alpha*lamb)) -(alpha/len(y)) * np.dot(hypothesis - y, X)\n",
        "    w = w - (alpha/len(y)) * np.dot(hypothesis - y, X)\n",
        "    #cost_history[i] = cost_function(X,y,w,lamb)\n",
        "    cost_history[i] = cost_function(X,y,w)\n",
        "  return w,cost_history"
      ],
      "metadata": {
        "id": "TRsfyuOK6QJf"
      },
      "execution_count": 46,
      "outputs": []
    },
    {
      "cell_type": "code",
      "source": [
        "def MB_gradient_descent(X,y,w,alpha, iters, batch_size):\n",
        "  cost_history = np.zeros(iters)\n",
        "  for i in range(iters):\n",
        "    rand_index = np.random.randint(len(y)-batch_size)\n",
        "    ind_x = X[rand_index:rand_index+batch_size]\n",
        "    ind_y = y[rand_index:rand_index+batch_size]\n",
        "    w = w - (alpha/batch_size) * (ind_x.T.dot(ind_x.dot(w) - ind_y))\n",
        "    cost_history[i] = cost_function(ind_x,ind_y,w)\n",
        "  return w, cost_history"
      ],
      "metadata": {
        "id": "l7neEv2h6R6Z"
      },
      "execution_count": 47,
      "outputs": []
    },
    {
      "cell_type": "code",
      "source": [
        "def stochastic_gradient_descent(X,y,w,alpha, iters):\n",
        "  cost_history = np.zeros(iters)\n",
        "  for i in range(iters):\n",
        "    rand_index = np.random.randint(len(y)-1)\n",
        "    ind_x = X[rand_index:rand_index+1]\n",
        "    ind_y = y[rand_index:rand_index+1]\n",
        "    w = w - alpha * (ind_x.T.dot(ind_x.dot(w) - ind_y))\n",
        "    cost_history[i] = cost_function(ind_x,ind_y,w)\n",
        "  return w, cost_history"
      ],
      "metadata": {
        "id": "BsZ2V59s6TmP"
      },
      "execution_count": 48,
      "outputs": []
    },
    {
      "cell_type": "markdown",
      "source": [
        "Linear Regression with L2 norm regularization"
      ],
      "metadata": {
        "id": "Ls1Qt_hCCMfA"
      }
    },
    {
      "cell_type": "code",
      "source": [
        "def cost_function_l2(X,y,w,lamb):\n",
        "    hypothesis = np.dot(X,w.T)\n",
        "    #J = (1/(2*len(y)))*np.sum((hypothesis-y)**2)\n",
        "    J= (1/(2*len(y)))*np.sum((hypothesis-y)**2) + (lamb/2)*np.sum(w**2)\n",
        "    return J"
      ],
      "metadata": {
        "id": "yRWSABF7CTuI"
      },
      "execution_count": 49,
      "outputs": []
    },
    {
      "cell_type": "code",
      "source": [
        "def batch_gradient_descent_l2(X,y,w,alpha,iters,lamb):\n",
        "    cost_history = np.zeros(iters)\n",
        "    for i in range(iters):\n",
        "        hypothesis = np.dot(X,w.T)\n",
        "        w = (w*(1-alpha*lamb)) - (alpha/len(y)) * (np.dot(hypothesis - y, X))\n",
        "        cost_history[i] = cost_function_l2(X,y,w,lamb)\n",
        "    return w, cost_history"
      ],
      "metadata": {
        "id": "vz8cNBhcC8pN"
      },
      "execution_count": 50,
      "outputs": []
    },
    {
      "cell_type": "code",
      "source": [
        "def MB_gradient_descent_l2(X,y,w,alpha, iters, batch_size,lamb):\n",
        "    cost_history = np.zeros(iters)\n",
        "    for i in range(iters):\n",
        "        rand_index = np.random.randint(len(y)-batch_size)\n",
        "        ind_x = X[rand_index:rand_index+batch_size]\n",
        "        ind_y = y[rand_index:rand_index+batch_size]\n",
        "        \n",
        "        w = w*int((1-(alpha*lamb))) - (alpha/batch_size) * (np.dot((np.dot(ind_x,w) - ind_y),np.transpose(ind_x)))\n",
        "        cost_history[i] = cost_function_l2(ind_x,ind_y,w,lamb)\n",
        "    return w, cost_history"
      ],
      "metadata": {
        "id": "F5ZOZ6cVTVGd"
      },
      "execution_count": 51,
      "outputs": []
    },
    {
      "cell_type": "code",
      "source": [
        "def stochastic_gradient_descent_l2(X,y,w,alpha, iters,lamb):\n",
        "    cost_history = np.zeros(iters)\n",
        "    for i in range(iters):\n",
        "        rand_index = np.random.randint(len(y)-1)\n",
        "        ind_x = X[rand_index:rand_index+1]\n",
        "        ind_y = y[rand_index:rand_index+1]\n",
        "        w = w*(1-alpha*lamb) - alpha * (ind_x.T.dot(ind_x.dot(w) - ind_y))\n",
        "        cost_history[i] = cost_function_l2(ind_x,ind_y,w,lamb)\n",
        "    return w, cost_history"
      ],
      "metadata": {
        "id": "SFokt_AfTRYg"
      },
      "execution_count": 52,
      "outputs": []
    },
    {
      "cell_type": "markdown",
      "source": [
        "Linear Regression with Least Angle Regression Model"
      ],
      "metadata": {
        "id": "bWWZiOx8VYBA"
      }
    },
    {
      "cell_type": "code",
      "source": [
        "def cost_function_l1(X,y,w,lamb):\n",
        "    hypothesis = np.dot(X,np.transpose(w))\n",
        "    #J = (1/(2*len(y)))*np.sum((hypothesis-y)**2)\n",
        "    J= (1/(2*len(y)))*np.sum((hypothesis-y)**2) + (lamb/2)*np.sum(abs(w))\n",
        "    return J"
      ],
      "metadata": {
        "id": "mQUxIS7yZO-q"
      },
      "execution_count": 53,
      "outputs": []
    },
    {
      "cell_type": "code",
      "source": [
        "def batch_gradient_descent_l1(X,y,w,alpha,iters,lamb):\n",
        "    cost_history = np.zeros(iters)\n",
        "    for i in range(iters):\n",
        "        hypothesis = np.dot(X,w.T)\n",
        "        w = w - (alpha/len(y)) * (np.dot(hypothesis - y, X) - (lamb/2)*np.sign(w))\n",
        "        cost_history[i] = cost_function_l2(X,y,w,lamb)\n",
        "    return w, cost_history"
      ],
      "metadata": {
        "id": "OIKkPqKqZPJg"
      },
      "execution_count": 54,
      "outputs": []
    },
    {
      "cell_type": "code",
      "source": [
        "def stochastic_gradient_descent_l1(X,y,w,alpha, iters,lamb):\n",
        "    cost_history = np.zeros(iters)\n",
        "    for i in range(iters):\n",
        "        rand_index = np.random.randint(len(y)-1)\n",
        "        ind_x = X[rand_index:rand_index+1]\n",
        "        ind_y = y[rand_index:rand_index+1]\n",
        "        w = w - alpha * (ind_x.T.dot(ind_x.dot(w) - ind_y) - (lamb/2)*np.sign(w))\n",
        "        cost_history[i] = cost_function_l1(ind_x,ind_y,w,lamb)\n",
        "    return w, cost_history"
      ],
      "metadata": {
        "id": "L__JGdm7Tu59"
      },
      "execution_count": 55,
      "outputs": []
    },
    {
      "cell_type": "code",
      "source": [
        "def MB_gradient_descent(X,y,w,alpha, iters, batch_size):\n",
        "    cost_history = np.zeros(iters)\n",
        "    for i in range(iters):\n",
        "        rand_index = np.random.randint(len(y)-batch_size)\n",
        "        ind_x = X[rand_index:rand_index+batch_size]\n",
        "        ind_y = y[rand_index:rand_index+batch_size]\n",
        "        \n",
        "        # print((ind_x.T@(ind_x@w - ind_y)).sum(axis=1).shape)\n",
        "        w = w - (alpha/batch_size) * (ind_x.T@(ind_x@w - ind_y)).sum(axis=1)\n",
        "        cost_history[i] = cost_function(ind_x,ind_y,w)\n",
        "    return w, cost_history"
      ],
      "metadata": {
        "id": "aa2dpOO4ZPVZ"
      },
      "execution_count": 95,
      "outputs": []
    },
    {
      "cell_type": "markdown",
      "source": [
        "TrainingData"
      ],
      "metadata": {
        "id": "770tYAsTcRCj"
      }
    },
    {
      "cell_type": "code",
      "source": [
        "dataxtr = pd.read_csv('/content/drive/MyDrive/xtr.csv',header=None)\n",
        "dataytr = pd.read_csv('/content/drive/MyDrive/ytr.csv',header=None)\n"
      ],
      "metadata": {
        "id": "pN6ykAyeikel"
      },
      "execution_count": 58,
      "outputs": []
    },
    {
      "cell_type": "markdown",
      "source": [
        "TestingData"
      ],
      "metadata": {
        "id": "wp6X92ClcVDs"
      }
    },
    {
      "cell_type": "code",
      "source": [
        "dataxte = pd.read_csv('/content/drive/MyDrive/xte.csv',header=None)\n",
        "datayte = pd.read_csv('/content/drive/MyDrive/yte.csv',header=None)\n"
      ],
      "metadata": {
        "id": "kFtlAWlccUum"
      },
      "execution_count": 59,
      "outputs": []
    },
    {
      "cell_type": "code",
      "source": [
        "data_XTraining=dataxtr.values\n",
        "X=data_XTraining[:,:]\n",
        "# print(X)\n",
        "m=X.shape[0]\n",
        "xmin=np.min(X,axis=0)\n",
        "xmax=np.max(X,axis=0)\n",
        "# print(xmin , xmax)\n",
        "X = (X- xmin)/(xmax-xmin) #Normalization\n",
        "# print(X)"
      ],
      "metadata": {
        "id": "Edy94uT_YAzC"
      },
      "execution_count": 60,
      "outputs": []
    },
    {
      "cell_type": "code",
      "source": [
        "pp = np.ones([m, 1]) # vector containg ones as all elements\n",
        "X = np.append(pp,X, axis=1) #Column of ones\n",
        "# print(X)"
      ],
      "metadata": {
        "id": "bnl-xwugYA7S"
      },
      "execution_count": 61,
      "outputs": []
    },
    {
      "cell_type": "code",
      "source": [
        "X.shape"
      ],
      "metadata": {
        "colab": {
          "base_uri": "https://localhost:8080/"
        },
        "id": "Mnz2SVGshJPK",
        "outputId": "59f0a752-db81-4264-f5c4-7c256085e030"
      },
      "execution_count": 62,
      "outputs": [
        {
          "output_type": "execute_result",
          "data": {
            "text/plain": [
              "(55, 3)"
            ]
          },
          "metadata": {},
          "execution_count": 62
        }
      ]
    },
    {
      "cell_type": "code",
      "source": [
        "data_YTraining=dataytr.values\n",
        "Y=data_YTraining[:,:]\n",
        "# print(Y)\n",
        "m=X.shape[0]\n",
        "ymin=np.min(Y,axis=0)\n",
        "ymax=np.max(Y,axis=0)\n",
        "# print(ymin , ymax)\n",
        "y = (Y- ymin)/(ymax-ymin) #Normalization\n",
        "#print(Y)"
      ],
      "metadata": {
        "id": "dGNyLW1bhN3h"
      },
      "execution_count": 63,
      "outputs": []
    },
    {
      "cell_type": "code",
      "source": [
        "#Linear regression starts from here\n",
        "w= np.zeros(X.shape[1]) ##weight initialization\n",
        "#w=[0.5, 0.5, 0.5]\n",
        "w1=np.zeros((X.shape[1]))\n",
        "print(w)"
      ],
      "metadata": {
        "colab": {
          "base_uri": "https://localhost:8080/"
        },
        "id": "if6sUJzJmbZ0",
        "outputId": "2c9b7024-9b4a-42e9-fc25-8d92ef05f954"
      },
      "execution_count": 64,
      "outputs": [
        {
          "output_type": "stream",
          "name": "stdout",
          "text": [
            "[0. 0. 0.]\n"
          ]
        }
      ]
    },
    {
      "cell_type": "markdown",
      "source": [
        "Batch Gradient Descent"
      ],
      "metadata": {
        "id": "6EU9XKiZcfZu"
      }
    },
    {
      "cell_type": "code",
      "source": [
        "alpha=0.005 ##learning rate\n",
        "iters=100 ###iterations\n",
        "lamb=5\n",
        "batch_w,J_his = batch_gradient_descent(X,Y,w,alpha,iters,lamb)"
      ],
      "metadata": {
        "id": "3tim9aWnmfjP"
      },
      "execution_count": 65,
      "outputs": []
    },
    {
      "cell_type": "code",
      "source": [
        "plt.plot(range(iters),J_his)\n",
        "plt.show()"
      ],
      "metadata": {
        "colab": {
          "base_uri": "https://localhost:8080/",
          "height": 265
        },
        "id": "n-NG9zajmh3j",
        "outputId": "6efc9f85-2525-4d25-844a-29116d29a018"
      },
      "execution_count": 66,
      "outputs": [
        {
          "output_type": "display_data",
          "data": {
            "image/png": "[encoded data removed]",
            "text/plain": [
              "<Figure size 432x288 with 1 Axes>"
            ]
          },
          "metadata": {
            "needs_background": "light"
          }
        }
      ]
    },
    {
      "cell_type": "code",
      "source": [
        "print(batch_w[0])"
      ],
      "metadata": {
        "colab": {
          "base_uri": "https://localhost:8080/"
        },
        "id": "SQl3gbG5mpV0",
        "outputId": "6f24e22b-1ef1-4462-e30d-4c820ac565b8"
      },
      "execution_count": 67,
      "outputs": [
        {
          "output_type": "stream",
          "name": "stdout",
          "text": [
            "[0.45651057 0.23564335 0.26581355]\n"
          ]
        }
      ]
    },
    {
      "cell_type": "code",
      "source": [
        "# print(y)"
      ],
      "metadata": {
        "id": "DhGY7NXoyXP8"
      },
      "execution_count": 68,
      "outputs": []
    },
    {
      "cell_type": "markdown",
      "source": [
        "Batch Gradient Descent with L2 norm regularization"
      ],
      "metadata": {
        "id": "RA7hHKkDclu7"
      }
    },
    {
      "cell_type": "code",
      "source": [
        "alpha=0.002 ##learning rate\n",
        "iters=100 ###iterations\n",
        "lamb=3.5\n",
        "batch_w_l2,J_his_l2 = batch_gradient_descent_l2(X,y,w,alpha,iters,lamb)\n",
        "plt.plot(range(iters),J_his_l2)\n",
        "plt.show()"
      ],
      "metadata": {
        "id": "3gPtOVYRxI0Y",
        "colab": {
          "base_uri": "https://localhost:8080/",
          "height": 265
        },
        "outputId": "f838c459-1ab9-450f-97c8-dd2da3bedd29"
      },
      "execution_count": 69,
      "outputs": [
        {
          "output_type": "display_data",
          "data": {
            "image/png": "[encoded data removed]",
            "text/plain": [
              "<Figure size 432x288 with 1 Axes>"
            ]
          },
          "metadata": {
            "needs_background": "light"
          }
        }
      ]
    },
    {
      "cell_type": "markdown",
      "source": [
        "Batch Gradient Descent with L1 norm regularization"
      ],
      "metadata": {
        "id": "n9uLJ-odcrmo"
      }
    },
    {
      "cell_type": "code",
      "source": [
        "alpha=0.004 ##learning rate\n",
        "iters=1000 ###iterations\n",
        "lamb=3\n",
        "batch_w,J_his = batch_gradient_descent_l1(X,y,w,alpha,iters,lamb)\n",
        "\n",
        "plt.plot(range(iters),J_his)\n",
        "plt.show()"
      ],
      "metadata": {
        "id": "T6lAbYYXVwf5",
        "colab": {
          "base_uri": "https://localhost:8080/",
          "height": 265
        },
        "outputId": "c96e8752-a848-44c7-abbd-e625f8ae4426"
      },
      "execution_count": 70,
      "outputs": [
        {
          "output_type": "display_data",
          "data": {
            "image/png": "[encoded data removed]",
            "text/plain": [
              "<Figure size 432x288 with 1 Axes>"
            ]
          },
          "metadata": {
            "needs_background": "light"
          }
        }
      ]
    },
    {
      "cell_type": "code",
      "source": [
        "# print(batch_w)"
      ],
      "metadata": {
        "id": "eNI77tZkV3EY"
      },
      "execution_count": 71,
      "outputs": []
    },
    {
      "cell_type": "code",
      "source": [
        "bgd=batch_w[-1:]\n",
        "print(bgd)"
      ],
      "metadata": {
        "id": "rD9TxKHmV8Ur",
        "colab": {
          "base_uri": "https://localhost:8080/"
        },
        "outputId": "fdb25396-9069-4548-9149-9cb1bc98d3be"
      },
      "execution_count": 72,
      "outputs": [
        {
          "output_type": "stream",
          "name": "stdout",
          "text": [
            "[[1.78991329 1.15029434 1.18273904]]\n"
          ]
        }
      ]
    },
    {
      "cell_type": "code",
      "source": [
        "alpha=0.0005#learning rate\n",
        "iters=300 ###iterations\n",
        "lamb=3\n",
        "batch_w_l1,J_his_l1 = batch_gradient_descent_l1(X,y,w,alpha,iters,lamb)\n",
        "\n",
        "plt.plot(range(iters),J_his_l1)\n",
        "plt.show()"
      ],
      "metadata": {
        "id": "rBvK78AVV_oo",
        "colab": {
          "base_uri": "https://localhost:8080/",
          "height": 265
        },
        "outputId": "acc3117f-d518-402e-e822-b6109248cf21"
      },
      "execution_count": 73,
      "outputs": [
        {
          "output_type": "display_data",
          "data": {
            "image/png": "[encoded data removed]",
            "text/plain": [
              "<Figure size 432x288 with 1 Axes>"
            ]
          },
          "metadata": {
            "needs_background": "light"
          }
        }
      ]
    },
    {
      "cell_type": "code",
      "source": [
        "# print(batch_w_l1)"
      ],
      "metadata": {
        "id": "mG2AGcxUWEEr"
      },
      "execution_count": 74,
      "outputs": []
    },
    {
      "cell_type": "code",
      "source": [
        "bgd_l1=batch_w_l1[-1:]\n",
        "print(bgd_l1)"
      ],
      "metadata": {
        "id": "ZjfVZibOWGBL",
        "colab": {
          "base_uri": "https://localhost:8080/"
        },
        "outputId": "15d57e28-96a2-420a-f120-562e8f5f1506"
      },
      "execution_count": 75,
      "outputs": [
        {
          "output_type": "stream",
          "name": "stdout",
          "text": [
            "[[0.09544143 0.05084858 0.05689333]]\n"
          ]
        }
      ]
    },
    {
      "cell_type": "code",
      "source": [
        "alpha=0.05 \n",
        "iters=300 ###iterations\n",
        "lamb=1\n",
        "w_n,J_sgd = stochastic_gradient_descent(X,y,w,alpha, iters)\n",
        "\n",
        "plt.plot(range(iters),J_sgd)\n",
        "plt.show()"
      ],
      "metadata": {
        "colab": {
          "base_uri": "https://localhost:8080/",
          "height": 265
        },
        "id": "Nzw4bwmRWIBv",
        "outputId": "1c719db3-a83d-4cc1-a1f6-0b8f3b741b27"
      },
      "execution_count": 76,
      "outputs": [
        {
          "output_type": "display_data",
          "data": {
            "image/png": "[encoded data removed]",
            "text/plain": [
              "<Figure size 432x288 with 1 Axes>"
            ]
          },
          "metadata": {
            "needs_background": "light"
          }
        }
      ]
    },
    {
      "cell_type": "code",
      "source": [
        "print(w_n)"
      ],
      "metadata": {
        "id": "x7NjG72IWI1k",
        "colab": {
          "base_uri": "https://localhost:8080/"
        },
        "outputId": "91c440d7-5658-470f-bcb4-1f5c98361abe"
      },
      "execution_count": 77,
      "outputs": [
        {
          "output_type": "stream",
          "name": "stdout",
          "text": [
            "[[ 0.2706394   0.2706394   0.2706394 ]\n",
            " [-0.02988915 -0.02988915 -0.02988915]\n",
            " [ 0.07941826  0.07941826  0.07941826]]\n"
          ]
        }
      ]
    },
    {
      "cell_type": "code",
      "source": [
        "sgd=w_n[-1:]\n",
        "print(sgd)"
      ],
      "metadata": {
        "id": "ajQkMZSLWN6m",
        "colab": {
          "base_uri": "https://localhost:8080/"
        },
        "outputId": "e0c42c1e-6a35-47d4-8162-faabc044be4b"
      },
      "execution_count": 78,
      "outputs": [
        {
          "output_type": "stream",
          "name": "stdout",
          "text": [
            "[[0.07941826 0.07941826 0.07941826]]\n"
          ]
        }
      ]
    },
    {
      "cell_type": "code",
      "source": [
        "alpha=0.002\n",
        "iters=300 ###iterations\n",
        "lamb=1\n",
        "w_n_l1,J_sgd_l1 = stochastic_gradient_descent_l1(X,y,w,alpha, iters,lamb)\n",
        "\n",
        "plt.plot(range(iters),J_sgd_l1)\n",
        "plt.show()"
      ],
      "metadata": {
        "id": "XovdjdqfWP45",
        "colab": {
          "base_uri": "https://localhost:8080/",
          "height": 265
        },
        "outputId": "f2d120a3-3fd0-45dd-fd65-3b9a810f2427"
      },
      "execution_count": 79,
      "outputs": [
        {
          "output_type": "display_data",
          "data": {
            "image/png": "[encoded data removed]",
            "text/plain": [
              "<Figure size 432x288 with 1 Axes>"
            ]
          },
          "metadata": {
            "needs_background": "light"
          }
        }
      ]
    },
    {
      "cell_type": "code",
      "source": [
        "print(w_n_l1)"
      ],
      "metadata": {
        "id": "uLs_Hy1UWR_Y",
        "colab": {
          "base_uri": "https://localhost:8080/"
        },
        "outputId": "7cbaf531-325b-4a83-fba4-91d6c1d67935"
      },
      "execution_count": 80,
      "outputs": [
        {
          "output_type": "stream",
          "name": "stdout",
          "text": [
            "[[0.32189879 0.32189879 0.32189879]\n",
            " [0.29460536 0.29460536 0.29460536]\n",
            " [0.30042504 0.30042504 0.30042504]]\n"
          ]
        }
      ]
    },
    {
      "cell_type": "code",
      "source": [
        "sgd_l1=w_n_l1[-1:]\n",
        "print(sgd_l1)"
      ],
      "metadata": {
        "id": "Q4SoVoBAWVzF",
        "colab": {
          "base_uri": "https://localhost:8080/"
        },
        "outputId": "ab3586e2-8f50-49c3-9219-7b5dcb5b6061"
      },
      "execution_count": 81,
      "outputs": [
        {
          "output_type": "stream",
          "name": "stdout",
          "text": [
            "[[0.30042504 0.30042504 0.30042504]]\n"
          ]
        }
      ]
    },
    {
      "cell_type": "code",
      "source": [
        "alpha=0.01 \n",
        "iters=300 ###iterations\n",
        "lamb=3\n",
        "w_n_l2,J_sgd_l2 = stochastic_gradient_descent_l2(X,y,w,alpha, iters,lamb)\n",
        "plt.plot(range(iters),J_sgd_l2)\n",
        "plt.show()"
      ],
      "metadata": {
        "id": "kSQyK-Y4Wb0d",
        "colab": {
          "base_uri": "https://localhost:8080/",
          "height": 266
        },
        "outputId": "edaae591-e758-4c1a-8e0c-36f681494adb"
      },
      "execution_count": 82,
      "outputs": [
        {
          "output_type": "display_data",
          "data": {
            "image/png": "[encoded data removed]",
            "text/plain": [
              "<Figure size 432x288 with 1 Axes>"
            ]
          },
          "metadata": {
            "needs_background": "light"
          }
        }
      ]
    },
    {
      "cell_type": "code",
      "source": [
        "print(w_n_l2)"
      ],
      "metadata": {
        "id": "r4XTQw3QWflh",
        "colab": {
          "base_uri": "https://localhost:8080/"
        },
        "outputId": "09729ecd-3f4c-486e-ce57-a531035862eb"
      },
      "execution_count": 83,
      "outputs": [
        {
          "output_type": "stream",
          "name": "stdout",
          "text": [
            "[[0.08905796 0.08905796 0.08905796]\n",
            " [0.04593739 0.04593739 0.04593739]\n",
            " [0.05416147 0.05416147 0.05416147]]\n"
          ]
        }
      ]
    },
    {
      "cell_type": "code",
      "source": [
        "sgd_l2=w_n_l2[-1:]\n",
        "print(sgd_l2)"
      ],
      "metadata": {
        "id": "Bseh76ZwWhwY",
        "colab": {
          "base_uri": "https://localhost:8080/"
        },
        "outputId": "351c99f7-8beb-4ecc-b016-db77ed8414a3"
      },
      "execution_count": 84,
      "outputs": [
        {
          "output_type": "stream",
          "name": "stdout",
          "text": [
            "[[0.05416147 0.05416147 0.05416147]]\n"
          ]
        }
      ]
    },
    {
      "cell_type": "code",
      "source": [
        "alpha=0.05 \n",
        "iters=300 ###iterations\n",
        "lamb=3\n",
        "batch_size=25\n",
        "mb_w,J_mb = MB_gradient_descent(X,y,w1,alpha, iters, batch_size)\n",
        "\n",
        "plt.plot(range(iters),J_mb)\n",
        "plt.show()"
      ],
      "metadata": {
        "id": "OozzK1SqWltZ",
        "colab": {
          "base_uri": "https://localhost:8080/",
          "height": 276
        },
        "outputId": "c59888d7-73e3-40f1-f7b6-a6a778a8a434"
      },
      "execution_count": 96,
      "outputs": [
        {
          "output_type": "display_data",
          "data": {
            "image/png": "[encoded data removed]",
            "text/plain": [
              "<Figure size 432x288 with 1 Axes>"
            ]
          },
          "metadata": {
            "needs_background": "light"
          }
        }
      ]
    },
    {
      "cell_type": "markdown",
      "source": [
        "**Performance Measures for Regression**(Self Defined functions)\n"
      ],
      "metadata": {
        "id": "AJOORe1_eGmZ"
      }
    },
    {
      "cell_type": "markdown",
      "source": [
        "Have defined these functions but have not used them because sklearn libraries were allowed to be used which I have used to find the three errors."
      ],
      "metadata": {
        "id": "spuBZpj8v8-f"
      }
    },
    {
      "cell_type": "markdown",
      "source": [
        "Mean Absolute Error"
      ],
      "metadata": {
        "id": "fgu3WxN6eX7d"
      }
    },
    {
      "cell_type": "code",
      "source": [
        "def mean_abs_error(Ypre,Yact):\n",
        "  sum_err=abs(Yact - Ypre)\n",
        "  ma_err=sum_err/Ypre.shape[0]\n",
        "  return ma_err"
      ],
      "metadata": {
        "id": "PaQnCPe0eGUe"
      },
      "execution_count": null,
      "outputs": []
    },
    {
      "cell_type": "markdown",
      "source": [
        "Mean Square Error"
      ],
      "metadata": {
        "id": "zvzdjdLwjnM5"
      }
    },
    {
      "cell_type": "code",
      "source": [
        "def mean_square_error(Ypre,Yact):\n",
        "  sum_error=((Yact - Ypre)**2)\n",
        "  ms_err=sum_error/Ypre.shape[0]\n",
        "  return ms_err"
      ],
      "metadata": {
        "id": "X2RUunq1eGKN"
      },
      "execution_count": null,
      "outputs": []
    },
    {
      "cell_type": "markdown",
      "source": [
        "Correlation Coefficient"
      ],
      "metadata": {
        "id": "2Aj70eXDjzPG"
      }
    },
    {
      "cell_type": "code",
      "source": [
        "def correlation_coeff(test_instances,Ypred,Yact):\n",
        "  ypm=np.mean(Ypred)##mean of Ypred data\n",
        "  yam=np.mean(Yact)##mean of Yactual data\n",
        "  num=((Yact - yam)*(Ypred-ypm))\n",
        "  d1=pow(((Yact - yam)**2),1/2)\n",
        "  d2=pow(((Ypred - ypm)**2),1/2)\n",
        "  c_c=num/(d1*d2)\n",
        "  return c_c"
      ],
      "metadata": {
        "id": "JqKRD5HigWWr"
      },
      "execution_count": null,
      "outputs": []
    },
    {
      "cell_type": "markdown",
      "source": [
        "Finding Errors"
      ],
      "metadata": {
        "id": "an0F5uyPdJCh"
      }
    },
    {
      "cell_type": "markdown",
      "source": [
        "Using sklearn libraries(was allowed)"
      ],
      "metadata": {
        "id": "J5YWRkMlws33"
      }
    },
    {
      "cell_type": "code",
      "source": [
        "from sklearn.metrics import mean_squared_error\n",
        "from sklearn.metrics import mean_absolute_error\n",
        "from sklearn.metrics import matthews_corrcoef"
      ],
      "metadata": {
        "id": "Aao_mEFmwvIF"
      },
      "execution_count": null,
      "outputs": []
    },
    {
      "cell_type": "code",
      "source": [
        "Xte = np.hstack((np.ones((Xte.shape[0],1)) , Xte))\n",
        "Xte.shape\n",
        "print(Xte)\n"
      ],
      "metadata": {
        "id": "bsS2v_8Oykn_"
      },
      "execution_count": null,
      "outputs": []
    },
    {
      "cell_type": "code",
      "source": [
        "y_pred_bgd=Xte.dot(bgd.T)\n",
        "print(mean_squared_error(y_pred_bgd, Yte))\n",
        "print(mean_absolute_error(y_pred_bgd, Yte))\n",
        "print(matthews_corrcoef(y_pred_bgd, Yte))\n",
        "\n",
        "\n",
        "# y_pred_bgd_l1=Xte.dot(bgd_l1.T)\n",
        "# print(mean_squared_error(y_pred_bgd_l1, Yte))\n",
        "# print(mean_absolute_error(y_pred_bgd_l1, Yte))\n",
        "# print(matthews_corrcoef(y_pred_bgd_l1, Yte))\n",
        "\n",
        "# y_pred_bgd_l2=Xte.dot(bgd_l2.T)\n",
        "# print(mean_squared_error(y_pred_bgd_l2, Yte))\n",
        "# print(mean_absolute_error(y_pred_bgd_l2, Yte))\n",
        "# print(matthews_corrcoef(y_pred_bgd_l2, Yte))"
      ],
      "metadata": {
        "id": "UEHELjj5yklo"
      },
      "execution_count": null,
      "outputs": []
    },
    {
      "cell_type": "markdown",
      "source": [
        "Stochastic Gradient descent"
      ],
      "metadata": {
        "id": "aHc6z2Xcz4qu"
      }
    },
    {
      "cell_type": "code",
      "source": [
        "y_pred_sgd=Xte.dot(sgd.T)\n",
        "print(mean_squared_error(y_pred_sgd, Yte))\n",
        "print(mean_absolute_error(y_pred_sgd, Yte))\n",
        "print(matthews_corrcoef(y_pred_sgd, Yte))\n",
        "\n",
        "y_pred_sgd_l1=Xte.dot(sgd_l1.T)\n",
        "print(mean_squared_error(y_pred_sgd_l1, Yte))\n",
        "print(mean_absolute_error(y_pred_sgd_l1, Yte))\n",
        "print(matthews_corrcoef(y_pred_sgd_l1, Yte))\n",
        "\n",
        "y_pred_sgd_l2=Xte.dot(sgd_l2.T)\n",
        "print(mean_squared_error(y_pred_sgd_l2, Yte))\n",
        "print(mean_absolute_error(y_pred_sgd_l2, Yte))\n",
        "print(matthews_corrcoef(y_pred_sgd_l2, Yte))"
      ],
      "metadata": {
        "id": "Mbt5nrEUykjV"
      },
      "execution_count": null,
      "outputs": []
    },
    {
      "cell_type": "markdown",
      "source": [
        "Mini Batch Gradient Descent"
      ],
      "metadata": {
        "id": "ohr0-5gGzzx1"
      }
    }
  ]
}
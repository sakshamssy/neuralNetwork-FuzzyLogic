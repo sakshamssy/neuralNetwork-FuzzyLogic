{
  "nbformat": 4,
  "nbformat_minor": 0,
  "metadata": {
    "colab": {
      "name": "nnfl_LogisticalRegression.ipynb",
      "provenance": [],
      "collapsed_sections": []
    },
    "kernelspec": {
      "name": "python3",
      "display_name": "Python 3"
    },
    "language_info": {
      "name": "python"
    }
  },
  "cells": [
    {
      "cell_type": "code",
      "execution_count": 2,
      "metadata": {
        "colab": {
          "base_uri": "https://localhost:8080/"
        },
        "id": "RPnSULR4EUYb",
        "outputId": "0142f045-feec-460d-a0d6-5bdda2efa5fd"
      },
      "outputs": [
        {
          "output_type": "stream",
          "name": "stdout",
          "text": [
            "Mounted at /content/drive\n"
          ]
        }
      ],
      "source": [
        "from google.colab import drive\n",
        "drive.mount('/content/drive')"
      ]
    },
    {
      "cell_type": "code",
      "source": [
        "import pandas as pd\n",
        "import math\n",
        "import numpy as np\n",
        "import matplotlib.pyplot as plt\n",
        "np.random.seed(0)"
      ],
      "metadata": {
        "id": "A1bvO1MNEe43"
      },
      "execution_count": 3,
      "outputs": []
    },
    {
      "cell_type": "code",
      "source": [
        "pip install openpyxl==3.0.9"
      ],
      "metadata": {
        "colab": {
          "base_uri": "https://localhost:8080/"
        },
        "id": "Spi2913sFb8X",
        "outputId": "a7b4dc24-9f75-46eb-c0a5-1d200802cf3f"
      },
      "execution_count": 4,
      "outputs": [
        {
          "output_type": "stream",
          "name": "stdout",
          "text": [
            "Requirement already satisfied: openpyxl==3.0.9 in /usr/local/lib/python3.7/dist-packages (3.0.9)\n",
            "Requirement already satisfied: et-xmlfile in /usr/local/lib/python3.7/dist-packages (from openpyxl==3.0.9) (1.1.0)\n"
          ]
        }
      ]
    },
    {
      "cell_type": "code",
      "source": [
        "data = pd.read_excel('/content/drive/MyDrive/data3.xlsx',header=None)\n",
        "print(data)"
      ],
      "metadata": {
        "id": "2hnehpijFh2V",
        "colab": {
          "base_uri": "https://localhost:8080/"
        },
        "outputId": "feb7c7d5-01de-4676-a51d-a6eae248897a"
      },
      "execution_count": 8,
      "outputs": [
        {
          "output_type": "stream",
          "name": "stdout",
          "text": [
            "      0    1    2    3    4\n",
            "0   5.1  3.5  1.4  0.2  1.0\n",
            "1   4.9  3.0  1.4  0.2  1.0\n",
            "2   4.7  3.2  1.3  0.2  1.0\n",
            "3   4.6  3.1  1.5  0.2  1.0\n",
            "4   5.0  3.6  1.4  0.2  1.0\n",
            "..  ...  ...  ...  ...  ...\n",
            "95  5.7  3.0  4.2  1.2  2.0\n",
            "96  5.7  2.9  4.2  1.3  2.0\n",
            "97  6.2  2.9  4.3  1.3  2.0\n",
            "98  5.1  2.5  3.0  1.1  2.0\n",
            "99  5.7  2.8  4.1  1.3  2.0\n",
            "\n",
            "[100 rows x 5 columns]\n"
          ]
        }
      ]
    },
    {
      "cell_type": "code",
      "source": [
        "m=data.shape[0]\n",
        "datan=data.values\n",
        "y=datan[:,4] #class labels\n",
        "X=datan[:,0:3] #feature matrix"
      ],
      "metadata": {
        "id": "SK-UMFqx8JD-"
      },
      "execution_count": 10,
      "outputs": []
    },
    {
      "cell_type": "code",
      "source": [
        "print(y)"
      ],
      "metadata": {
        "colab": {
          "base_uri": "https://localhost:8080/"
        },
        "id": "bgGS3XlV84LU",
        "outputId": "2ba0b17e-92c1-4612-f33c-28c118104242"
      },
      "execution_count": 11,
      "outputs": [
        {
          "output_type": "stream",
          "name": "stdout",
          "text": [
            "[1. 1. 1. 1. 1. 1. 1. 1. 1. 1. 1. 1. 1. 1. 1. 1. 1. 1. 1. 1. 1. 1. 1. 1.\n",
            " 1. 1. 1. 1. 1. 1. 1. 1. 1. 1. 1. 1. 1. 1. 1. 1. 1. 1. 1. 1. 1. 1. 1. 1.\n",
            " 1. 1. 2. 2. 2. 2. 2. 2. 2. 2. 2. 2. 2. 2. 2. 2. 2. 2. 2. 2. 2. 2. 2. 2.\n",
            " 2. 2. 2. 2. 2. 2. 2. 2. 2. 2. 2. 2. 2. 2. 2. 2. 2. 2. 2. 2. 2. 2. 2. 2.\n",
            " 2. 2. 2. 2.]\n"
          ]
        }
      ]
    },
    {
      "cell_type": "code",
      "source": [
        "xmin = np.min(X, axis = 0)\n",
        "xmax = np.max(X, axis = 0)\n",
        "X = (X- xmin)/(xmax-xmin) #Normalization"
      ],
      "metadata": {
        "id": "Nc6OvRmD9H2v"
      },
      "execution_count": 12,
      "outputs": []
    },
    {
      "cell_type": "code",
      "source": [
        "pp = np.ones([m, 1]) # vector containg ones as all elements\n",
        "X = np.append(pp,X, axis=1) #Column of ones\n",
        "y=y-1"
      ],
      "metadata": {
        "id": "_QNeud539N1K"
      },
      "execution_count": 13,
      "outputs": []
    },
    {
      "cell_type": "code",
      "source": [
        "def sigmoid(z):\n",
        "  return 1.0/(1 + np.exp(-z)) ###activation function  "
      ],
      "metadata": {
        "id": "T6ZX-vwY9QqM"
      },
      "execution_count": 15,
      "outputs": []
    },
    {
      "cell_type": "code",
      "source": [
        "from sklearn.model_selection import train_test_split"
      ],
      "metadata": {
        "id": "MCyyDPkP9Trj"
      },
      "execution_count": 16,
      "outputs": []
    },
    {
      "cell_type": "code",
      "source": [
        "X_train, X_test, y_train, y_test = train_test_split(\n",
        "X, y, test_size=0.3, random_state=0) ## training test split"
      ],
      "metadata": {
        "id": "VKx2EFaK9b_m"
      },
      "execution_count": 17,
      "outputs": []
    },
    {
      "cell_type": "code",
      "source": [
        "X_train.shape"
      ],
      "metadata": {
        "colab": {
          "base_uri": "https://localhost:8080/"
        },
        "id": "zFe7zpYh9ecT",
        "outputId": "7404cc23-4307-443a-a241-15d056918fe5"
      },
      "execution_count": 18,
      "outputs": [
        {
          "output_type": "execute_result",
          "data": {
            "text/plain": [
              "(70, 4)"
            ]
          },
          "metadata": {},
          "execution_count": 18
        }
      ]
    },
    {
      "cell_type": "code",
      "source": [
        "X_test.shape"
      ],
      "metadata": {
        "colab": {
          "base_uri": "https://localhost:8080/"
        },
        "id": "VsHx-rmR9gg2",
        "outputId": "7642c3ae-102f-4386-e99b-0410b7ba47a0"
      },
      "execution_count": 19,
      "outputs": [
        {
          "output_type": "execute_result",
          "data": {
            "text/plain": [
              "(30, 4)"
            ]
          },
          "metadata": {},
          "execution_count": 19
        }
      ]
    },
    {
      "cell_type": "code",
      "source": [
        "def cost_function(X,y,w): ###define cost function\n",
        "  hypothesis = sigmoid(np.dot(X,w.T)) ###calculation of hypothesis for all instances\n",
        "  J =-(1/m)*(np.sum(y*(np.log(hypothesis)) + (1-y)*np.log(1-hypothesis))) ####as mention in\n",
        "  return J"
      ],
      "metadata": {
        "id": "qX0mFmtv9jKh"
      },
      "execution_count": 21,
      "outputs": []
    },
    {
      "cell_type": "code",
      "source": [
        "def batch_gradient_descent(X,y,w,alpha,iters):\n",
        "  cost_history = np.zeros(iters) # cost function for each iteration\n",
        "  #initalize our cost history list to store the cost function on every iteration\n",
        "  for i in range(iters):\n",
        "    hypothesis = sigmoid(np.dot(X,w.T))\n",
        "    w = w - (alpha/len(y)) * np.dot(hypothesis - y, X)\n",
        "    cost_history[i] = cost_function(X,y,w)\n",
        "  return w,cost_history"
      ],
      "metadata": {
        "id": "-lNHkWsW9mDP"
      },
      "execution_count": 23,
      "outputs": []
    },
    {
      "cell_type": "code",
      "source": [
        "def MB_gradient_descent(X,y,w,alpha, iters, batch_size):\n",
        "  cost_history = np.zeros(iters)\n",
        "  for i in range(iters):\n",
        "    rand_index = np.random.randint(len(y)-batch_size)\n",
        "    ind_x = X[rand_index:rand_index+batch_size]\n",
        "    ind_y = y[rand_index:rand_index+batch_size]\n",
        "    w = w - (alpha/batch_size) * (ind_x.T.dot(sigmoid(ind_x.dot(w)) - ind_y))\n",
        "    cost_history[i] = cost_function(ind_x,ind_y,w)\n",
        "  return w, cost_history"
      ],
      "metadata": {
        "id": "yaR83_qM9s_H"
      },
      "execution_count": 24,
      "outputs": []
    },
    {
      "cell_type": "code",
      "source": [
        "def stochastic_gradient_descent(X,y,w,alpha, iters):\n",
        "  cost_history = np.zeros(iters)\n",
        "  for i in range(iters):\n",
        "    rand_index = np.random.randint(len(y)-1)\n",
        "    ind_x = X[rand_index:rand_index+1]\n",
        "    ind_y = y[rand_index:rand_index+1]\n",
        "    w = w - alpha * (ind_x.T.dot(sigmoid(ind_x.dot(w)) - ind_y))\n",
        "    cost_history[i] = cost_function(ind_x,ind_y,w)\n",
        "    return w,cost_history"
      ],
      "metadata": {
        "id": "oGrUmwI___lu"
      },
      "execution_count": 27,
      "outputs": []
    },
    {
      "cell_type": "code",
      "source": [
        "#w= np.zeros(X.shape[1]) ###weight initialization\n",
        "w = np.random.randn(1,X.shape[1]).ravel()\n",
        "print(w)"
      ],
      "metadata": {
        "colab": {
          "base_uri": "https://localhost:8080/"
        },
        "id": "jlQyQK_NBFAV",
        "outputId": "e9fd7f3c-cfd9-467a-e1b2-8eec992251f0"
      },
      "execution_count": 28,
      "outputs": [
        {
          "output_type": "stream",
          "name": "stdout",
          "text": [
            "[1.76405235 0.40015721 0.97873798 2.2408932 ]\n"
          ]
        }
      ]
    },
    {
      "cell_type": "code",
      "source": [
        "alpha=0.02 ##learning rate\n",
        "iters=2000 ###iterations\n",
        "batch_w,J_his = batch_gradient_descent(X_train,y_train,w,alpha,iters)"
      ],
      "metadata": {
        "id": "VWJ0t_dqBNI2"
      },
      "execution_count": 29,
      "outputs": []
    },
    {
      "cell_type": "code",
      "source": [
        "plt.plot(range(iters),J_his)\n",
        "plt.show()"
      ],
      "metadata": {
        "colab": {
          "base_uri": "https://localhost:8080/",
          "height": 265
        },
        "id": "MNLTN0FFBPm9",
        "outputId": "b7b4755c-7485-4ccd-e295-cf79ce59a07b"
      },
      "execution_count": 30,
      "outputs": [
        {
          "output_type": "display_data",
          "data": {
            "image/png": "[encoded data removed]",
            "text/plain": [
              "<Figure size 432x288 with 1 Axes>"
            ]
          },
          "metadata": {
            "needs_background": "light"
          }
        }
      ]
    },
    {
      "cell_type": "code",
      "source": [
        "alpha=0.02\n",
        "iters=2000\n",
        "batch_size=5\n",
        "mini_batch_w,J_mini_batch = MB_gradient_descent(X_train,y_train,w,alpha,iters, batch_size)\n",
        "plt.plot(range(iters),J_mini_batch)\n",
        "plt.show()"
      ],
      "metadata": {
        "colab": {
          "base_uri": "https://localhost:8080/",
          "height": 265
        },
        "id": "csLj4JWuBR80",
        "outputId": "e2b05ed0-0643-458b-af73-7807e04c8d70"
      },
      "execution_count": 31,
      "outputs": [
        {
          "output_type": "display_data",
          "data": {
            "image/png": "[encoded data removed]",
            "text/plain": [
              "<Figure size 432x288 with 1 Axes>"
            ]
          },
          "metadata": {
            "needs_background": "light"
          }
        }
      ]
    },
    {
      "cell_type": "code",
      "source": [
        "n_epochs=2000\n",
        "alpha=0.02\n",
        "w_n,J_sgd = stochastic_gradient_descent(X_train,y_train,w, alpha, n_epochs)\n",
        "plt.plot(range(n_epochs),J_sgd)\n",
        "plt.show()"
      ],
      "metadata": {
        "colab": {
          "base_uri": "https://localhost:8080/",
          "height": 265
        },
        "id": "ZfoCgw9WBW8K",
        "outputId": "0ece3a96-b036-498d-b912-1e81b840ebd5"
      },
      "execution_count": 32,
      "outputs": [
        {
          "output_type": "display_data",
          "data": {
            "image/png": "[encoded data removed]",
            "text/plain": [
              "<Figure size 432x288 with 1 Axes>"
            ]
          },
          "metadata": {
            "needs_background": "light"
          }
        }
      ]
    },
    {
      "cell_type": "code",
      "source": [
        "z = np.dot(X_test, batch_w.T)\n",
        "#z = np.dot(X_test, mini_batch_w.T)\n",
        "#z = np.dot(X_test, w_n.T)\n",
        "print(z)"
      ],
      "metadata": {
        "colab": {
          "base_uri": "https://localhost:8080/"
        },
        "id": "4n_ZyB2nBaOW",
        "outputId": "3bf20460-7810-464b-f8f1-17879a678efa"
      },
      "execution_count": 33,
      "outputs": [
        {
          "output_type": "stream",
          "name": "stdout",
          "text": [
            "[-1.46610773  2.25179616 -1.68795742  2.06449604  1.99778509  1.06068402\n",
            " -2.05259101  2.3482803   2.32596298  1.61435516  1.87456671  1.71829517\n",
            "  2.0522638  -1.82770238 -1.56814159 -1.28990706 -2.30206673 -1.19986442\n",
            " -2.14668696 -1.42965202 -1.53812738  2.04623203 -1.43179919  1.63404328\n",
            " -1.42195513 -1.72441313 -1.74989199  1.6563606   1.54424166  2.5898181 ]\n"
          ]
        }
      ]
    },
    {
      "cell_type": "code",
      "source": [
        "h = sigmoid(z)\n",
        "y_pred=h>0.5\n",
        "y_pred=y_pred.astype(int)\n",
        "print(y_pred)"
      ],
      "metadata": {
        "colab": {
          "base_uri": "https://localhost:8080/"
        },
        "id": "A_G160J7BqPy",
        "outputId": "b7f53cb9-75ff-469c-ef3c-7a93aa32df4c"
      },
      "execution_count": 35,
      "outputs": [
        {
          "output_type": "stream",
          "name": "stdout",
          "text": [
            "[0 1 0 1 1 1 0 1 1 1 1 1 1 0 0 0 0 0 0 0 0 1 0 1 0 0 0 1 1 1]\n"
          ]
        }
      ]
    },
    {
      "cell_type": "code",
      "source": [
        "from sklearn.metrics import confusion_matrix\n",
        "cm=confusion_matrix(y_test, y_pred)\n",
        "print(cm)"
      ],
      "metadata": {
        "colab": {
          "base_uri": "https://localhost:8080/"
        },
        "id": "IJgFyGlBBuqh",
        "outputId": "a5670b2a-7a68-4ac5-cc35-94ae2fd04716"
      },
      "execution_count": 36,
      "outputs": [
        {
          "output_type": "stream",
          "name": "stdout",
          "text": [
            "[[15  0]\n",
            " [ 0 15]]\n"
          ]
        }
      ]
    },
    {
      "cell_type": "code",
      "source": [
        "accuracy=(cm[0][0]+cm[1][1])/(len(y_test))"
      ],
      "metadata": {
        "id": "7lrBdeDFBzLY"
      },
      "execution_count": 37,
      "outputs": []
    },
    {
      "cell_type": "code",
      "source": [
        "test_accuracy= np.sum(y_test == y_pred) / len(y_test)\n",
        "print(test_accuracy)"
      ],
      "metadata": {
        "colab": {
          "base_uri": "https://localhost:8080/"
        },
        "id": "lLHZnbi5B30F",
        "outputId": "2020ea6c-4fad-425f-d543-057b45d69514"
      },
      "execution_count": 38,
      "outputs": [
        {
          "output_type": "stream",
          "name": "stdout",
          "text": [
            "1.0\n"
          ]
        }
      ]
    },
    {
      "cell_type": "code",
      "source": [
        ""
      ],
      "metadata": {
        "id": "NhKaA2L_B53x"
      },
      "execution_count": null,
      "outputs": []
    }
  ]
}
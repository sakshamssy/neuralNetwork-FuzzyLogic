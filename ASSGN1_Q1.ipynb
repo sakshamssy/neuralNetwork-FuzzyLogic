{
  "nbformat": 4,
  "nbformat_minor": 0,
  "metadata": {
    "colab": {
      "name": "ASSGN1_Q1",
      "provenance": [],
      "collapsed_sections": []
    },
    "kernelspec": {
      "name": "python3",
      "display_name": "Python 3"
    },
    "language_info": {
      "name": "python"
    }
  },
  "cells": [
    {
      "cell_type": "code",
      "execution_count": 307,
      "metadata": {
        "colab": {
          "base_uri": "https://localhost:8080/",
          "height": 0
        },
        "id": "Ydx0PKklRR3o",
        "outputId": "860d76f0-b07c-4ef6-e7fb-dfb14d288e57"
      },
      "outputs": [
        {
          "output_type": "stream",
          "name": "stdout",
          "text": [
            "Drive already mounted at /content/drive; to attempt to forcibly remount, call drive.mount(\"/content/drive\", force_remount=True).\n"
          ]
        }
      ],
      "source": [
        "from google.colab import drive\n",
        "drive.mount('/content/drive')"
      ]
    },
    {
      "cell_type": "code",
      "source": [
        "import pandas as pd\n",
        "import math\n",
        "import numpy as np\n",
        "import matplotlib.pyplot as plt"
      ],
      "metadata": {
        "id": "wLCVgAkw6Jze"
      },
      "execution_count": 308,
      "outputs": []
    },
    {
      "cell_type": "markdown",
      "source": [
        "Linear Regression with L2 norm regularization commented\n"
      ],
      "metadata": {
        "id": "RA7brr2gCCFg"
      }
    },
    {
      "cell_type": "code",
      "source": [
        "def cost_function(X,y,w):\n",
        "  hypothesis = np.dot(X,w.T) ###calculation of hypothesis for all instances\n",
        "  J = (1/(2*len(y))) * np.sum((hypothesis - y) ** 2) ####as mention in the class notes\n",
        "  # J = (1/(2*len(y))) * np.sum((hypothesis - y) ** 2)+(lamb/2)*np.sum(w**2) ####as mention\n",
        "  return J"
      ],
      "metadata": {
        "id": "TRzyVoes6LSV"
      },
      "execution_count": 309,
      "outputs": []
    },
    {
      "cell_type": "code",
      "source": [
        "def batch_gradient_descent(X,y,w,alpha,iters,lamb):\n",
        "  cost_history = np.zeros(iters) # cost function for each iteration\n",
        "  #initalize our cost history list to store the cost function on every iteration\n",
        "  for i in range(iters):\n",
        "    hypothesis = np.dot(X,w.T)\n",
        "    #w = (w*(1-alpha*lamb)) -(alpha/len(y)) * np.dot(hypothesis - y, X)\n",
        "    w = w - (alpha/len(y)) * np.dot(hypothesis - y, X)\n",
        "    #cost_history[i] = cost_function(X,y,w,lamb)\n",
        "    cost_history[i] = cost_function(X,y,w)\n",
        "  return w,cost_history"
      ],
      "metadata": {
        "id": "TRsfyuOK6QJf"
      },
      "execution_count": 310,
      "outputs": []
    },
    {
      "cell_type": "code",
      "source": [
        "def MB_gradient_descent(X,y,w,alpha, iters, batch_size):\n",
        "  cost_history = np.zeros(iters)\n",
        "  for i in range(iters):\n",
        "    rand_index = np.random.randint(len(y)-batch_size)\n",
        "    ind_x = X[rand_index:rand_index+batch_size]\n",
        "    ind_y = y[rand_index:rand_index+batch_size]\n",
        "    w = w - (alpha/batch_size) * (ind_x.T.dot(ind_x.dot(w) - ind_y))\n",
        "    cost_history[i] = cost_function(ind_x,ind_y,w)\n",
        "  return w, cost_history"
      ],
      "metadata": {
        "id": "l7neEv2h6R6Z"
      },
      "execution_count": 311,
      "outputs": []
    },
    {
      "cell_type": "code",
      "source": [
        "def stochastic_gradient_descent(X,y,w,alpha, iters):\n",
        "  cost_history = np.zeros(iters)\n",
        "  for i in range(iters):\n",
        "    rand_index = np.random.randint(len(y)-1)\n",
        "    ind_x = X[rand_index:rand_index+1]\n",
        "    ind_y = y[rand_index:rand_index+1]\n",
        "    w = w - alpha * (ind_x.T.dot(ind_x.dot(w) - ind_y))\n",
        "    cost_history[i] = cost_function(ind_x,ind_y,w)\n",
        "  return w, cost_history"
      ],
      "metadata": {
        "id": "BsZ2V59s6TmP"
      },
      "execution_count": 312,
      "outputs": []
    },
    {
      "cell_type": "markdown",
      "source": [
        "Linear Regression with L2 norm regularization"
      ],
      "metadata": {
        "id": "Ls1Qt_hCCMfA"
      }
    },
    {
      "cell_type": "code",
      "source": [
        "def cost_function_l2(X,y,w,lamb):\n",
        "    hypothesis = np.dot(X,w.T)\n",
        "    #J = (1/(2*len(y)))*np.sum((hypothesis-y)**2)\n",
        "    J= (1/(2*len(y)))*np.sum((hypothesis-y)**2) + (lamb/2)*np.sum(w**2)\n",
        "    return J"
      ],
      "metadata": {
        "id": "yRWSABF7CTuI"
      },
      "execution_count": 313,
      "outputs": []
    },
    {
      "cell_type": "code",
      "source": [
        "def batch_gradient_descent_l2(X,y,w,alpha,iters,lamb):\n",
        "    cost_history = np.zeros(iters)\n",
        "    for i in range(iters):\n",
        "        hypothesis = np.dot(X,w.T)\n",
        "        w = (w*(1-alpha*lamb)) - (alpha/len(y)) * (np.dot(hypothesis - y, X))\n",
        "        cost_history[i] = cost_function_l2(X,y,w,lamb)\n",
        "    return w, cost_history"
      ],
      "metadata": {
        "id": "vz8cNBhcC8pN"
      },
      "execution_count": 314,
      "outputs": []
    },
    {
      "cell_type": "code",
      "source": [
        "def MB_gradient_descent_l2(X,y,w,alpha, iters, batch_size,lamb):\n",
        "    cost_history = np.zeros(iters)\n",
        "    for i in range(iters):\n",
        "        rand_index = np.random.randint(len(y)-batch_size)\n",
        "        ind_x = X[rand_index:rand_index+batch_size]\n",
        "        ind_y = y[rand_index:rand_index+batch_size]\n",
        "        \n",
        "        w = w*int((1-(alpha*lamb))) - (alpha/batch_size) * (np.dot((np.dot(ind_x,w) - ind_y),np.transpose(ind_x)))\n",
        "        cost_history[i] = cost_function_l2(ind_x,ind_y,w,lamb)\n",
        "    return w, cost_history"
      ],
      "metadata": {
        "id": "F5ZOZ6cVTVGd"
      },
      "execution_count": 315,
      "outputs": []
    },
    {
      "cell_type": "code",
      "source": [
        "def stochastic_gradient_descent_l2(X,y,w,alpha, iters,lamb):\n",
        "    cost_history = np.zeros(iters)\n",
        "    for i in range(iters):\n",
        "        rand_index = np.random.randint(len(y)-1)\n",
        "        ind_x = X[rand_index:rand_index+1]\n",
        "        ind_y = y[rand_index:rand_index+1]\n",
        "        w = w*(1-alpha*lamb) - alpha * (ind_x.T.dot(ind_x.dot(w) - ind_y))\n",
        "        cost_history[i] = cost_function_l2(ind_x,ind_y,w,lamb)\n",
        "    return w, cost_history"
      ],
      "metadata": {
        "id": "SFokt_AfTRYg"
      },
      "execution_count": 316,
      "outputs": []
    },
    {
      "cell_type": "markdown",
      "source": [
        "Linear Regression with Least Angle Regression Model"
      ],
      "metadata": {
        "id": "bWWZiOx8VYBA"
      }
    },
    {
      "cell_type": "code",
      "source": [
        "def cost_function_l1(X,y,w,lamb):\n",
        "    hypothesis = np.dot(X,np.transpose(w))\n",
        "    #J = (1/(2*len(y)))*np.sum((hypothesis-y)**2)\n",
        "    J= (1/(2*len(y)))*np.sum((hypothesis-y)**2) + (lamb/2)*np.sum(abs(w))\n",
        "    return J"
      ],
      "metadata": {
        "id": "mQUxIS7yZO-q"
      },
      "execution_count": 317,
      "outputs": []
    },
    {
      "cell_type": "code",
      "source": [
        "def batch_gradient_descent_l1(X,y,w,alpha,iters,lamb):\n",
        "    cost_history = np.zeros(iters)\n",
        "    for i in range(iters):\n",
        "        hypothesis = np.dot(X,w.T)\n",
        "        w = w - (alpha/len(y)) * (np.dot(hypothesis - y, X) - (lamb/2)*np.sign(w))\n",
        "        cost_history[i] = cost_function_l2(X,y,w,lamb)\n",
        "    return w, cost_history"
      ],
      "metadata": {
        "id": "OIKkPqKqZPJg"
      },
      "execution_count": 318,
      "outputs": []
    },
    {
      "cell_type": "code",
      "source": [
        "def stochastic_gradient_descent_l1(X,y,w,alpha, iters,lamb):\n",
        "    cost_history = np.zeros(iters)\n",
        "    for i in range(iters):\n",
        "        rand_index = np.random.randint(len(y)-1)\n",
        "        ind_x = X[rand_index:rand_index+1]\n",
        "        ind_y = y[rand_index:rand_index+1]\n",
        "        w = w - alpha * (ind_x.T.dot(ind_x.dot(w) - ind_y) - (lamb/2)*np.sign(w))\n",
        "        cost_history[i] = cost_function_l1(ind_x,ind_y,w,lamb)\n",
        "    return w, cost_history"
      ],
      "metadata": {
        "id": "L__JGdm7Tu59"
      },
      "execution_count": 319,
      "outputs": []
    },
    {
      "cell_type": "code",
      "source": [
        "def MB_gradient_descent(X,y,w,alpha, iters, batch_size):\n",
        "    cost_history = np.zeros(iters)\n",
        "    for i in range(iters):\n",
        "        rand_index = np.random.randint(len(y)-batch_size)\n",
        "        ind_x = X[rand_index:rand_index+batch_size]\n",
        "        ind_y = y[rand_index:rand_index+batch_size]\n",
        "        \n",
        "        # print((ind_x.T@(ind_x@w - ind_y)).sum(axis=1).shape)\n",
        "        w = w - (alpha/batch_size) * (ind_x.T@(ind_x@w - ind_y)).sum(axis=1)\n",
        "        cost_history[i] = cost_function(ind_x,ind_y,w)\n",
        "    return w, cost_history"
      ],
      "metadata": {
        "id": "aa2dpOO4ZPVZ"
      },
      "execution_count": 320,
      "outputs": []
    },
    {
      "cell_type": "markdown",
      "source": [
        "TrainingData"
      ],
      "metadata": {
        "id": "770tYAsTcRCj"
      }
    },
    {
      "cell_type": "code",
      "source": [
        "dataxtr = pd.read_csv('/content/drive/MyDrive/xtr.csv',header=None)\n",
        "dataytr = pd.read_csv('/content/drive/MyDrive/ytr.csv',header=None)\n"
      ],
      "metadata": {
        "id": "pN6ykAyeikel"
      },
      "execution_count": 321,
      "outputs": []
    },
    {
      "cell_type": "markdown",
      "source": [
        "TestingData"
      ],
      "metadata": {
        "id": "wp6X92ClcVDs"
      }
    },
    {
      "cell_type": "code",
      "source": [
        "dataxte = pd.read_csv('/content/drive/MyDrive/xte.csv',header=None)\n",
        "datayte = pd.read_csv('/content/drive/MyDrive/yte.csv',header=None)\n"
      ],
      "metadata": {
        "id": "kFtlAWlccUum"
      },
      "execution_count": 322,
      "outputs": []
    },
    {
      "cell_type": "code",
      "source": [
        ""
      ],
      "metadata": {
        "id": "WZKCP_iNXams"
      },
      "execution_count": 322,
      "outputs": []
    },
    {
      "cell_type": "code",
      "source": [
        "data_XTraining=dataxtr.values\n",
        "X=data_XTraining[:,:]\n",
        "# print(X)\n",
        "m=X.shape[0]\n",
        "xmin=np.min(X,axis=0)\n",
        "xmax=np.max(X,axis=0)\n",
        "# print(xmin , xmax)\n",
        "X = (X- xmin)/(xmax-xmin) #Normalization\n",
        "# print(X)"
      ],
      "metadata": {
        "id": "Edy94uT_YAzC"
      },
      "execution_count": 323,
      "outputs": []
    },
    {
      "cell_type": "code",
      "source": [
        "pp = np.ones([m, 1]) # vector containg ones as all elements\n",
        "X = np.append(pp,X, axis=1) #Column of ones\n",
        "# print(X)"
      ],
      "metadata": {
        "id": "bnl-xwugYA7S"
      },
      "execution_count": 324,
      "outputs": []
    },
    {
      "cell_type": "code",
      "source": [
        "X.shape"
      ],
      "metadata": {
        "colab": {
          "base_uri": "https://localhost:8080/",
          "height": 0
        },
        "id": "Mnz2SVGshJPK",
        "outputId": "3f00e8c6-650f-454b-fffc-6a5d72406580"
      },
      "execution_count": 325,
      "outputs": [
        {
          "output_type": "execute_result",
          "data": {
            "text/plain": [
              "(55, 3)"
            ]
          },
          "metadata": {},
          "execution_count": 325
        }
      ]
    },
    {
      "cell_type": "code",
      "source": [
        "data_YTraining=dataytr.values\n",
        "Y=data_YTraining[:,:]\n",
        "# print(Y)\n",
        "m=X.shape[0]\n",
        "ymin=np.min(Y,axis=0)\n",
        "ymax=np.max(Y,axis=0)\n",
        "# print(ymin , ymax)\n",
        "y = (Y- ymin)/(ymax-ymin) #Normalization\n",
        "#print(Y)"
      ],
      "metadata": {
        "id": "dGNyLW1bhN3h"
      },
      "execution_count": 326,
      "outputs": []
    },
    {
      "cell_type": "code",
      "source": [
        "datayte_=datayte.values\n",
        "k=datayte_.shape[0]\n",
        "Yte=np.ones([k,1])\n",
        "Yte=np.append(Yte,dataxte_,axis=1)"
      ],
      "metadata": {
        "id": "KFEF8j62yWZV"
      },
      "execution_count": 328,
      "outputs": []
    },
    {
      "cell_type": "code",
      "source": [
        "#Linear regression starts from here\n",
        "w= np.zeros(X.shape[1]) ##weight initialization\n",
        "#w=[0.5, 0.5, 0.5]\n",
        "w1=np.zeros((X.shape[1]))\n",
        "print(w)"
      ],
      "metadata": {
        "colab": {
          "base_uri": "https://localhost:8080/",
          "height": 0
        },
        "id": "if6sUJzJmbZ0",
        "outputId": "1e4758f2-18c0-4baf-c0ae-6fbef10afb15"
      },
      "execution_count": 329,
      "outputs": [
        {
          "output_type": "stream",
          "name": "stdout",
          "text": [
            "[0. 0. 0.]\n"
          ]
        }
      ]
    },
    {
      "cell_type": "markdown",
      "source": [
        "Batch Gradient Descent"
      ],
      "metadata": {
        "id": "6EU9XKiZcfZu"
      }
    },
    {
      "cell_type": "code",
      "source": [
        "alpha=0.005 ##learning rate\n",
        "iters=100 ###iterations\n",
        "lamb=5\n",
        "batch_w,J_his = batch_gradient_descent(X,Y,w,alpha,iters,lamb)"
      ],
      "metadata": {
        "id": "3tim9aWnmfjP"
      },
      "execution_count": 330,
      "outputs": []
    },
    {
      "cell_type": "code",
      "source": [
        "plt.plot(range(iters),J_his)\n",
        "plt.show()"
      ],
      "metadata": {
        "colab": {
          "base_uri": "https://localhost:8080/",
          "height": 265
        },
        "id": "n-NG9zajmh3j",
        "outputId": "3b009b93-8d7a-4554-9b38-a15faca5e88e"
      },
      "execution_count": 331,
      "outputs": [
        {
          "output_type": "display_data",
          "data": {
            "image/png": "[encoded data removed]",
            "text/plain": [
              "<Figure size 432x288 with 1 Axes>"
            ]
          },
          "metadata": {
            "needs_background": "light"
          }
        }
      ]
    },
    {
      "cell_type": "code",
      "source": [
        "print(batch_w[0])"
      ],
      "metadata": {
        "colab": {
          "base_uri": "https://localhost:8080/",
          "height": 0
        },
        "id": "SQl3gbG5mpV0",
        "outputId": "5ac31f05-6be9-4b9a-c5a5-ce0ae0e8722f"
      },
      "execution_count": 332,
      "outputs": [
        {
          "output_type": "stream",
          "name": "stdout",
          "text": [
            "[0.45651057 0.23564335 0.26581355]\n"
          ]
        }
      ]
    },
    {
      "cell_type": "code",
      "source": [
        "# print(y)"
      ],
      "metadata": {
        "id": "DhGY7NXoyXP8"
      },
      "execution_count": 333,
      "outputs": []
    },
    {
      "cell_type": "markdown",
      "source": [
        "Batch Gradient Descent with L2 norm regularization"
      ],
      "metadata": {
        "id": "RA7hHKkDclu7"
      }
    },
    {
      "cell_type": "code",
      "source": [
        "alpha=0.002 ##learning rate\n",
        "iters=100 ###iterations\n",
        "lamb=3.5\n",
        "batch_w_l2,J_his_l2 = batch_gradient_descent_l2(X,y,w,alpha,iters,lamb)\n",
        "plt.plot(range(iters),J_his_l2)\n",
        "plt.show()"
      ],
      "metadata": {
        "id": "3gPtOVYRxI0Y",
        "colab": {
          "base_uri": "https://localhost:8080/",
          "height": 265
        },
        "outputId": "e1fcfa08-1732-4b32-9754-c19add7b79cf"
      },
      "execution_count": 334,
      "outputs": [
        {
          "output_type": "display_data",
          "data": {
            "image/png": "[encoded data removed]",
            "text/plain": [
              "<Figure size 432x288 with 1 Axes>"
            ]
          },
          "metadata": {
            "needs_background": "light"
          }
        }
      ]
    },
    {
      "cell_type": "markdown",
      "source": [
        "Batch Gradient Descent with L1 norm regularization"
      ],
      "metadata": {
        "id": "n9uLJ-odcrmo"
      }
    },
    {
      "cell_type": "code",
      "source": [
        "alpha=0.004 ##learning rate\n",
        "iters=1000 ###iterations\n",
        "lamb=3\n",
        "batch_w,J_his = batch_gradient_descent_l1(X,y,w,alpha,iters,lamb)\n",
        "\n",
        "plt.plot(range(iters),J_his)\n",
        "plt.show()"
      ],
      "metadata": {
        "id": "T6lAbYYXVwf5",
        "colab": {
          "base_uri": "https://localhost:8080/",
          "height": 265
        },
        "outputId": "c6af9ed8-9616-4ed7-aba7-6409663567be"
      },
      "execution_count": 335,
      "outputs": [
        {
          "output_type": "display_data",
          "data": {
            "image/png": "[encoded data removed]",
            "text/plain": [
              "<Figure size 432x288 with 1 Axes>"
            ]
          },
          "metadata": {
            "needs_background": "light"
          }
        }
      ]
    },
    {
      "cell_type": "code",
      "source": [
        "# print(batch_w)"
      ],
      "metadata": {
        "id": "eNI77tZkV3EY"
      },
      "execution_count": 336,
      "outputs": []
    },
    {
      "cell_type": "code",
      "source": [
        "bgd=batch_w[-1:]\n",
        "print(bgd)"
      ],
      "metadata": {
        "id": "rD9TxKHmV8Ur",
        "colab": {
          "base_uri": "https://localhost:8080/",
          "height": 0
        },
        "outputId": "30e99a42-b7b6-4f60-b6d0-2be9574e7393"
      },
      "execution_count": 337,
      "outputs": [
        {
          "output_type": "stream",
          "name": "stdout",
          "text": [
            "[[1.78991329 1.15029434 1.18273904]]\n"
          ]
        }
      ]
    },
    {
      "cell_type": "code",
      "source": [
        "alpha=0.0005#learning rate\n",
        "iters=300 ###iterations\n",
        "lamb=3\n",
        "batch_w_l1,J_his_l1 = batch_gradient_descent_l1(X,y,w,alpha,iters,lamb)\n",
        "\n",
        "plt.plot(range(iters),J_his_l1)\n",
        "plt.show()"
      ],
      "metadata": {
        "id": "rBvK78AVV_oo",
        "colab": {
          "base_uri": "https://localhost:8080/",
          "height": 265
        },
        "outputId": "358c0a50-7054-4ffe-a8e6-e94fee991aa7"
      },
      "execution_count": 338,
      "outputs": [
        {
          "output_type": "display_data",
          "data": {
            "image/png": "[encoded data removed]",
            "text/plain": [
              "<Figure size 432x288 with 1 Axes>"
            ]
          },
          "metadata": {
            "needs_background": "light"
          }
        }
      ]
    },
    {
      "cell_type": "code",
      "source": [
        "# print(batch_w_l1)"
      ],
      "metadata": {
        "id": "mG2AGcxUWEEr"
      },
      "execution_count": 339,
      "outputs": []
    },
    {
      "cell_type": "code",
      "source": [
        "bgd_l1=batch_w_l1[-1:]\n",
        "print(bgd_l1)"
      ],
      "metadata": {
        "id": "ZjfVZibOWGBL",
        "colab": {
          "base_uri": "https://localhost:8080/",
          "height": 0
        },
        "outputId": "7e1df9e7-6786-4d0f-ebfc-997a9ac872a2"
      },
      "execution_count": 340,
      "outputs": [
        {
          "output_type": "stream",
          "name": "stdout",
          "text": [
            "[[0.09544143 0.05084858 0.05689333]]\n"
          ]
        }
      ]
    },
    {
      "cell_type": "code",
      "source": [
        "alpha=0.05 \n",
        "iters=300 ###iterations\n",
        "lamb=1\n",
        "w_n,J_sgd = stochastic_gradient_descent(X,y,w,alpha, iters)\n",
        "\n",
        "plt.plot(range(iters),J_sgd)\n",
        "plt.show()"
      ],
      "metadata": {
        "colab": {
          "base_uri": "https://localhost:8080/",
          "height": 265
        },
        "id": "Nzw4bwmRWIBv",
        "outputId": "e5ac39ff-677f-48aa-f481-601dac1c46ed"
      },
      "execution_count": 341,
      "outputs": [
        {
          "output_type": "display_data",
          "data": {
            "image/png": "[encoded data removed]",
            "text/plain": [
              "<Figure size 432x288 with 1 Axes>"
            ]
          },
          "metadata": {
            "needs_background": "light"
          }
        }
      ]
    },
    {
      "cell_type": "code",
      "source": [
        "print(w_n)"
      ],
      "metadata": {
        "id": "x7NjG72IWI1k",
        "colab": {
          "base_uri": "https://localhost:8080/",
          "height": 0
        },
        "outputId": "68333c92-bf2a-4233-c8ae-40b31cb5b857"
      },
      "execution_count": 342,
      "outputs": [
        {
          "output_type": "stream",
          "name": "stdout",
          "text": [
            "[[ 0.27939833  0.27939833  0.27939833]\n",
            " [-0.02090169 -0.02090169 -0.02090169]\n",
            " [ 0.09714084  0.09714084  0.09714084]]\n"
          ]
        }
      ]
    },
    {
      "cell_type": "code",
      "source": [
        "sgd=w_n[-1:]\n",
        "print(sgd)"
      ],
      "metadata": {
        "id": "ajQkMZSLWN6m",
        "colab": {
          "base_uri": "https://localhost:8080/",
          "height": 0
        },
        "outputId": "be88fb23-c77c-4cdb-a310-74cd614a64b1"
      },
      "execution_count": 343,
      "outputs": [
        {
          "output_type": "stream",
          "name": "stdout",
          "text": [
            "[[0.09714084 0.09714084 0.09714084]]\n"
          ]
        }
      ]
    },
    {
      "cell_type": "code",
      "source": [
        "alpha=0.002\n",
        "iters=300 ###iterations\n",
        "lamb=1\n",
        "w_n_l1,J_sgd_l1 = stochastic_gradient_descent_l1(X,y,w,alpha, iters,lamb)\n",
        "\n",
        "plt.plot(range(iters),J_sgd_l1)\n",
        "plt.show()"
      ],
      "metadata": {
        "id": "XovdjdqfWP45",
        "colab": {
          "base_uri": "https://localhost:8080/",
          "height": 265
        },
        "outputId": "3d6c83ba-b7aa-4a00-9d8c-2690958b75a7"
      },
      "execution_count": 344,
      "outputs": [
        {
          "output_type": "display_data",
          "data": {
            "image/png": "[encoded data removed]",
            "text/plain": [
              "<Figure size 432x288 with 1 Axes>"
            ]
          },
          "metadata": {
            "needs_background": "light"
          }
        }
      ]
    },
    {
      "cell_type": "code",
      "source": [
        "print(w_n_l1)"
      ],
      "metadata": {
        "id": "uLs_Hy1UWR_Y",
        "colab": {
          "base_uri": "https://localhost:8080/",
          "height": 0
        },
        "outputId": "68d13b88-449b-43df-d9d4-584a1faf6ffe"
      },
      "execution_count": 345,
      "outputs": [
        {
          "output_type": "stream",
          "name": "stdout",
          "text": [
            "[[0.32180733 0.32180733 0.32180733]\n",
            " [0.29396355 0.29396355 0.29396355]\n",
            " [0.30018099 0.30018099 0.30018099]]\n"
          ]
        }
      ]
    },
    {
      "cell_type": "code",
      "source": [
        "sgd_l1=w_n_l1[-1:]\n",
        "print(sgd_l1)"
      ],
      "metadata": {
        "id": "Q4SoVoBAWVzF",
        "colab": {
          "base_uri": "https://localhost:8080/",
          "height": 0
        },
        "outputId": "3901697d-3b65-4140-9514-f4bb1d7b48ca"
      },
      "execution_count": 346,
      "outputs": [
        {
          "output_type": "stream",
          "name": "stdout",
          "text": [
            "[[0.30018099 0.30018099 0.30018099]]\n"
          ]
        }
      ]
    },
    {
      "cell_type": "code",
      "source": [
        "alpha=0.01 \n",
        "iters=300 ###iterations\n",
        "lamb=3\n",
        "w_n_l2,J_sgd_l2 = stochastic_gradient_descent_l2(X,y,w,alpha, iters,lamb)\n",
        "plt.plot(range(iters),J_sgd_l2)\n",
        "plt.show()"
      ],
      "metadata": {
        "id": "kSQyK-Y4Wb0d",
        "colab": {
          "base_uri": "https://localhost:8080/",
          "height": 265
        },
        "outputId": "53e7f2fd-992e-4c17-f6bf-210f3cf37db0"
      },
      "execution_count": 347,
      "outputs": [
        {
          "output_type": "display_data",
          "data": {
            "image/png": "[encoded data removed]",
            "text/plain": [
              "<Figure size 432x288 with 1 Axes>"
            ]
          },
          "metadata": {
            "needs_background": "light"
          }
        }
      ]
    },
    {
      "cell_type": "code",
      "source": [
        "print(w_n_l2)"
      ],
      "metadata": {
        "id": "r4XTQw3QWflh",
        "colab": {
          "base_uri": "https://localhost:8080/",
          "height": 0
        },
        "outputId": "00bd316e-9bbb-4962-92aa-8a1d24617d57"
      },
      "execution_count": 348,
      "outputs": [
        {
          "output_type": "stream",
          "name": "stdout",
          "text": [
            "[[0.08481359 0.08481359 0.08481359]\n",
            " [0.04128165 0.04128165 0.04128165]\n",
            " [0.05071442 0.05071442 0.05071442]]\n"
          ]
        }
      ]
    },
    {
      "cell_type": "code",
      "source": [
        "sgd_l2=w_n_l2[-1:]\n",
        "print(sgd_l2)"
      ],
      "metadata": {
        "id": "Bseh76ZwWhwY",
        "colab": {
          "base_uri": "https://localhost:8080/",
          "height": 0
        },
        "outputId": "b5342cce-a963-476e-dafe-ffed34e4e53e"
      },
      "execution_count": 349,
      "outputs": [
        {
          "output_type": "stream",
          "name": "stdout",
          "text": [
            "[[0.05071442 0.05071442 0.05071442]]\n"
          ]
        }
      ]
    },
    {
      "cell_type": "code",
      "source": [
        "alpha=0.05 \n",
        "iters=300 ###iterations\n",
        "lamb=3\n",
        "batch_size=25\n",
        "mb_w,J_mb = MB_gradient_descent(X,y,w1,alpha, iters, batch_size)\n",
        "\n",
        "plt.plot(range(iters),J_mb)\n",
        "plt.show()"
      ],
      "metadata": {
        "id": "OozzK1SqWltZ",
        "colab": {
          "base_uri": "https://localhost:8080/",
          "height": 276
        },
        "outputId": "61a9e967-0ca3-4f5c-8b62-26450569129f"
      },
      "execution_count": 350,
      "outputs": [
        {
          "output_type": "display_data",
          "data": {
            "image/png": "[encoded data removed]",
            "text/plain": [
              "<Figure size 432x288 with 1 Axes>"
            ]
          },
          "metadata": {
            "needs_background": "light"
          }
        }
      ]
    },
    {
      "cell_type": "markdown",
      "source": [
        "**Performance Measures for Regression**(Self Defined functions)\n"
      ],
      "metadata": {
        "id": "AJOORe1_eGmZ"
      }
    },
    {
      "cell_type": "markdown",
      "source": [
        "Have defined these functions but have not used them because sklearn libraries were allowed to be used which I have used to find the three errors."
      ],
      "metadata": {
        "id": "spuBZpj8v8-f"
      }
    },
    {
      "cell_type": "markdown",
      "source": [
        "Mean Absolute Error"
      ],
      "metadata": {
        "id": "fgu3WxN6eX7d"
      }
    },
    {
      "cell_type": "code",
      "source": [
        "def mean_abs_error(Ypre,Yact):\n",
        "  sum_err=abs(Yact - Ypre)\n",
        "  ma_err=sum_err/Ypre.shape[0]\n",
        "  return ma_err"
      ],
      "metadata": {
        "id": "PaQnCPe0eGUe"
      },
      "execution_count": 351,
      "outputs": []
    },
    {
      "cell_type": "markdown",
      "source": [
        "Mean Square Error"
      ],
      "metadata": {
        "id": "zvzdjdLwjnM5"
      }
    },
    {
      "cell_type": "code",
      "source": [
        "def mean_square_error(Ypre,Yact):\n",
        "  sum_error=((Yact - Ypre)**2)\n",
        "  ms_err=sum_error/Ypre.shape[0]\n",
        "  return ms_err"
      ],
      "metadata": {
        "id": "X2RUunq1eGKN"
      },
      "execution_count": 352,
      "outputs": []
    },
    {
      "cell_type": "markdown",
      "source": [
        "Correlation Coefficient"
      ],
      "metadata": {
        "id": "2Aj70eXDjzPG"
      }
    },
    {
      "cell_type": "code",
      "source": [
        "def correlation_coeff(test_instances,Ypred,Yact):\n",
        "  ypm=np.mean(Ypred)##mean of Ypred data\n",
        "  yam=np.mean(Yact)##mean of Yactual data\n",
        "  num=((Yact - yam)*(Ypred-ypm))\n",
        "  d1=pow(((Yact - yam)**2),1/2)\n",
        "  d2=pow(((Ypred - ypm)**2),1/2)\n",
        "  c_c=num/(d1*d2)\n",
        "  return c_c"
      ],
      "metadata": {
        "id": "JqKRD5HigWWr"
      },
      "execution_count": 353,
      "outputs": []
    },
    {
      "cell_type": "markdown",
      "source": [
        "Finding Errors"
      ],
      "metadata": {
        "id": "an0F5uyPdJCh"
      }
    },
    {
      "cell_type": "markdown",
      "source": [
        "Using sklearn libraries(was allowed)"
      ],
      "metadata": {
        "id": "J5YWRkMlws33"
      }
    },
    {
      "cell_type": "code",
      "source": [
        "from sklearn.metrics import mean_squared_error\n",
        "from sklearn.metrics import mean_absolute_error\n",
        "from sklearn.metrics import matthews_corrcoef"
      ],
      "metadata": {
        "id": "Aao_mEFmwvIF"
      },
      "execution_count": 354,
      "outputs": []
    },
    {
      "cell_type": "code",
      "source": [
        "dataxte_=dataxte.values\n",
        "k=dataxte_.shape[0]\n",
        "Xte=np.ones([k,1])\n",
        "Xte=np.append(Xte,dataxte_,axis=1)\n",
        "print(Xte)\n",
        "print(bgd.T)"
      ],
      "metadata": {
        "id": "R5rHpeTLxye_",
        "colab": {
          "base_uri": "https://localhost:8080/",
          "height": 0
        },
        "outputId": "775c60ec-f56c-47f3-8c09-630066838920"
      },
      "execution_count": 327,
      "outputs": [
        {
          "output_type": "stream",
          "name": "stdout",
          "text": [
            "[[ 1.   17.4   8.58]\n",
            " [ 1.   17.86  9.08]\n",
            " [ 1.   18.3   9.58]\n",
            " [ 1.   16.97  8.08]\n",
            " [ 1.   16.46  7.58]\n",
            " [ 1.   17.4   8.58]\n",
            " [ 1.   17.85  9.08]\n",
            " [ 1.   18.3   9.58]\n",
            " [ 1.   16.9   8.08]\n",
            " [ 1.   16.42  7.58]]\n",
            "[[1.78991329]\n",
            " [1.15029434]\n",
            " [1.18273904]]\n"
          ]
        }
      ]
    },
    {
      "cell_type": "code",
      "source": [
        "# Xte = np.hstack((np.ones((Xte.shape[0],1)) , Xte))\n",
        "# Xte.shape\n",
        "# print(Xte)\n"
      ],
      "metadata": {
        "id": "bsS2v_8Oykn_"
      },
      "execution_count": 355,
      "outputs": []
    },
    {
      "cell_type": "code",
      "source": [
        "y_pred_bgd=Xte.dot(bgd.T)\n",
        "print(mean_squared_error(y_pred_bgd, Yte))\n",
        "print(mean_absolute_error(y_pred_bgd, Yte))\n",
        "# print(matthews_corrcoef(y_pred_bgd, Yte))\n",
        "\n",
        "\n",
        "# y_pred_bgd_l1=Xte.dot(bgd_l1.T)\n",
        "# print(mean_squared_error(y_pred_bgd_l1, Yte))\n",
        "# print(mean_absolute_error(y_pred_bgd_l1, Yte))\n",
        "# print(matthews_corrcoef(y_pred_bgd_l1, Yte))\n",
        "\n",
        "# y_pred_bgd_l2=Xte.dot(bgd_l2.T)\n",
        "# print(mean_squared_error(y_pred_bgd_l2, Yte))\n",
        "# print(mean_absolute_error(y_pred_bgd_l2, Yte))\n",
        "# print(matthews_corrcoef(y_pred_bgd_l2, Yte))"
      ],
      "metadata": {
        "id": "UEHELjj5yklo",
        "colab": {
          "base_uri": "https://localhost:8080/",
          "height": 380
        },
        "outputId": "962f689e-77fd-4cf6-f225-0ba930dd823e"
      },
      "execution_count": 359,
      "outputs": [
        {
          "output_type": "error",
          "ename": "ValueError",
          "evalue": "ignored",
          "traceback": [
            "\u001b[0;31m---------------------------------------------------------------------------\u001b[0m",
            "\u001b[0;31mValueError\u001b[0m                                Traceback (most recent call last)",
            "\u001b[0;32m<ipython-input-359-5a96d7ea412b>\u001b[0m in \u001b[0;36m<module>\u001b[0;34m()\u001b[0m\n\u001b[1;32m      1\u001b[0m \u001b[0my_pred_bgd\u001b[0m\u001b[0;34m=\u001b[0m\u001b[0mXte\u001b[0m\u001b[0;34m.\u001b[0m\u001b[0mdot\u001b[0m\u001b[0;34m(\u001b[0m\u001b[0mbgd\u001b[0m\u001b[0;34m.\u001b[0m\u001b[0mT\u001b[0m\u001b[0;34m)\u001b[0m\u001b[0;34m\u001b[0m\u001b[0;34m\u001b[0m\u001b[0m\n\u001b[0;32m----> 2\u001b[0;31m \u001b[0mprint\u001b[0m\u001b[0;34m(\u001b[0m\u001b[0mmean_squared_error\u001b[0m\u001b[0;34m(\u001b[0m\u001b[0my_pred_bgd\u001b[0m\u001b[0;34m,\u001b[0m \u001b[0mYte\u001b[0m\u001b[0;34m)\u001b[0m\u001b[0;34m)\u001b[0m\u001b[0;34m\u001b[0m\u001b[0;34m\u001b[0m\u001b[0m\n\u001b[0m\u001b[1;32m      3\u001b[0m \u001b[0mprint\u001b[0m\u001b[0;34m(\u001b[0m\u001b[0mmean_absolute_error\u001b[0m\u001b[0;34m(\u001b[0m\u001b[0my_pred_bgd\u001b[0m\u001b[0;34m,\u001b[0m \u001b[0mYte\u001b[0m\u001b[0;34m)\u001b[0m\u001b[0;34m)\u001b[0m\u001b[0;34m\u001b[0m\u001b[0;34m\u001b[0m\u001b[0m\n\u001b[1;32m      4\u001b[0m \u001b[0;31m# print(matthews_corrcoef(y_pred_bgd, Yte))\u001b[0m\u001b[0;34m\u001b[0m\u001b[0;34m\u001b[0m\u001b[0;34m\u001b[0m\u001b[0m\n\u001b[1;32m      5\u001b[0m \u001b[0;34m\u001b[0m\u001b[0m\n",
            "\u001b[0;32m/usr/local/lib/python3.7/dist-packages/sklearn/metrics/_regression.py\u001b[0m in \u001b[0;36mmean_squared_error\u001b[0;34m(y_true, y_pred, sample_weight, multioutput, squared)\u001b[0m\n\u001b[1;32m    437\u001b[0m     \"\"\"\n\u001b[1;32m    438\u001b[0m     y_type, y_true, y_pred, multioutput = _check_reg_targets(\n\u001b[0;32m--> 439\u001b[0;31m         \u001b[0my_true\u001b[0m\u001b[0;34m,\u001b[0m \u001b[0my_pred\u001b[0m\u001b[0;34m,\u001b[0m \u001b[0mmultioutput\u001b[0m\u001b[0;34m\u001b[0m\u001b[0;34m\u001b[0m\u001b[0m\n\u001b[0m\u001b[1;32m    440\u001b[0m     )\n\u001b[1;32m    441\u001b[0m     \u001b[0mcheck_consistent_length\u001b[0m\u001b[0;34m(\u001b[0m\u001b[0my_true\u001b[0m\u001b[0;34m,\u001b[0m \u001b[0my_pred\u001b[0m\u001b[0;34m,\u001b[0m \u001b[0msample_weight\u001b[0m\u001b[0;34m)\u001b[0m\u001b[0;34m\u001b[0m\u001b[0;34m\u001b[0m\u001b[0m\n",
            "\u001b[0;32m/usr/local/lib/python3.7/dist-packages/sklearn/metrics/_regression.py\u001b[0m in \u001b[0;36m_check_reg_targets\u001b[0;34m(y_true, y_pred, multioutput, dtype)\u001b[0m\n\u001b[1;32m    105\u001b[0m         raise ValueError(\n\u001b[1;32m    106\u001b[0m             \"y_true and y_pred have different number of output ({0}!={1})\".format(\n\u001b[0;32m--> 107\u001b[0;31m                 \u001b[0my_true\u001b[0m\u001b[0;34m.\u001b[0m\u001b[0mshape\u001b[0m\u001b[0;34m[\u001b[0m\u001b[0;36m1\u001b[0m\u001b[0;34m]\u001b[0m\u001b[0;34m,\u001b[0m \u001b[0my_pred\u001b[0m\u001b[0;34m.\u001b[0m\u001b[0mshape\u001b[0m\u001b[0;34m[\u001b[0m\u001b[0;36m1\u001b[0m\u001b[0;34m]\u001b[0m\u001b[0;34m\u001b[0m\u001b[0;34m\u001b[0m\u001b[0m\n\u001b[0m\u001b[1;32m    108\u001b[0m             )\n\u001b[1;32m    109\u001b[0m         )\n",
            "\u001b[0;31mValueError\u001b[0m: y_true and y_pred have different number of output (1!=3)"
          ]
        }
      ]
    },
    {
      "cell_type": "markdown",
      "source": [
        "Stochastic Gradient descent"
      ],
      "metadata": {
        "id": "aHc6z2Xcz4qu"
      }
    },
    {
      "cell_type": "code",
      "source": [
        "y_pred_sgd=Xte.dot(sgd.T)\n",
        "print(mean_squared_error(y_pred_sgd, Yte))\n",
        "print(mean_absolute_error(y_pred_sgd, Yte))\n",
        "print(matthews_corrcoef(y_pred_sgd, Yte))\n",
        "\n",
        "y_pred_sgd_l1=Xte.dot(sgd_l1.T)\n",
        "print(mean_squared_error(y_pred_sgd_l1, Yte))\n",
        "print(mean_absolute_error(y_pred_sgd_l1, Yte))\n",
        "print(matthews_corrcoef(y_pred_sgd_l1, Yte))\n",
        "\n",
        "y_pred_sgd_l2=Xte.dot(sgd_l2.T)\n",
        "print(mean_squared_error(y_pred_sgd_l2, Yte))\n",
        "print(mean_absolute_error(y_pred_sgd_l2, Yte))\n",
        "print(matthews_corrcoef(y_pred_sgd_l2, Yte))"
      ],
      "metadata": {
        "id": "Mbt5nrEUykjV",
        "colab": {
          "base_uri": "https://localhost:8080/",
          "height": 380
        },
        "outputId": "43e1a702-347a-4b01-d05a-00901ebc3d40"
      },
      "execution_count": 357,
      "outputs": [
        {
          "output_type": "error",
          "ename": "ValueError",
          "evalue": "ignored",
          "traceback": [
            "\u001b[0;31m---------------------------------------------------------------------------\u001b[0m",
            "\u001b[0;31mValueError\u001b[0m                                Traceback (most recent call last)",
            "\u001b[0;32m<ipython-input-357-d5771ea10559>\u001b[0m in \u001b[0;36m<module>\u001b[0;34m()\u001b[0m\n\u001b[1;32m      1\u001b[0m \u001b[0my_pred_sgd\u001b[0m\u001b[0;34m=\u001b[0m\u001b[0mXte\u001b[0m\u001b[0;34m.\u001b[0m\u001b[0mdot\u001b[0m\u001b[0;34m(\u001b[0m\u001b[0msgd\u001b[0m\u001b[0;34m.\u001b[0m\u001b[0mT\u001b[0m\u001b[0;34m)\u001b[0m\u001b[0;34m\u001b[0m\u001b[0;34m\u001b[0m\u001b[0m\n\u001b[0;32m----> 2\u001b[0;31m \u001b[0mprint\u001b[0m\u001b[0;34m(\u001b[0m\u001b[0mmean_squared_error\u001b[0m\u001b[0;34m(\u001b[0m\u001b[0my_pred_sgd\u001b[0m\u001b[0;34m,\u001b[0m \u001b[0mYte\u001b[0m\u001b[0;34m)\u001b[0m\u001b[0;34m)\u001b[0m\u001b[0;34m\u001b[0m\u001b[0;34m\u001b[0m\u001b[0m\n\u001b[0m\u001b[1;32m      3\u001b[0m \u001b[0mprint\u001b[0m\u001b[0;34m(\u001b[0m\u001b[0mmean_absolute_error\u001b[0m\u001b[0;34m(\u001b[0m\u001b[0my_pred_sgd\u001b[0m\u001b[0;34m,\u001b[0m \u001b[0mYte\u001b[0m\u001b[0;34m)\u001b[0m\u001b[0;34m)\u001b[0m\u001b[0;34m\u001b[0m\u001b[0;34m\u001b[0m\u001b[0m\n\u001b[1;32m      4\u001b[0m \u001b[0mprint\u001b[0m\u001b[0;34m(\u001b[0m\u001b[0mmatthews_corrcoef\u001b[0m\u001b[0;34m(\u001b[0m\u001b[0my_pred_sgd\u001b[0m\u001b[0;34m,\u001b[0m \u001b[0mYte\u001b[0m\u001b[0;34m)\u001b[0m\u001b[0;34m)\u001b[0m\u001b[0;34m\u001b[0m\u001b[0;34m\u001b[0m\u001b[0m\n\u001b[1;32m      5\u001b[0m \u001b[0;34m\u001b[0m\u001b[0m\n",
            "\u001b[0;32m/usr/local/lib/python3.7/dist-packages/sklearn/metrics/_regression.py\u001b[0m in \u001b[0;36mmean_squared_error\u001b[0;34m(y_true, y_pred, sample_weight, multioutput, squared)\u001b[0m\n\u001b[1;32m    437\u001b[0m     \"\"\"\n\u001b[1;32m    438\u001b[0m     y_type, y_true, y_pred, multioutput = _check_reg_targets(\n\u001b[0;32m--> 439\u001b[0;31m         \u001b[0my_true\u001b[0m\u001b[0;34m,\u001b[0m \u001b[0my_pred\u001b[0m\u001b[0;34m,\u001b[0m \u001b[0mmultioutput\u001b[0m\u001b[0;34m\u001b[0m\u001b[0;34m\u001b[0m\u001b[0m\n\u001b[0m\u001b[1;32m    440\u001b[0m     )\n\u001b[1;32m    441\u001b[0m     \u001b[0mcheck_consistent_length\u001b[0m\u001b[0;34m(\u001b[0m\u001b[0my_true\u001b[0m\u001b[0;34m,\u001b[0m \u001b[0my_pred\u001b[0m\u001b[0;34m,\u001b[0m \u001b[0msample_weight\u001b[0m\u001b[0;34m)\u001b[0m\u001b[0;34m\u001b[0m\u001b[0;34m\u001b[0m\u001b[0m\n",
            "\u001b[0;32m/usr/local/lib/python3.7/dist-packages/sklearn/metrics/_regression.py\u001b[0m in \u001b[0;36m_check_reg_targets\u001b[0;34m(y_true, y_pred, multioutput, dtype)\u001b[0m\n\u001b[1;32m    105\u001b[0m         raise ValueError(\n\u001b[1;32m    106\u001b[0m             \"y_true and y_pred have different number of output ({0}!={1})\".format(\n\u001b[0;32m--> 107\u001b[0;31m                 \u001b[0my_true\u001b[0m\u001b[0;34m.\u001b[0m\u001b[0mshape\u001b[0m\u001b[0;34m[\u001b[0m\u001b[0;36m1\u001b[0m\u001b[0;34m]\u001b[0m\u001b[0;34m,\u001b[0m \u001b[0my_pred\u001b[0m\u001b[0;34m.\u001b[0m\u001b[0mshape\u001b[0m\u001b[0;34m[\u001b[0m\u001b[0;36m1\u001b[0m\u001b[0;34m]\u001b[0m\u001b[0;34m\u001b[0m\u001b[0;34m\u001b[0m\u001b[0m\n\u001b[0m\u001b[1;32m    108\u001b[0m             )\n\u001b[1;32m    109\u001b[0m         )\n",
            "\u001b[0;31mValueError\u001b[0m: y_true and y_pred have different number of output (1!=3)"
          ]
        }
      ]
    },
    {
      "cell_type": "markdown",
      "source": [
        "Mini Batch Gradient Descent"
      ],
      "metadata": {
        "id": "ohr0-5gGzzx1"
      }
    }
  ]
}
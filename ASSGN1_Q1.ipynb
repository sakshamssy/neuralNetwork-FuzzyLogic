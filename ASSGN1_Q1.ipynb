{
  "nbformat": 4,
  "nbformat_minor": 0,
  "metadata": {
    "colab": {
      "name": "ASSGN1_Q1",
      "provenance": []
    },
    "kernelspec": {
      "name": "python3",
      "display_name": "Python 3"
    },
    "language_info": {
      "name": "python"
    }
  },
  "cells": [
    {
      "cell_type": "code",
      "execution_count": 9,
      "metadata": {
        "colab": {
          "base_uri": "https://localhost:8080/"
        },
        "id": "Ydx0PKklRR3o",
        "outputId": "917251b0-9631-4c4a-d2e7-0022149a5018"
      },
      "outputs": [
        {
          "output_type": "stream",
          "name": "stdout",
          "text": [
            "Drive already mounted at /content/drive; to attempt to forcibly remount, call drive.mount(\"/content/drive\", force_remount=True).\n"
          ]
        }
      ],
      "source": [
        "from google.colab import drive\n",
        "drive.mount('/content/drive')"
      ]
    },
    {
      "cell_type": "code",
      "source": [
        "import pandas as pd\n",
        "import math\n",
        "import numpy as np\n",
        "import matplotlib.pyplot as plt"
      ],
      "metadata": {
        "id": "wLCVgAkw6Jze"
      },
      "execution_count": 10,
      "outputs": []
    },
    {
      "cell_type": "code",
      "source": [
        "def cost_function(X,y,w): ###define cost function\n",
        "  hypothesis = np.dot(X,w.T) ###calculation of hypothesis for all instances\n",
        "  J = (1/(2*len(y))) * np.sum((hypothesis - y) ** 2) ####as mention in the class notes\n",
        "  # J = (1/(2*len(y))) * np.sum((hypothesis - y) ** 2)+(lamb/2)*np.sum(w**2) ####as mention\n",
        "  return J"
      ],
      "metadata": {
        "id": "TRzyVoes6LSV"
      },
      "execution_count": 11,
      "outputs": []
    },
    {
      "cell_type": "code",
      "source": [
        "def batch_gradient_descent(X,y,w,alpha,iters,lamb):\n",
        "  cost_history = np.zeros(iters) # cost function for each iteration\n",
        "  #initalize our cost history list to store the cost function on every iteration\n",
        "  for i in range(iters):\n",
        "    hypothesis = np.dot(X,w.T)\n",
        "    #w = (w*(1-alpha*lamb)) -(alpha/len(y)) * np.dot(hypothesis - y, X)\n",
        "    w = w - (alpha/len(y)) * np.dot(hypothesis - y, X)\n",
        "    #cost_history[i] = cost_function(X,y,w,lamb)\n",
        "    cost_history[i] = cost_function(X,y,w)\n",
        "  return w,cost_history"
      ],
      "metadata": {
        "id": "TRsfyuOK6QJf"
      },
      "execution_count": 12,
      "outputs": []
    },
    {
      "cell_type": "code",
      "source": [
        "def MB_gradient_descent(X,y,w,alpha, iters, batch_size):\n",
        "  cost_history = np.zeros(iters)\n",
        "  for i in range(iters):\n",
        "    rand_index = np.random.randint(len(y)-batch_size)\n",
        "    ind_x = X[rand_index:rand_index+batch_size]\n",
        "    ind_y = y[rand_index:rand_index+batch_size]\n",
        "    w = w - (alpha/batch_size) * (ind_x.T.dot(ind_x.dot(w) - ind_y))\n",
        "    cost_history[i] = cost_function(ind_x,ind_y,w)\n",
        "  return w, cost_history"
      ],
      "metadata": {
        "id": "l7neEv2h6R6Z"
      },
      "execution_count": 13,
      "outputs": []
    },
    {
      "cell_type": "code",
      "source": [
        "def stochastic_gradient_descent(X,y,w,alpha, iters):\n",
        "  cost_history = np.zeros(iters)\n",
        "  for i in range(iters):\n",
        "    rand_index = np.random.randint(len(y)-1)\n",
        "    ind_x = X[rand_index:rand_index+1]\n",
        "    ind_y = y[rand_index:rand_index+1]\n",
        "    w = w - alpha * (ind_x.T.dot(ind_x.dot(w) - ind_y))\n",
        "    cost_history[i] = cost_function(ind_x,ind_y,w)\n",
        "  return w, cost_history"
      ],
      "metadata": {
        "id": "BsZ2V59s6TmP"
      },
      "execution_count": 14,
      "outputs": []
    },
    {
      "cell_type": "markdown",
      "source": [
        "trainingData"
      ],
      "metadata": {
        "id": "770tYAsTcRCj"
      }
    },
    {
      "cell_type": "code",
      "source": [
        "dataxtr = pd.read_csv('/content/drive/MyDrive/xtr.csv',header=None)\n",
        "dataytr = pd.read_csv('/content/drive/MyDrive/ytr.csv',header=None)\n"
      ],
      "metadata": {
        "id": "pN6ykAyeikel"
      },
      "execution_count": 15,
      "outputs": []
    },
    {
      "cell_type": "markdown",
      "source": [
        "TestingData"
      ],
      "metadata": {
        "id": "wp6X92ClcVDs"
      }
    },
    {
      "cell_type": "code",
      "source": [
        "dataxte = pd.read_csv('/content/drive/MyDrive/xte.csv',header=None)\n",
        "datayte = pd.read_csv('/content/drive/MyDrive/yte.csv',header=None)\n"
      ],
      "metadata": {
        "id": "kFtlAWlccUum"
      },
      "execution_count": 16,
      "outputs": []
    },
    {
      "cell_type": "code",
      "source": [
        "data_XTraining=dataxtr.values\n",
        "X=data_XTraining[:,:]\n",
        "# print(X)\n",
        "m=X.shape[0]\n",
        "xmin=np.min(X,axis=0)\n",
        "xmax=np.max(X,axis=0)\n",
        "# print(xmin , xmax)\n",
        "X = (X- xmin)/(xmax-xmin) #Normalization\n",
        "# print(X)"
      ],
      "metadata": {
        "id": "Edy94uT_YAzC"
      },
      "execution_count": 47,
      "outputs": []
    },
    {
      "cell_type": "code",
      "source": [
        "pp = np.ones([m, 1]) # vector containg ones as all elements\n",
        "X = np.append(pp,X, axis=1) #Column of ones\n",
        "print(X)"
      ],
      "metadata": {
        "colab": {
          "base_uri": "https://localhost:8080/"
        },
        "id": "bnl-xwugYA7S",
        "outputId": "308f47a2-787f-4314-ab41-fbe4124a534a"
      },
      "execution_count": 49,
      "outputs": [
        {
          "output_type": "stream",
          "name": "stdout",
          "text": [
            "[[1.         0.51322751 0.0729927 ]\n",
            " [1.         0.51322751 0.74452555]\n",
            " [1.         0.51322751 0.62043796]\n",
            " [1.         0.51322751 0.        ]\n",
            " [1.         0.51322751 0.6350365 ]\n",
            " [1.         0.51322751 0.02919708]\n",
            " [1.         0.51322751 0.57664234]\n",
            " [1.         0.51322751 0.64233577]\n",
            " [1.         0.51322751 0.11678832]\n",
            " [1.         0.51322751 0.64963504]\n",
            " [1.         0.51322751 0.62043796]\n",
            " [1.         0.74603175 0.80291971]\n",
            " [1.         0.97883598 0.43065693]\n",
            " [1.         0.25396825 0.24817518]\n",
            " [1.         0.02116402 0.62773723]\n",
            " [1.         0.51322751 0.81021898]\n",
            " [1.         0.74603175 1.        ]\n",
            " [1.         0.97354497 0.44525547]\n",
            " [1.         0.02116402 0.25547445]\n",
            " [1.         0.50793651 0.64233577]\n",
            " [1.         0.73544974 0.82481752]\n",
            " [1.         0.97354497 1.        ]\n",
            " [1.         0.26984127 0.45985401]\n",
            " [1.         0.02116402 0.28467153]\n",
            " [1.         0.51322751 0.6350365 ]\n",
            " [1.         0.73015873 0.81021898]\n",
            " [1.         0.96296296 1.        ]\n",
            " [1.         0.25925926 0.45255474]\n",
            " [1.         0.02116402 0.27007299]\n",
            " [1.         0.51322751 0.61313869]\n",
            " [1.         0.75661376 0.80291971]\n",
            " [1.         0.98941799 0.98175182]\n",
            " [1.         0.25925926 0.43065693]\n",
            " [1.         0.         0.25182482]\n",
            " [1.         0.51322751 0.61313869]\n",
            " [1.         0.75132275 0.79927007]\n",
            " [1.         0.97883598 0.97810219]\n",
            " [1.         0.26984127 0.4379562 ]\n",
            " [1.         0.01587302 0.25547445]\n",
            " [1.         0.51322751 0.86131387]\n",
            " [1.         0.51322751 0.74452555]\n",
            " [1.         0.51322751 0.60583942]\n",
            " [1.         0.51322751 0.61313869]\n",
            " [1.         0.51322751 0.60583942]\n",
            " [1.         0.51322751 0.61313869]\n",
            " [1.         0.51322751 0.59124088]\n",
            " [1.         0.76719577 0.77372263]\n",
            " [1.         1.         0.95620438]\n",
            " [1.         0.28042328 0.40875912]\n",
            " [1.         0.02645503 0.22627737]\n",
            " [1.         0.51322751 0.59124088]\n",
            " [1.         0.75132275 0.77372263]\n",
            " [1.         0.98412698 0.95620438]\n",
            " [1.         0.26455026 0.40875912]\n",
            " [1.         0.01587302 0.22627737]]\n"
          ]
        }
      ]
    },
    {
      "cell_type": "code",
      "source": [
        "X.shape"
      ],
      "metadata": {
        "colab": {
          "base_uri": "https://localhost:8080/"
        },
        "id": "Mnz2SVGshJPK",
        "outputId": "5f237247-9c30-42b7-a85e-d390d55f09bc"
      },
      "execution_count": 50,
      "outputs": [
        {
          "output_type": "execute_result",
          "data": {
            "text/plain": [
              "(55, 3)"
            ]
          },
          "metadata": {},
          "execution_count": 50
        }
      ]
    },
    {
      "cell_type": "code",
      "source": [
        "data_YTraining=dataytr.values\n",
        "Y=data_YTraining[:,:]\n",
        "# print(Y)\n",
        "# m=X.shape[0]\n",
        "ymin=np.min(Y,axis=0)\n",
        "ymax=np.max(Y,axis=0)\n",
        "# print(ymin , ymax)\n",
        "y = (Y- ymin)/(ymax-ymin) #Normalization\n",
        "# print(Y)"
      ],
      "metadata": {
        "id": "dGNyLW1bhN3h"
      },
      "execution_count": 56,
      "outputs": []
    },
    {
      "cell_type": "code",
      "source": [
        "#Linear regression starts from here\n",
        "w= np.zeros(X.shape[1]) ##weight initialization\n",
        "#w=[0.5, 0.5, 0.5]\n",
        "print(w)"
      ],
      "metadata": {
        "colab": {
          "base_uri": "https://localhost:8080/"
        },
        "id": "if6sUJzJmbZ0",
        "outputId": "b80ce78f-205d-46f8-a8a5-2ba965a722b1"
      },
      "execution_count": 57,
      "outputs": [
        {
          "output_type": "stream",
          "name": "stdout",
          "text": [
            "[0. 0. 0.]\n"
          ]
        }
      ]
    },
    {
      "cell_type": "code",
      "source": [
        "alpha=0.05 ##learning rate\n",
        "iters=100 ###iterations\n",
        "lamb=0.1\n",
        "batch_w,J_his = batch_gradient_descent(X,Y,w,alpha,iters,lamb)"
      ],
      "metadata": {
        "id": "3tim9aWnmfjP"
      },
      "execution_count": 58,
      "outputs": []
    },
    {
      "cell_type": "code",
      "source": [
        "plt.plot(range(iters),J_his)\n",
        "plt.show()"
      ],
      "metadata": {
        "colab": {
          "base_uri": "https://localhost:8080/",
          "height": 265
        },
        "id": "n-NG9zajmh3j",
        "outputId": "5632fbc9-80e6-4f89-a5da-7c1fd711d412"
      },
      "execution_count": 59,
      "outputs": [
        {
          "output_type": "display_data",
          "data": {
            "image/png": "[encoded data removed]",
            "text/plain": [
              "<Figure size 432x288 with 1 Axes>"
            ]
          },
          "metadata": {
            "needs_background": "light"
          }
        }
      ]
    },
    {
      "cell_type": "code",
      "source": [
        "print(batch_w)"
      ],
      "metadata": {
        "colab": {
          "base_uri": "https://localhost:8080/"
        },
        "id": "SQl3gbG5mpV0",
        "outputId": "ede4cc99-69a2-4284-8254-1147a9edce14"
      },
      "execution_count": 60,
      "outputs": [
        {
          "output_type": "stream",
          "name": "stdout",
          "text": [
            "[[ 1.54276325  1.70360337  1.69234304]\n",
            " [-0.46190953  0.92471105  0.74660672]\n",
            " [-0.09148087  1.06863681  0.92136234]\n",
            " [ 1.76066246  1.78826558  1.79514047]\n",
            " [-0.13506071  1.05170436  0.90080286]\n",
            " [ 1.67350278  1.7544007   1.7540215 ]\n",
            " [-0.26074134  0.9659565   0.80943098]\n",
            " [-0.15685063  1.04323814  0.89052312]\n",
            " [ 1.41202372  1.65280605  1.63066459]\n",
            " [-0.17864055  1.03477192  0.88024337]\n",
            " [-0.09148087  1.06863681  0.92136234]\n",
            " [-1.33036457  0.57407209  0.32522869]\n",
            " [-0.91321424  0.72294017  0.51035547]\n",
            " [ 1.79281985  1.81547204  1.82330796]\n",
            " [ 1.6538796   1.81161537  1.80151125]\n",
            " [-0.35801883  1.0019927   0.82769885]\n",
            " [-1.61869245  0.49896176  0.22128545]\n",
            " [-0.64101827  0.86591511  0.67111353]\n",
            " [ 2.76516559  2.24339264  2.32577813]\n",
            " [-0.24107482  0.99850869  0.8403609 ]\n",
            " [-1.46418271  0.51037373  0.25193498]\n",
            " [-2.69705231  0.01784548 -0.34162667]\n",
            " [ 1.01358469  1.49950315  1.44420229]\n",
            " [ 2.27800591  2.00489091  2.0531794 ]\n",
            " [-0.13506071  1.05170436  0.90080286]\n",
            " [-1.30482706  0.58489513  0.33807213]\n",
            " [-2.56550068  0.0818642  -0.26834127]\n",
            " [ 1.16692624  1.5719881   1.52776743]\n",
            " [ 2.42158575  2.07298256  2.13160882]\n",
            " [-0.16969094  1.02594382  0.87377215]\n",
            " [-1.46191619  0.51005337  0.25194329]\n",
            " [-2.68990493  0.01972177 -0.3390505 ]\n",
            " [ 1.132296    1.54622755  1.50073672]\n",
            " [ 2.4391638   2.06870792  2.13026916]\n",
            " [ 0.23030906  1.23058066  1.10525191]\n",
            " [-1.03524542  0.72535308  0.49627065]\n",
            " [-2.24745835  0.24145123 -0.08701541]\n",
            " [ 1.47895446  1.72953866  1.70652128]\n",
            " [ 2.7809414   2.24982239  2.33348586]\n",
            " [-0.71054828  0.84041073  0.64000078]\n",
            " [ 0.33809047  1.33398474  1.20956624]\n",
            " [ 1.05209898  1.64832057  1.57849117]\n",
            " [ 0.53030906  1.38405829  1.27886173]\n",
            " [ 0.55209898  1.39252451  1.28914147]\n",
            " [ 0.88030906  1.56311553  1.48140652]\n",
            " [ 1.09567882  1.66525301  1.59905066]\n",
            " [-0.20630813  1.14496928  0.97208608]\n",
            " [-1.44519183  0.65040457  0.37595242]\n",
            " [ 2.33456252  2.15981773  2.19518432]\n",
            " [ 3.63654947  2.68010146  2.82214889]\n",
            " [ 0.59567882  1.40945696  1.30970096]\n",
            " [-0.65898069  0.90846249  0.70585957]\n",
            " [-1.8978644   0.41389777  0.10972591]\n",
            " [ 1.88188995  1.92331093  1.9289578 ]\n",
            " [ 3.16810109  2.43716491  2.54821465]]\n"
          ]
        }
      ]
    },
    {
      "cell_type": "code",
      "source": [
        "alpha=0.005\n",
        "iters=1200\n",
        "batch_size=50\n",
        "mini_batch_w,J_mini_batch = MB_gradient_descent(X,Y,w,alpha,iters, batch_size)"
      ],
      "metadata": {
        "colab": {
          "base_uri": "https://localhost:8080/",
          "height": 356
        },
        "id": "48k3x074mzy_",
        "outputId": "22dd0938-7705-4255-c651-225d209cbe76"
      },
      "execution_count": 63,
      "outputs": [
        {
          "output_type": "error",
          "ename": "ValueError",
          "evalue": "ignored",
          "traceback": [
            "\u001b[0;31m---------------------------------------------------------------------------\u001b[0m",
            "\u001b[0;31mValueError\u001b[0m                                Traceback (most recent call last)",
            "\u001b[0;32m<ipython-input-63-d72d9bab4937>\u001b[0m in \u001b[0;36m<module>\u001b[0;34m()\u001b[0m\n\u001b[1;32m      2\u001b[0m \u001b[0miters\u001b[0m\u001b[0;34m=\u001b[0m\u001b[0;36m1200\u001b[0m\u001b[0;34m\u001b[0m\u001b[0;34m\u001b[0m\u001b[0m\n\u001b[1;32m      3\u001b[0m \u001b[0mbatch_size\u001b[0m\u001b[0;34m=\u001b[0m\u001b[0;36m50\u001b[0m\u001b[0;34m\u001b[0m\u001b[0;34m\u001b[0m\u001b[0m\n\u001b[0;32m----> 4\u001b[0;31m \u001b[0mmini_batch_w\u001b[0m\u001b[0;34m,\u001b[0m\u001b[0mJ_mini_batch\u001b[0m \u001b[0;34m=\u001b[0m \u001b[0mMB_gradient_descent\u001b[0m\u001b[0;34m(\u001b[0m\u001b[0mX\u001b[0m\u001b[0;34m,\u001b[0m\u001b[0mY\u001b[0m\u001b[0;34m,\u001b[0m\u001b[0mw\u001b[0m\u001b[0;34m,\u001b[0m\u001b[0malpha\u001b[0m\u001b[0;34m,\u001b[0m\u001b[0miters\u001b[0m\u001b[0;34m,\u001b[0m \u001b[0mbatch_size\u001b[0m\u001b[0;34m)\u001b[0m\u001b[0;34m\u001b[0m\u001b[0;34m\u001b[0m\u001b[0m\n\u001b[0m",
            "\u001b[0;32m<ipython-input-13-ab449ba306d5>\u001b[0m in \u001b[0;36mMB_gradient_descent\u001b[0;34m(X, y, w, alpha, iters, batch_size)\u001b[0m\n\u001b[1;32m      5\u001b[0m     \u001b[0mind_x\u001b[0m \u001b[0;34m=\u001b[0m \u001b[0mX\u001b[0m\u001b[0;34m[\u001b[0m\u001b[0mrand_index\u001b[0m\u001b[0;34m:\u001b[0m\u001b[0mrand_index\u001b[0m\u001b[0;34m+\u001b[0m\u001b[0mbatch_size\u001b[0m\u001b[0;34m]\u001b[0m\u001b[0;34m\u001b[0m\u001b[0;34m\u001b[0m\u001b[0m\n\u001b[1;32m      6\u001b[0m     \u001b[0mind_y\u001b[0m \u001b[0;34m=\u001b[0m \u001b[0my\u001b[0m\u001b[0;34m[\u001b[0m\u001b[0mrand_index\u001b[0m\u001b[0;34m:\u001b[0m\u001b[0mrand_index\u001b[0m\u001b[0;34m+\u001b[0m\u001b[0mbatch_size\u001b[0m\u001b[0;34m]\u001b[0m\u001b[0;34m\u001b[0m\u001b[0;34m\u001b[0m\u001b[0m\n\u001b[0;32m----> 7\u001b[0;31m     \u001b[0mw\u001b[0m \u001b[0;34m=\u001b[0m \u001b[0mw\u001b[0m \u001b[0;34m-\u001b[0m \u001b[0;34m(\u001b[0m\u001b[0malpha\u001b[0m\u001b[0;34m/\u001b[0m\u001b[0mbatch_size\u001b[0m\u001b[0;34m)\u001b[0m \u001b[0;34m*\u001b[0m \u001b[0;34m(\u001b[0m\u001b[0mind_x\u001b[0m\u001b[0;34m.\u001b[0m\u001b[0mT\u001b[0m\u001b[0;34m.\u001b[0m\u001b[0mdot\u001b[0m\u001b[0;34m(\u001b[0m\u001b[0mind_x\u001b[0m\u001b[0;34m.\u001b[0m\u001b[0mdot\u001b[0m\u001b[0;34m(\u001b[0m\u001b[0mw\u001b[0m\u001b[0;34m)\u001b[0m \u001b[0;34m-\u001b[0m \u001b[0mind_y\u001b[0m\u001b[0;34m)\u001b[0m\u001b[0;34m)\u001b[0m\u001b[0;34m\u001b[0m\u001b[0;34m\u001b[0m\u001b[0m\n\u001b[0m\u001b[1;32m      8\u001b[0m     \u001b[0mcost_history\u001b[0m\u001b[0;34m[\u001b[0m\u001b[0mi\u001b[0m\u001b[0;34m]\u001b[0m \u001b[0;34m=\u001b[0m \u001b[0mcost_function\u001b[0m\u001b[0;34m(\u001b[0m\u001b[0mind_x\u001b[0m\u001b[0;34m,\u001b[0m\u001b[0mind_y\u001b[0m\u001b[0;34m,\u001b[0m\u001b[0mw\u001b[0m\u001b[0;34m)\u001b[0m\u001b[0;34m\u001b[0m\u001b[0;34m\u001b[0m\u001b[0m\n\u001b[1;32m      9\u001b[0m   \u001b[0;32mreturn\u001b[0m \u001b[0mw\u001b[0m\u001b[0;34m,\u001b[0m \u001b[0mcost_history\u001b[0m\u001b[0;34m\u001b[0m\u001b[0;34m\u001b[0m\u001b[0m\n",
            "\u001b[0;31mValueError\u001b[0m: operands could not be broadcast together with shapes (3,) (3,50) "
          ]
        }
      ]
    },
    {
      "cell_type": "code",
      "source": [
        "plt.plot(range(iters),J_mini_batch)\n",
        "plt.show()"
      ],
      "metadata": {
        "colab": {
          "base_uri": "https://localhost:8080/",
          "height": 182
        },
        "id": "AEP4oN9Bm0Bk",
        "outputId": "2d730bc8-3c0c-47cb-b4ba-624e74e1b994"
      },
      "execution_count": 62,
      "outputs": [
        {
          "output_type": "error",
          "ename": "NameError",
          "evalue": "ignored",
          "traceback": [
            "\u001b[0;31m---------------------------------------------------------------------------\u001b[0m",
            "\u001b[0;31mNameError\u001b[0m                                 Traceback (most recent call last)",
            "\u001b[0;32m<ipython-input-62-9a6e8a3e8662>\u001b[0m in \u001b[0;36m<module>\u001b[0;34m()\u001b[0m\n\u001b[0;32m----> 1\u001b[0;31m \u001b[0mplt\u001b[0m\u001b[0;34m.\u001b[0m\u001b[0mplot\u001b[0m\u001b[0;34m(\u001b[0m\u001b[0mrange\u001b[0m\u001b[0;34m(\u001b[0m\u001b[0miters\u001b[0m\u001b[0;34m)\u001b[0m\u001b[0;34m,\u001b[0m\u001b[0mJ_mini_batch\u001b[0m\u001b[0;34m)\u001b[0m\u001b[0;34m\u001b[0m\u001b[0;34m\u001b[0m\u001b[0m\n\u001b[0m\u001b[1;32m      2\u001b[0m \u001b[0mplt\u001b[0m\u001b[0;34m.\u001b[0m\u001b[0mshow\u001b[0m\u001b[0;34m(\u001b[0m\u001b[0;34m)\u001b[0m\u001b[0;34m\u001b[0m\u001b[0;34m\u001b[0m\u001b[0m\n",
            "\u001b[0;31mNameError\u001b[0m: name 'J_mini_batch' is not defined"
          ]
        }
      ]
    }
  ]
}
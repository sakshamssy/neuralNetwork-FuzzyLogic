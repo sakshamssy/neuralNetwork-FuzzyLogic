{
  "nbformat": 4,
  "nbformat_minor": 0,
  "metadata": {
    "colab": {
      "name": "ASSGN1_Q3",
      "provenance": [],
      "collapsed_sections": []
    },
    "kernelspec": {
      "name": "python3",
      "display_name": "Python 3"
    },
    "language_info": {
      "name": "python"
    }
  },
  "cells": [
    {
      "cell_type": "code",
      "execution_count": 27,
      "metadata": {
        "colab": {
          "base_uri": "https://localhost:8080/"
        },
        "id": "h0jtTsKm489z",
        "outputId": "89be8bb8-6313-4454-f131-02d24e0e5acc"
      },
      "outputs": [
        {
          "output_type": "stream",
          "name": "stdout",
          "text": [
            "Drive already mounted at /content/drive; to attempt to forcibly remount, call drive.mount(\"/content/drive\", force_remount=True).\n"
          ]
        }
      ],
      "source": [
        "from google.colab import drive\n",
        "drive.mount('/content/drive')"
      ]
    },
    {
      "cell_type": "code",
      "source": [
        "import pandas as pd\n",
        "import math\n",
        "import numpy as np\n",
        "import matplotlib.pyplot as plt"
      ],
      "metadata": {
        "id": "nYgP335G56zj"
      },
      "execution_count": 28,
      "outputs": []
    },
    {
      "cell_type": "code",
      "source": [
        "pip install openpyxl==3.0.9"
      ],
      "metadata": {
        "colab": {
          "base_uri": "https://localhost:8080/"
        },
        "id": "HlwCcyRRhAAe",
        "outputId": "c8069bb9-e508-45a7-b4c2-91e5edcd6838"
      },
      "execution_count": 29,
      "outputs": [
        {
          "output_type": "stream",
          "name": "stdout",
          "text": [
            "Requirement already satisfied: openpyxl==3.0.9 in /usr/local/lib/python3.7/dist-packages (3.0.9)\n",
            "Requirement already satisfied: et-xmlfile in /usr/local/lib/python3.7/dist-packages (from openpyxl==3.0.9) (1.1.0)\n"
          ]
        }
      ]
    },
    {
      "cell_type": "markdown",
      "source": [
        "Training Data"
      ],
      "metadata": {
        "id": "iuRb47MTgWkz"
      }
    },
    {
      "cell_type": "code",
      "source": [
        "dataxtr = pd.read_excel('/content/drive/MyDrive/Q3_data/Xtr.xlsx',header=None)\n",
        "dataytr = pd.read_excel('/content/drive/MyDrive/Q3_data/Ytr.xlsx',header=None)"
      ],
      "metadata": {
        "id": "s5CXydMSLJRu"
      },
      "execution_count": 30,
      "outputs": []
    },
    {
      "cell_type": "markdown",
      "source": [
        "Testing Data"
      ],
      "metadata": {
        "id": "5rbQLjLFgwR5"
      }
    },
    {
      "cell_type": "code",
      "source": [
        "dataxte = pd.read_excel('/content/drive/MyDrive/Q3_data/Xte.xlsx',header=None)\n",
        "datayte = pd.read_excel('/content/drive/MyDrive/Q3_data/Yte.xlsx',header=None)"
      ],
      "metadata": {
        "id": "aGFvdpxXgyGO"
      },
      "execution_count": 31,
      "outputs": []
    },
    {
      "cell_type": "code",
      "source": [
        "datanX=dataxtr.values\n",
        "X=datanX[:,0:3] #feature matrix\n",
        "datanY=dataytr.values\n",
        "y=datanY[:,:]"
      ],
      "metadata": {
        "id": "FqWbffHEhN1-"
      },
      "execution_count": 32,
      "outputs": []
    },
    {
      "cell_type": "code",
      "source": [
        "datanXte=dataxte.values\n",
        "Xte=datanXte[:,0:3] #feature matrix\n",
        "datanYt=datayte.values\n",
        "Yte=datanYt[:,:]"
      ],
      "metadata": {
        "id": "szEgiJgnbYqz"
      },
      "execution_count": 33,
      "outputs": []
    },
    {
      "cell_type": "markdown",
      "source": [
        "Normalization"
      ],
      "metadata": {
        "id": "SyLUv9mbhF-V"
      }
    },
    {
      "cell_type": "code",
      "source": [
        "m=dataxtr.shape[0]\n",
        "xmin = np.min(X, axis = 0)\n",
        "xmax = np.max(X, axis = 0)\n",
        "X = (X- xmin)/(xmax-xmin)"
      ],
      "metadata": {
        "id": "BFCz5ZGbhFVs"
      },
      "execution_count": 34,
      "outputs": []
    },
    {
      "cell_type": "code",
      "source": [
        "# print(X)"
      ],
      "metadata": {
        "id": "bJBlZ85uhmjB"
      },
      "execution_count": 35,
      "outputs": []
    },
    {
      "cell_type": "code",
      "source": [
        "pp = np.ones([m, 1]) \n",
        "X = np.append(pp,X, axis=1) \n",
        "y=y-1"
      ],
      "metadata": {
        "id": "_nd2BjnnhpXe"
      },
      "execution_count": 36,
      "outputs": []
    },
    {
      "cell_type": "code",
      "source": [
        "def sigmoid(z):\n",
        "  return 1.0/(1 + np.exp(-z))"
      ],
      "metadata": {
        "id": "Eg4S2X9zizYs"
      },
      "execution_count": 37,
      "outputs": []
    },
    {
      "cell_type": "markdown",
      "source": [
        "Logistical Regression"
      ],
      "metadata": {
        "id": "HPcyGmrPjAVx"
      }
    },
    {
      "cell_type": "code",
      "source": [
        "def cost_function(X,y,w): ###define cost function\n",
        "  hypothesis = sigmoid(np.dot(X,w.T)) ###calculation of hypothesis for all instances\n",
        "  J =-(1/m)*(np.sum(y*(np.log(hypothesis)) + (1-y)*np.log(1-hypothesis))) ####as mention in\n",
        "  return J"
      ],
      "metadata": {
        "id": "N0_OlXcLi-kQ"
      },
      "execution_count": 38,
      "outputs": []
    },
    {
      "cell_type": "code",
      "source": [
        "def batch_gradient_descent(X,y,w,alpha,iters):\n",
        "  cost_history = np.zeros(iters) # cost function for each iteration\n",
        "  #initalize our cost history list to store the cost function on every iteration\n",
        "  for i in range(iters):\n",
        "    hypothesis = sigmoid(np.dot(X,w.T))\n",
        "    w = w - (alpha/len(y)) * np.dot(hypothesis - y, X)\n",
        "    cost_history[i] = cost_function(X,y,w)\n",
        "  return w,cost_history"
      ],
      "metadata": {
        "id": "zFxwJ5wUi-hL"
      },
      "execution_count": 39,
      "outputs": []
    },
    {
      "cell_type": "code",
      "source": [
        "def MB_gradient_descent(X,y,w,alpha, iters, batch_size):\n",
        "  cost_history = np.zeros(iters)\n",
        "  for i in range(iters):\n",
        "    rand_index = np.random.randint(len(y)-batch_size)\n",
        "    ind_x = X[rand_index:rand_index+batch_size]\n",
        "    ind_y = y[rand_index:rand_index+batch_size]\n",
        "    w = w - (alpha/batch_size) * (ind_x.T.dot(sigmoid(ind_x.dot(w)) - ind_y))\n",
        "    cost_history[i] = cost_function(ind_x,ind_y,w)\n",
        "  return w, cost_history"
      ],
      "metadata": {
        "id": "lR95Wdcxi-es"
      },
      "execution_count": 40,
      "outputs": []
    },
    {
      "cell_type": "code",
      "source": [
        "def stochastic_gradient_descent(X,y,w,alpha, iters):\n",
        "  cost_history = np.zeros(iters)\n",
        "  for i in range(iters):\n",
        "    rand_index = np.random.randint(len(y)-1)\n",
        "    ind_x = X[rand_index:rand_index+1]\n",
        "    ind_y = y[rand_index:rand_index+1]\n",
        "    w = w - alpha * (ind_x.T.dot(sigmoid(ind_x.dot(w)) - ind_y))\n",
        "    cost_history[i] = cost_function(ind_x,ind_y,w)\n",
        "    return w,cost_history"
      ],
      "metadata": {
        "id": "_ArXpUz_i-b-"
      },
      "execution_count": 41,
      "outputs": []
    },
    {
      "cell_type": "markdown",
      "source": [
        "Logistical Regression with L1 norm regularization"
      ],
      "metadata": {
        "id": "B1sIxfjwM6cb"
      }
    },
    {
      "cell_type": "code",
      "source": [
        "def cost_function_l1(X,y,w,lamb): ###define cost function\n",
        "  hypothesis = sigmoid(np.dot(X,w.T)) ###calculation of hypothesis for all instances\n",
        "  J =-(1/m)*(np.sum(y*(np.log(hypothesis)) + (1-y)*np.log(1-hypothesis))) + (lamb/2)*np.sign(w) ####as mention in\n",
        "  return J"
      ],
      "metadata": {
        "id": "hYJqZcrhM6Pt"
      },
      "execution_count": 42,
      "outputs": []
    },
    {
      "cell_type": "code",
      "source": [
        "def batch_gradient_descent_l1(X,y,w,alpha,iters,lamb):\n",
        "  cost_history = np.zeros(iters) # cost function for each iteration\n",
        "  for i in range(iters):\n",
        "    hypothesis = sigmoid(np.dot(X,w.T))\n",
        "    w = w - (alpha/len(y)) * np.dot(hypothesis - y, X)- (lamb/2)*np.sign(w)\n",
        "    cost_history[i] = cost_function(X,y,w)\n",
        "  return w,cost_history"
      ],
      "metadata": {
        "id": "m90L3qdAM6CB"
      },
      "execution_count": 43,
      "outputs": []
    },
    {
      "cell_type": "code",
      "source": [
        "##doubtful\n",
        "\n",
        "def MB_gradient_descent_l1(X,y,w,alpha, iters, batch_size):\n",
        "  cost_history = np.zeros(iters)\n",
        "  for i in range(iters):\n",
        "    rand_index = np.random.randint(len(y)-batch_size)\n",
        "    ind_x = X[rand_index:rand_index+batch_size]\n",
        "    ind_y = y[rand_index:rand_index+batch_size]\n",
        "    w = w - (alpha/batch_size) * (ind_x.T.dot(sigmoid(ind_x.dot(w)) - ind_y))\n",
        "    cost_history[i] = cost_function(ind_x,ind_y,w)\n",
        "  return w, cost_history"
      ],
      "metadata": {
        "id": "FCUWPEY3M58D"
      },
      "execution_count": 44,
      "outputs": []
    },
    {
      "cell_type": "code",
      "source": [
        ""
      ],
      "metadata": {
        "id": "udarSQwWM55M"
      },
      "execution_count": 44,
      "outputs": []
    },
    {
      "cell_type": "code",
      "source": [
        "w= np.zeros(X.shape[1]) ##weight initialization\n",
        "#w=[0.5, 0.5, 0.5]\n",
        "print(w)"
      ],
      "metadata": {
        "id": "z31m9qEPi-ZS",
        "colab": {
          "base_uri": "https://localhost:8080/"
        },
        "outputId": "9739ce9e-56bd-464d-91b6-6896bd5d7847"
      },
      "execution_count": 45,
      "outputs": [
        {
          "output_type": "stream",
          "name": "stdout",
          "text": [
            "[0. 0. 0. 0.]\n"
          ]
        }
      ]
    },
    {
      "cell_type": "code",
      "source": [
        "alpha=0.0002 ##learning rate\n",
        "iters=1000 ###iterations\n",
        "batch_w,J_his = batch_gradient_descent(X,y,w,alpha,iters)\n",
        "plt.plot(range(iters),J_his)\n",
        "plt.show()"
      ],
      "metadata": {
        "id": "3SRdFqkJi-Wo"
      },
      "execution_count": null,
      "outputs": []
    },
    {
      "cell_type": "code",
      "source": [
        "# alpha=0.02\n",
        "# iters=2000\n",
        "# batch_size=25\n",
        "# mini_batch_w,J_mini_batch = MB_gradient_descent(X,y,w,alpha,iters, batch_size)\n",
        "# plt.plot(range(iters),J_mini_batch)\n",
        "# plt.show()"
      ],
      "metadata": {
        "id": "rMVZUXpfi-T8"
      },
      "execution_count": null,
      "outputs": []
    },
    {
      "cell_type": "code",
      "source": [
        "n_epochs=2000\n",
        "alpha=0.02\n",
        "w_n,J_sgd = stochastic_gradient_descent(X,y,w, alpha, n_epochs)\n",
        "plt.plot(range(n_epochs),J_sgd)\n",
        "plt.show()"
      ],
      "metadata": {
        "id": "-lriTLDni-RC"
      },
      "execution_count": null,
      "outputs": []
    },
    {
      "cell_type": "code",
      "source": [
        "z_btch = np.dot(X, batch_w.T)\n",
        "# z_mbtch = np.dot(X, mini_batch_w.T)\n",
        "z_ = np.dot(X, w_n.T)\n",
        "# print(z_btch)\n",
        "# print(z_)"
      ],
      "metadata": {
        "id": "nwYfg9xki-No"
      },
      "execution_count": null,
      "outputs": []
    },
    {
      "cell_type": "code",
      "source": [
        "from sklearn.metrics import confusion_matrix\n",
        "cm=confusion_matrix(y_test, y_pred)\n",
        "print(cm)"
      ],
      "metadata": {
        "id": "atvaqwnFi-Kf"
      },
      "execution_count": null,
      "outputs": []
    },
    {
      "cell_type": "code",
      "source": [
        "def sensitivity(cm):\n",
        "  tp=cm[1][1]\n",
        "  tn=cm[0][0]\n",
        "  fp=cm[0][1]\n",
        "  fn=cm[1][0]\n",
        "  se=tp/(tp+fn)\n",
        "  return se"
      ],
      "metadata": {
        "id": "_CPsJ-q5-OQV"
      },
      "execution_count": null,
      "outputs": []
    },
    {
      "cell_type": "code",
      "source": [
        "def specificity(cm):\n",
        "  tp=cm[1][1]\n",
        "  tn=cm[0][0]\n",
        "  fp=cm[0][1]\n",
        "  fn=cm[1][0]\n",
        "  sp=tn/(tn+fp)\n",
        "  return sp"
      ],
      "metadata": {
        "id": "UBL1EzYG-SBz"
      },
      "execution_count": null,
      "outputs": []
    },
    {
      "cell_type": "code",
      "source": [
        "def accuracy(cm):\n",
        "  tp=cm[1][1]\n",
        "  tn=cm[0][0]\n",
        "  fp=cm[0][1]\n",
        "  fn=cm[1][0]\n",
        "  ac=(tp+tn)/(tp+tn+fp+fn)\n",
        "  return ac"
      ],
      "metadata": {
        "id": "_vYASEPP-R_T"
      },
      "execution_count": null,
      "outputs": []
    },
    {
      "cell_type": "code",
      "source": [
        "def precision(cm):\n",
        "  tp=cm[1][1]\n",
        "  tn=cm[0][0]\n",
        "  fp=cm[0][1]\n",
        "  fn=cm[1][0]\n",
        "  pr=tp/(tp+fp)\n",
        "  return pr"
      ],
      "metadata": {
        "id": "-_g4Oz8X-9aS"
      },
      "execution_count": null,
      "outputs": []
    },
    {
      "cell_type": "code",
      "source": [
        ""
      ],
      "metadata": {
        "id": "Sm-yiYC5_SL4"
      },
      "execution_count": null,
      "outputs": []
    }
  ]
}